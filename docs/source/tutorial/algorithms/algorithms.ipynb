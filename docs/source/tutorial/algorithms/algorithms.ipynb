{
 "cells": [
  {
   "cell_type": "markdown",
   "metadata": {},
   "source": [
    "## Algorithms"
   ]
  },
  {
   "cell_type": "markdown",
   "metadata": {},
   "source": [
    "Propagation algorithms is a fundamental key in Diffractio package. The algorithms implmented are:\n",
    "\n",
    "**Scalar Propagation**\n",
    "* Fast Fourier Transform (FFT).\n",
    "* Rayleigh Sommerfeld (RS).\n",
    "* Plane Wave Descomposition (PWD).\n",
    "* Beam Propagation Method (BPM).\n",
    "* Wave Propagation Method (WPM).\n",
    "* Chirp z transform (CZT).\n",
    "\n",
    "**Vector propagation**\n",
    "* Vector Fast Fourier Tranform (VFFT).\n",
    "* Vectorial Rayleigh-Sommerfeld (VRS).\n"
   ]
  },
  {
   "cell_type": "markdown",
   "metadata": {},
   "source": [
    "**Fast Fourier Transform (FFT)**\n",
    "\n",
    "It allows, in a single step to determine the field at the far field.\n",
    "The fields and the masks must be defined in a plane.\n"
   ]
  },
  {
   "cell_type": "markdown",
   "metadata": {},
   "source": [
    "**Rayleigh-Sommerfeld (RS)**\n",
    "- <div class=\"csl-entry\">Shen, F., &#38; Wang, A. (2006). Fast-Fourier-transform based numerical integration method for the Rayleigh-Sommerfeld diffraction formula. <i>Applied Optics</i>, <i>45</i>(6), 1102–1110. https://doi.org/10.1364/AO.45.001102</div>\n",
    "\n",
    "Single step to propagate to a near or far observation plane, which allows fast computations. \n"
   ]
  },
  {
   "cell_type": "markdown",
   "metadata": {},
   "source": [
    "**Plane Wave Descomposition (PWD)**. \n",
    "\n",
    "- <div class=\"csl-entry\">Scheffers, h. (1942). Vereinfachte  Ableitung  der  Formeln  fur  die  Fraunhoferschen  Beugungserscheinungen. <i> Annalen der Physik</i>,  <i>434</i>(2), 211-215. https://doi.org/10.1002/andp.19424340210</div>\n",
    "\n",
    "It provides the key idea of the wave propagation method because it emphasizes the decomposition of a field E(r) into its plane waves components by the Fourier transformation.\n"
   ]
  },
  {
   "cell_type": "markdown",
   "metadata": {},
   "source": [
    "**Beam propagation method (BPM)** \n",
    "\n",
    "- <div class=\"csl-entry\">Feit, M. D., &#38; Fleck, J. A. (1978). <i>Light propagation in graded-index optical fibers</i>.</div>\n",
    "\n",
    "Propation of light in volumetric elements, provided that the spatial variations in the refraction index are small. It allows graded index structures. It presents a complexity of O(n) in the two-dimensional and O(n2) in the three-dimensional case. Computed according to split-step propagation scheme.\n"
   ]
  },
  {
   "cell_type": "markdown",
   "metadata": {},
   "source": [
    "\n",
    "**Wave Propagation Method (WPM)**\n",
    "\n",
    "- <div class=\"csl-entry\">Brenner, K.-H. H., &#38; Singer, W. (1993). Light propagation through microlenses: a new simulation method. <i>Applied Optics</i>, <i>32</i>(26), 4984–4988. https://doi.org/10.1364/ao.32.004984</div>\n",
    "\n",
    "- <div class=\"csl-entry\">Brenner, K. H. (2017). A high-speed version of the wave propagation method applied to micro-optics. <i>2017 16th Workshop on Information Optics, WIO 2017</i>, <i>1</i>, 2–4. https://doi.org/10.1109/WIO.2017.8038108</div>\n",
    " \n",
    "\n",
    "- <div class=\"csl-entry\">Schmidt, S., Thiele, S., Herkommer, A., Tünnermann, A., &#38; Gross, H. (2017). Rotationally symmetric formulation of the wave propagation method-application to the straylight analysis of diffractive lenses. <i>Optics Letters</i>, <i>42</i>(8), 1612. https://doi.org/10.1364/ol.42.001612</div>\n",
    "\n",
    "Solves the major limitations of the beam propagation method (BPM). The wave propagation scheme provides valid results for propagation angles up to 85° and that it is not limited to small index variations in the axis of propagation. Very fast with a discrete number of refraction indexes.\n",
    "\n"
   ]
  },
  {
   "cell_type": "markdown",
   "metadata": {},
   "source": [
    "**Chirped z Transform (CZT)**\n",
    "\n",
    "- <div class=\"csl-entry\">Leutenegger, M., Rao, R., Leitgeb, R. A., &#38; Lasser, T. (2006). Fast focus field calculations. <i>Optics Express</i>, <i>14</i>(23), 11277–11291. http://lob.epfl.ch/</div>\n",
    "\n",
    "- <div class=\"csl-entry\">Hu, Y., Wang, Z., Wang, X., Ji, S., Zhang, C., Li, J., Zhu, W., Wu, D., &#38; Chu, J. (2020). Efficient full-path optical calculation of scalar and vector diffraction using the Bluestein method. <i>Light: Science and Applications</i>, <i>9</i>(1). https://doi.org/10.1038/s41377-020-00362-z</div>"
   ]
  },
  {
   "cell_type": "markdown",
   "metadata": {},
   "source": [
    "**Vectorial Fast Fourier Transform (FFT)**. "
   ]
  },
  {
   "cell_type": "markdown",
   "metadata": {},
   "source": [
    "**Vectorial Rayleigh-Sommerfeld (VRS)**.\n",
    "\n",
    "- <div class=\"csl-entry\">Ye, H., Qiu, C. W., Huang, K., Teng, J., Luk’Yanchuk, B., &#38; Yeo, S. P. (2013). Creation of a longitudinally polarized subwavelength hotspot with an ultra-thin planar lens: Vectorial Rayleigh-Sommerfeld method. <i>Laser Physics Letters</i>, <i>10</i>(6). https://doi.org/10.1088/1612-2011/10/6/065004</div>\n",
    "\n",
    " The VRS method propagates (Ex,Ey,Ez) fields offering the advantage of significant reduction in computation, from flat diffractive elements (Thin Element Approximation) with full control of polarization. It addresses simultaneously both longitudinal polarization. This approach offers the advantage of significant reduction in computation."
   ]
  },
  {
   "cell_type": "markdown",
   "metadata": {},
   "source": [
    "### TODO\n",
    "\n",
    "VWPM (Vector Wave Propagation Method)"
   ]
  },
  {
   "cell_type": "markdown",
   "metadata": {},
   "source": []
  },
  {
   "cell_type": "markdown",
   "metadata": {},
   "source": []
  }
 ],
 "metadata": {
  "kernelspec": {
   "display_name": "Python 3.10.4 64-bit",
   "language": "python",
   "name": "python3"
  },
  "language_info": {
   "codemirror_mode": {
    "name": "ipython",
    "version": 3
   },
   "file_extension": ".py",
   "mimetype": "text/x-python",
   "name": "python",
   "nbconvert_exporter": "python",
   "pygments_lexer": "ipython3",
   "version": "3.10.4"
  },
  "toc": {
   "base_numbering": 1,
   "nav_menu": {},
   "number_sections": true,
   "sideBar": true,
   "skip_h1_title": false,
   "title_cell": "Table of Contents",
   "title_sidebar": "Contents",
   "toc_cell": false,
   "toc_position": {
    "height": "calc(100% - 180px)",
    "left": "10px",
    "top": "150px",
    "width": "191.667px"
   },
   "toc_section_display": true,
   "toc_window_display": false
  },
  "varInspector": {
   "cols": {
    "lenName": 16,
    "lenType": 16,
    "lenVar": 40
   },
   "kernels_config": {
    "python": {
     "delete_cmd_postfix": "",
     "delete_cmd_prefix": "del ",
     "library": "var_list.py",
     "varRefreshCmd": "print(var_dic_list())"
    },
    "r": {
     "delete_cmd_postfix": ") ",
     "delete_cmd_prefix": "rm(",
     "library": "var_list.r",
     "varRefreshCmd": "cat(var_dic_list()) "
    }
   },
   "types_to_exclude": [
    "module",
    "function",
    "builtin_function_or_method",
    "instance",
    "_Feature"
   ],
   "window_display": false
  },
  "vscode": {
   "interpreter": {
    "hash": "31f2aee4e71d21fbe5cf8b01ff0e069b9275f58929596ceb00d14d90e3e16cd6"
   }
  }
 },
 "nbformat": 4,
 "nbformat_minor": 4
}
