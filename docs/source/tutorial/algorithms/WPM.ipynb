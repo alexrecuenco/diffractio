{
 "cells": [
  {
   "cell_type": "markdown",
   "metadata": {},
   "source": [
    "# Wave propagation Method (WPM)"
   ]
  },
  {
   "cell_type": "code",
   "execution_count": 15,
   "metadata": {
    "ExecuteTime": {
     "end_time": "2020-05-01T22:03:09.074155Z",
     "start_time": "2020-05-01T22:03:08.024478Z"
    }
   },
   "outputs": [],
   "source": [
    "from diffractio import sp, nm, plt, np, mm, degrees, um\n",
    "from diffractio.scalar_sources_X import Scalar_source_X\n",
    "from diffractio.scalar_fields_XZ import Scalar_field_XZ\n",
    "from diffractio.scalar_masks_XZ import Scalar_mask_XZ\n",
    "from diffractio.scalar_masks_X import Scalar_mask_X\n",
    "\n",
    "from diffractio.utils_math import ndgrid\n",
    "\n",
    "import matplotlib.cm as cm"
   ]
  },
  {
   "cell_type": "markdown",
   "metadata": {},
   "source": [
    "## XZ Scheme"
   ]
  },
  {
   "cell_type": "code",
   "execution_count": 16,
   "metadata": {
    "ExecuteTime": {
     "end_time": "2020-05-01T22:03:09.121269Z",
     "start_time": "2020-05-01T22:03:09.100123Z"
    }
   },
   "outputs": [],
   "source": [
    "x0 = np.linspace(-500*um, 500*um, 1024*4)\n",
    "z0 = np.linspace(-0.1 * mm, 1.25*mm, 1024*2)\n",
    "wavelength = 25 * um"
   ]
  },
  {
   "cell_type": "code",
   "execution_count": 17,
   "metadata": {
    "ExecuteTime": {
     "end_time": "2020-05-01T22:03:09.146860Z",
     "start_time": "2020-05-01T22:03:09.124016Z"
    }
   },
   "outputs": [],
   "source": [
    "u0 = Scalar_source_X(x0, wavelength)\n",
    "u0.plane_wave(A=1, theta=0 * degrees)"
   ]
  },
  {
   "cell_type": "code",
   "execution_count": 18,
   "metadata": {
    "ExecuteTime": {
     "end_time": "2020-05-01T22:03:11.463513Z",
     "start_time": "2020-05-01T22:03:09.150871Z"
    },
    "scrolled": true
   },
   "outputs": [
    {
     "data": {
      "image/png": "[encoded data removed]",
      "text/plain": [
       "<Figure size 432x288 with 2 Axes>"
      ]
     },
     "metadata": {
      "needs_background": "light"
     },
     "output_type": "display_data"
    }
   ],
   "source": [
    "lens = Scalar_mask_XZ(x0, z0, wavelength, n_background=1, info='')\n",
    "ipasa, conds= lens.aspheric_lens(r0=(0*mm,0*mm), angle=(0*degrees, (0*mm,0*mm)), \n",
    "                                   refraction_index=1.5, \n",
    "                                   cx=(1/(1*mm),-1/(.25*mm)),Qx=(0,0), \n",
    "                                   a2=(0,1e-13), a3=(0,0), a4=(0,0),\n",
    "                                   depth=.4*mm,  size=0.8*mm)\n",
    "\n",
    "lens.slit(r0=(0,100*um),\n",
    "    aperture=800*um,\n",
    "    depth=75*um,\n",
    "    refraction_index=1+2j)\n",
    "\n",
    "\n",
    "lens.draw_refraction_index(draw_borders=True, min_incr=0.01,colormap_kind=cm.Blues, colorbar_kind='vertical');"
   ]
  },
  {
   "cell_type": "markdown",
   "metadata": {},
   "source": [
    "## WPM"
   ]
  },
  {
   "cell_type": "code",
   "execution_count": 104,
   "metadata": {
    "ExecuteTime": {
     "end_time": "2020-05-01T22:03:09.121269Z",
     "start_time": "2020-05-01T22:03:09.100123Z"
    }
   },
   "outputs": [],
   "source": [
    "x0 = np.linspace(-450*um, 450*um, 1024*4)\n",
    "z0 = np.linspace(-0.1 * mm, 1.25*mm, 1024*2)\n",
    "wavelength = 2 * um"
   ]
  },
  {
   "cell_type": "code",
   "execution_count": 105,
   "metadata": {
    "ExecuteTime": {
     "end_time": "2020-05-01T22:03:09.146860Z",
     "start_time": "2020-05-01T22:03:09.124016Z"
    }
   },
   "outputs": [],
   "source": [
    "u0 = Scalar_source_X(x0, wavelength)\n",
    "u0.plane_wave(A=1, theta=0 * degrees)"
   ]
  },
  {
   "cell_type": "code",
   "execution_count": 106,
   "metadata": {
    "ExecuteTime": {
     "end_time": "2020-05-01T22:03:11.463513Z",
     "start_time": "2020-05-01T22:03:09.150871Z"
    },
    "scrolled": true
   },
   "outputs": [
    {
     "data": {
      "image/png": "[encoded data removed]",
      "text/plain": [
       "<Figure size 432x288 with 2 Axes>"
      ]
     },
     "metadata": {
      "needs_background": "light"
     },
     "output_type": "display_data"
    }
   ],
   "source": [
    "lens2 = Scalar_mask_XZ(x0, z0, wavelength, n_background=1, info='')\n",
    "ipasa, conds= lens2.aspheric_lens(r0=(0*mm,0*mm), angle=(0*degrees, (0*mm,0*mm)), \n",
    "                                   refraction_index=1.5, \n",
    "                                   cx=(1/(1*mm),-1/(.25*mm)),Qx=(0,0), \n",
    "                                   a2=(0,1e-13), a3=(0,0), a4=(0,0),\n",
    "                                   depth=.4*mm,  size=0.8*mm)\n",
    "\n",
    "lens2.slit(r0=(0,100*um), aperture=800*um, depth=75*um, refraction_index=1+5j)\n",
    "\n",
    "lens2.draw_refraction_index(draw_borders=True, min_incr=0.01, colorbar_kind='vertical');"
   ]
  },
  {
   "cell_type": "code",
   "execution_count": 107,
   "metadata": {
    "ExecuteTime": {
     "end_time": "2020-05-01T22:03:11.627767Z",
     "start_time": "2020-05-01T22:03:11.466443Z"
    }
   },
   "outputs": [],
   "source": [
    "lens2.filter_refraction_index(type_filter=2, pixels_filtering=15);"
   ]
  },
  {
   "cell_type": "code",
   "execution_count": 108,
   "metadata": {},
   "outputs": [],
   "source": [
    "# lens2.discretize_refraction_index(num_layers=4);"
   ]
  },
  {
   "cell_type": "code",
   "execution_count": 109,
   "metadata": {
    "ExecuteTime": {
     "end_time": "2020-05-01T22:03:11.648462Z",
     "start_time": "2020-05-01T22:03:11.630211Z"
    }
   },
   "outputs": [],
   "source": [
    "lens2.incident_field(u0)"
   ]
  },
  {
   "cell_type": "code",
   "execution_count": 110,
   "metadata": {
    "ExecuteTime": {
     "end_time": "2020-05-01T22:03:12.174883Z",
     "start_time": "2020-05-01T22:03:11.650871Z"
    }
   },
   "outputs": [
    {
     "ename": "KeyboardInterrupt",
     "evalue": "",
     "output_type": "error",
     "traceback": [
      "\u001b[0;31m---------------------------------------------------------------------------\u001b[0m",
      "\u001b[0;31mKeyboardInterrupt\u001b[0m                         Traceback (most recent call last)",
      "\u001b[1;32m/home/luismiguel/bitbucket/diffractio/docs/source/tutorial/algorithms/WPM.ipynb Celda 14\u001b[0m in \u001b[0;36m<cell line: 2>\u001b[0;34m()\u001b[0m\n\u001b[1;32m      <a href='vscode-notebook-cell:/home/luismiguel/bitbucket/diffractio/docs/source/tutorial/algorithms/WPM.ipynb#X15sZmlsZQ%3D%3D?line=0'>1</a>\u001b[0m lens2\u001b[39m.\u001b[39mclear_field()\n\u001b[0;32m----> <a href='vscode-notebook-cell:/home/luismiguel/bitbucket/diffractio/docs/source/tutorial/algorithms/WPM.ipynb#X15sZmlsZQ%3D%3D?line=1'>2</a>\u001b[0m lens2\u001b[39m.\u001b[39;49mWPM(has_edges\u001b[39m=\u001b[39;49m\u001b[39mFalse\u001b[39;49;00m, verbose\u001b[39m=\u001b[39;49m\u001b[39mFalse\u001b[39;49;00m)\n",
      "File \u001b[0;32m~/bitbucket/diffractio/diffractio/scalar_fields_XZ.py:1010\u001b[0m, in \u001b[0;36mScalar_field_XZ.WPM\u001b[0;34m(self, kind, has_edges, pow_edge, matrix, verbose)\u001b[0m\n\u001b[1;32m   1007\u001b[0m \u001b[39mfor\u001b[39;00m j \u001b[39min\u001b[39;00m \u001b[39mrange\u001b[39m(\u001b[39m1\u001b[39m, num_steps):\n\u001b[1;32m   1009\u001b[0m     \u001b[39mif\u001b[39;00m kind \u001b[39m==\u001b[39m \u001b[39m'\u001b[39m\u001b[39mschmidt\u001b[39m\u001b[39m'\u001b[39m:\n\u001b[0;32m-> 1010\u001b[0m         \u001b[39mself\u001b[39m\u001b[39m.\u001b[39mu[:, j] \u001b[39m=\u001b[39m \u001b[39mself\u001b[39m\u001b[39m.\u001b[39mu[:, j] \u001b[39m+\u001b[39m WPM_schmidt_kernel(\n\u001b[1;32m   1011\u001b[0m             \u001b[39mself\u001b[39;49m\u001b[39m.\u001b[39;49mu[:, j \u001b[39m-\u001b[39;49m \u001b[39m1\u001b[39;49m], \u001b[39mself\u001b[39;49m\u001b[39m.\u001b[39;49mn[:, j \u001b[39m-\u001b[39;49m \u001b[39m1\u001b[39;49m], k0, k_perp2,\n\u001b[1;32m   1012\u001b[0m             dz) \u001b[39m*\u001b[39m filter_edge\n\u001b[1;32m   1013\u001b[0m     \u001b[39melse\u001b[39;00m:\n\u001b[1;32m   1014\u001b[0m         \u001b[39mprint\u001b[39m(\u001b[39m\"\u001b[39m\u001b[39m{}\u001b[39;00m\u001b[39m\"\u001b[39m\u001b[39m.\u001b[39mformat(j), sep\u001b[39m=\u001b[39m\u001b[39m'\u001b[39m\u001b[39m\\r\u001b[39;00m\u001b[39m'\u001b[39m, end\u001b[39m=\u001b[39m\u001b[39m'\u001b[39m\u001b[39m\\r\u001b[39;00m\u001b[39m'\u001b[39m)\n",
      "File \u001b[0;32m~/bitbucket/diffractio/diffractio/scalar_fields_X.py:1202\u001b[0m, in \u001b[0;36mWPM_schmidt_kernel\u001b[0;34m(u, n, k0, k_perp2, dz)\u001b[0m\n\u001b[1;32m   1200\u001b[0m     u_temp \u001b[39m=\u001b[39m PWD_kernel(u, n_m, k0, k_perp2, dz)\n\u001b[1;32m   1201\u001b[0m     Imz \u001b[39m=\u001b[39m (n \u001b[39m==\u001b[39m n_m)\n\u001b[0;32m-> 1202\u001b[0m     u_final \u001b[39m=\u001b[39m u_final \u001b[39m+\u001b[39m Imz \u001b[39m*\u001b[39m u_temp\n\u001b[1;32m   1204\u001b[0m \u001b[39mreturn\u001b[39;00m u_final\n",
      "\u001b[0;31mKeyboardInterrupt\u001b[0m: "
     ]
    }
   ],
   "source": [
    "lens2.clear_field()\n",
    "lens2.WPM(has_edges=False, verbose=False)"
   ]
  },
  {
   "cell_type": "code",
   "execution_count": null,
   "metadata": {
    "ExecuteTime": {
     "end_time": "2020-05-01T22:03:13.113700Z",
     "start_time": "2020-05-01T22:03:12.176851Z"
    }
   },
   "outputs": [
    {
     "data": {
      "image/png": "[encoded data removed]",
      "text/plain": [
       "<Figure size 432x288 with 2 Axes>"
      ]
     },
     "metadata": {
      "needs_background": "light"
     },
     "output_type": "display_data"
    }
   ],
   "source": [
    "lens2.draw(kind='intensity',logarithm=1, normalize=None, draw_borders=True,\n",
    "            colorbar_kind='vertical');"
   ]
  },
  {
   "cell_type": "code",
   "execution_count": null,
   "metadata": {
    "ExecuteTime": {
     "end_time": "2020-05-01T22:03:13.170019Z",
     "start_time": "2020-05-01T22:03:13.115538Z"
    }
   },
   "outputs": [
    {
     "name": "stdout",
     "output_type": "stream",
     "text": [
      "x = -450.000 um, z = 116.422 um\n"
     ]
    }
   ],
   "source": [
    "x_f_wpm,z_f_wpm = lens2.search_focus()"
   ]
  },
  {
   "cell_type": "markdown",
   "metadata": {},
   "source": [
    "### Focusing area"
   ]
  },
  {
   "cell_type": "code",
   "execution_count": null,
   "metadata": {
    "ExecuteTime": {
     "end_time": "2020-05-01T22:03:13.187091Z",
     "start_time": "2020-05-01T22:03:13.172006Z"
    }
   },
   "outputs": [],
   "source": [
    "ylim_max=15*um\n",
    "zlim_max=150*um"
   ]
  },
  {
   "cell_type": "code",
   "execution_count": null,
   "metadata": {
    "ExecuteTime": {
     "end_time": "2020-05-01T22:03:14.039149Z",
     "start_time": "2020-05-01T22:03:13.189127Z"
    }
   },
   "outputs": [
    {
     "data": {
      "image/png": "[encoded data removed]",
      "text/plain": [
       "<Figure size 432x288 with 2 Axes>"
      ]
     },
     "metadata": {
      "needs_background": "light"
     },
     "output_type": "display_data"
    }
   ],
   "source": [
    "lens2.draw(kind='intensity',logarithm=1e-1,  colorbar_kind='vertical')\n",
    "plt.ylim(-ylim_max,ylim_max)\n",
    "plt.xlim(z_f_wpm-zlim_max,z_f_wpm+zlim_max);"
   ]
  },
  {
   "cell_type": "code",
   "execution_count": null,
   "metadata": {},
   "outputs": [],
   "source": []
  }
 ],
 "metadata": {
  "kernelspec": {
   "display_name": "Python 3.10.4 64-bit",
   "language": "python",
   "name": "python3"
  },
  "language_info": {
   "codemirror_mode": {
    "name": "ipython",
    "version": 3
   },
   "file_extension": ".py",
   "mimetype": "text/x-python",
   "name": "python",
   "nbconvert_exporter": "python",
   "pygments_lexer": "ipython3",
   "version": "3.10.6"
  },
  "toc": {
   "base_numbering": 1,
   "nav_menu": {
    "height": "4px",
    "width": "254px"
   },
   "number_sections": true,
   "sideBar": true,
   "skip_h1_title": false,
   "title_cell": "Table of Contents",
   "title_sidebar": "Contents",
   "toc_cell": false,
   "toc_position": {},
   "toc_section_display": "block",
   "toc_window_display": false
  },
  "toc-showtags": false,
  "varInspector": {
   "cols": {
    "lenName": 16,
    "lenType": 16,
    "lenVar": 40
   },
   "kernels_config": {
    "python": {
     "delete_cmd_postfix": "",
     "delete_cmd_prefix": "del ",
     "library": "var_list.py",
     "varRefreshCmd": "print(var_dic_list())"
    },
    "r": {
     "delete_cmd_postfix": ") ",
     "delete_cmd_prefix": "rm(",
     "library": "var_list.r",
     "varRefreshCmd": "cat(var_dic_list()) "
    }
   },
   "types_to_exclude": [
    "module",
    "function",
    "builtin_function_or_method",
    "instance",
    "_Feature"
   ],
   "window_display": false
  },
  "vscode": {
   "interpreter": {
    "hash": "31f2aee4e71d21fbe5cf8b01ff0e069b9275f58929596ceb00d14d90e3e16cd6"
   }
  }
 },
 "nbformat": 4,
 "nbformat_minor": 4
}
