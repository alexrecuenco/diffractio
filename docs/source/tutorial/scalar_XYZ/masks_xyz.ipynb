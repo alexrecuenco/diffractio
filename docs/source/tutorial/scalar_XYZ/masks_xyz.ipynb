{
 "cells": [
  {
   "cell_type": "code",
   "execution_count": 1,
   "metadata": {
    "ExecuteTime": {
     "end_time": "2020-05-02T01:09:10.730111Z",
     "start_time": "2020-05-02T01:09:07.208936Z"
    }
   },
   "outputs": [],
   "source": [
    "from diffractio import degrees, np, um\n",
    "from diffractio.scalar_masks_XY import Scalar_mask_XY\n",
    "from diffractio.scalar_masks_XYZ import Scalar_mask_XYZ"
   ]
  },
  {
   "cell_type": "markdown",
   "metadata": {},
   "source": [
    "### Sphere"
   ]
  },
  {
   "cell_type": "code",
   "execution_count": 2,
   "metadata": {
    "ExecuteTime": {
     "end_time": "2020-05-02T01:09:17.265445Z",
     "start_time": "2020-05-02T01:09:10.732795Z"
    }
   },
   "outputs": [
    {
     "ename": "NotImplementedError",
     "evalue": "the null tvtk.pyface.ui.null backend doesn't implement scene_editor:SceneEditor",
     "output_type": "error",
     "traceback": [
      "\u001b[0;31m---------------------------------------------------------------------------\u001b[0m",
      "\u001b[0;31mNotImplementedError\u001b[0m                       Traceback (most recent call last)",
      "\u001b[1;32m/home/luismiguel/bitbucket/diffractio/docs/source/tutorial/scalar_XYZ/masks_xyz.ipynb Celda 3\u001b[0m in \u001b[0;36m<cell line: 18>\u001b[0;34m()\u001b[0m\n\u001b[1;32m     <a href='vscode-notebook-cell:/home/luismiguel/bitbucket/diffractio/docs/source/tutorial/scalar_XYZ/masks_xyz.ipynb#W2sZmlsZQ%3D%3D?line=10'>11</a>\u001b[0m uxyz \u001b[39m=\u001b[39m Scalar_mask_XYZ(\n\u001b[1;32m     <a href='vscode-notebook-cell:/home/luismiguel/bitbucket/diffractio/docs/source/tutorial/scalar_XYZ/masks_xyz.ipynb#W2sZmlsZQ%3D%3D?line=11'>12</a>\u001b[0m     x\u001b[39m=\u001b[39mx0, y\u001b[39m=\u001b[39my0, z\u001b[39m=\u001b[39mz0, wavelength\u001b[39m=\u001b[39mwavelength, n_background\u001b[39m=\u001b[39m\u001b[39m1.\u001b[39m, info\u001b[39m=\u001b[39m\u001b[39m'\u001b[39m\u001b[39m'\u001b[39m)\n\u001b[1;32m     <a href='vscode-notebook-cell:/home/luismiguel/bitbucket/diffractio/docs/source/tutorial/scalar_XYZ/masks_xyz.ipynb#W2sZmlsZQ%3D%3D?line=12'>13</a>\u001b[0m uxyz\u001b[39m.\u001b[39msphere(\n\u001b[1;32m     <a href='vscode-notebook-cell:/home/luismiguel/bitbucket/diffractio/docs/source/tutorial/scalar_XYZ/masks_xyz.ipynb#W2sZmlsZQ%3D%3D?line=13'>14</a>\u001b[0m     r0\u001b[39m=\u001b[39m(\u001b[39m0\u001b[39m \u001b[39m*\u001b[39m um, \u001b[39m0\u001b[39m \u001b[39m*\u001b[39m um, \u001b[39m0\u001b[39m \u001b[39m*\u001b[39m um),\n\u001b[1;32m     <a href='vscode-notebook-cell:/home/luismiguel/bitbucket/diffractio/docs/source/tutorial/scalar_XYZ/masks_xyz.ipynb#W2sZmlsZQ%3D%3D?line=14'>15</a>\u001b[0m     radius\u001b[39m=\u001b[39m(\u001b[39m50\u001b[39m \u001b[39m*\u001b[39m um, \u001b[39m50\u001b[39m \u001b[39m*\u001b[39m um, \u001b[39m50\u001b[39m \u001b[39m*\u001b[39m um),\n\u001b[1;32m     <a href='vscode-notebook-cell:/home/luismiguel/bitbucket/diffractio/docs/source/tutorial/scalar_XYZ/masks_xyz.ipynb#W2sZmlsZQ%3D%3D?line=15'>16</a>\u001b[0m     refraction_index\u001b[39m=\u001b[39m\u001b[39m2\u001b[39m,\n\u001b[1;32m     <a href='vscode-notebook-cell:/home/luismiguel/bitbucket/diffractio/docs/source/tutorial/scalar_XYZ/masks_xyz.ipynb#W2sZmlsZQ%3D%3D?line=16'>17</a>\u001b[0m     angles\u001b[39m=\u001b[39m(\u001b[39m0\u001b[39m \u001b[39m*\u001b[39m degrees, \u001b[39m0\u001b[39m \u001b[39m*\u001b[39m degrees, \u001b[39m45\u001b[39m \u001b[39m*\u001b[39m degrees))\n\u001b[0;32m---> <a href='vscode-notebook-cell:/home/luismiguel/bitbucket/diffractio/docs/source/tutorial/scalar_XYZ/masks_xyz.ipynb#W2sZmlsZQ%3D%3D?line=17'>18</a>\u001b[0m uxyz\u001b[39m.\u001b[39;49mdraw_refraction_index()\n",
      "File \u001b[0;32m~/bitbucket/diffractio/diffractio/scalar_fields_XYZ.py:1468\u001b[0m, in \u001b[0;36mScalar_field_XYZ.draw_refraction_index\u001b[0;34m(self, kind)\u001b[0m\n\u001b[1;32m   1462\u001b[0m \u001b[39m\"\"\"Draws XYZ refraction index with slicer\u001b[39;00m\n\u001b[1;32m   1463\u001b[0m \n\u001b[1;32m   1464\u001b[0m \u001b[39mParameters:\u001b[39;00m\n\u001b[1;32m   1465\u001b[0m \u001b[39m    kind (str): 'real', 'imag', 'abs'\u001b[39;00m\n\u001b[1;32m   1466\u001b[0m \u001b[39m\"\"\"\u001b[39;00m\n\u001b[1;32m   1467\u001b[0m \u001b[39mtry\u001b[39;00m:\n\u001b[0;32m-> 1468\u001b[0m     \u001b[39mfrom\u001b[39;00m \u001b[39m.\u001b[39;00m\u001b[39mutils_slicer\u001b[39;00m \u001b[39mimport\u001b[39;00m slicerLM\n\u001b[1;32m   1469\u001b[0m     is_slicer \u001b[39m=\u001b[39m \u001b[39mTrue\u001b[39;00m\n\u001b[1;32m   1470\u001b[0m \u001b[39mexcept\u001b[39;00m \u001b[39mImportError\u001b[39;00m:\n",
      "File \u001b[0;32m~/bitbucket/diffractio/diffractio/utils_slicer.py:55\u001b[0m, in \u001b[0;36m<module>\u001b[0;34m\u001b[0m\n\u001b[1;32m     51\u001b[0m \u001b[39mexcept\u001b[39;00m \u001b[39mImportError\u001b[39;00m:\n\u001b[1;32m     52\u001b[0m     \u001b[39mprint\u001b[39m(\u001b[39m\"\u001b[39m\u001b[39mtvtk is not imported.\u001b[39m\u001b[39m\"\u001b[39m)\n\u001b[0;32m---> 55\u001b[0m \u001b[39mclass\u001b[39;00m \u001b[39mVolumeSlicer\u001b[39;00m(HasTraits):\n\u001b[1;32m     56\u001b[0m     \u001b[39m# The data to plot\u001b[39;00m\n\u001b[1;32m     58\u001b[0m     data \u001b[39m=\u001b[39m Array()\n\u001b[1;32m     60\u001b[0m     \u001b[39m# The 4 views displayed\u001b[39;00m\n",
      "File \u001b[0;32m~/bitbucket/diffractio/diffractio/utils_slicer.py:192\u001b[0m, in \u001b[0;36mVolumeSlicer\u001b[0;34m()\u001b[0m\n\u001b[1;32m    182\u001b[0m     \u001b[39mreturn\u001b[39;00m \u001b[39mself\u001b[39m\u001b[39m.\u001b[39mmake_side_view(\u001b[39m'\u001b[39m\u001b[39mz\u001b[39m\u001b[39m'\u001b[39m)\n\u001b[1;32m    184\u001b[0m \u001b[39m# ---------------------------------------------------------------------------\u001b[39;00m\n\u001b[1;32m    185\u001b[0m \u001b[39m# The layout of the dialog created\u001b[39;00m\n\u001b[1;32m    186\u001b[0m \u001b[39m# ---------------------------------------------------------------------------\u001b[39;00m\n\u001b[1;32m    187\u001b[0m view \u001b[39m=\u001b[39m View(\n\u001b[1;32m    188\u001b[0m     HGroup(\n\u001b[1;32m    189\u001b[0m         Group(\n\u001b[1;32m    190\u001b[0m             Item(\n\u001b[1;32m    191\u001b[0m                 \u001b[39m'\u001b[39m\u001b[39mscene_y\u001b[39m\u001b[39m'\u001b[39m,\n\u001b[0;32m--> 192\u001b[0m                 editor\u001b[39m=\u001b[39mSceneEditor(scene_class\u001b[39m=\u001b[39;49mScene),\n\u001b[1;32m    193\u001b[0m                 height\u001b[39m=\u001b[39m\u001b[39m250\u001b[39m,\n\u001b[1;32m    194\u001b[0m                 width\u001b[39m=\u001b[39m\u001b[39m300\u001b[39m),\n\u001b[1;32m    195\u001b[0m             Item(\n\u001b[1;32m    196\u001b[0m                 \u001b[39m'\u001b[39m\u001b[39mscene_z\u001b[39m\u001b[39m'\u001b[39m,\n\u001b[1;32m    197\u001b[0m                 editor\u001b[39m=\u001b[39mSceneEditor(scene_class\u001b[39m=\u001b[39mScene),\n\u001b[1;32m    198\u001b[0m                 height\u001b[39m=\u001b[39m\u001b[39m250\u001b[39m,\n\u001b[1;32m    199\u001b[0m                 width\u001b[39m=\u001b[39m\u001b[39m300\u001b[39m),\n\u001b[1;32m    200\u001b[0m             show_labels\u001b[39m=\u001b[39m\u001b[39mFalse\u001b[39;00m,\n\u001b[1;32m    201\u001b[0m         ),\n\u001b[1;32m    202\u001b[0m         Group(\n\u001b[1;32m    203\u001b[0m             Item(\n\u001b[1;32m    204\u001b[0m                 \u001b[39m'\u001b[39m\u001b[39mscene_x\u001b[39m\u001b[39m'\u001b[39m,\n\u001b[1;32m    205\u001b[0m                 editor\u001b[39m=\u001b[39mSceneEditor(scene_class\u001b[39m=\u001b[39mScene),\n\u001b[1;32m    206\u001b[0m                 height\u001b[39m=\u001b[39m\u001b[39m250\u001b[39m,\n\u001b[1;32m    207\u001b[0m                 width\u001b[39m=\u001b[39m\u001b[39m300\u001b[39m),\n\u001b[1;32m    208\u001b[0m             Item(\n\u001b[1;32m    209\u001b[0m                 \u001b[39m'\u001b[39m\u001b[39mscene3d\u001b[39m\u001b[39m'\u001b[39m,\n\u001b[1;32m    210\u001b[0m                 editor\u001b[39m=\u001b[39mSceneEditor(scene_class\u001b[39m=\u001b[39mMayaviScene),\n\u001b[1;32m    211\u001b[0m                 height\u001b[39m=\u001b[39m\u001b[39m250\u001b[39m,\n\u001b[1;32m    212\u001b[0m                 width\u001b[39m=\u001b[39m\u001b[39m300\u001b[39m),\n\u001b[1;32m    213\u001b[0m             show_labels\u001b[39m=\u001b[39m\u001b[39mFalse\u001b[39;00m,\n\u001b[1;32m    214\u001b[0m         ),\n\u001b[1;32m    215\u001b[0m     ),\n\u001b[1;32m    216\u001b[0m     resizable\u001b[39m=\u001b[39m\u001b[39mTrue\u001b[39;00m,\n\u001b[1;32m    217\u001b[0m     title\u001b[39m=\u001b[39m\u001b[39m'\u001b[39m\u001b[39mDiffractio\u001b[39m\u001b[39m'\u001b[39m,\n\u001b[1;32m    218\u001b[0m )\n",
      "File \u001b[0;32m~/.local/lib/python3.10/site-packages/pyface/base_toolkit.py:165\u001b[0m, in \u001b[0;36mToolkit.__call__.<locals>.Unimplemented.__init__\u001b[0;34m(self, *args, **kwargs)\u001b[0m\n\u001b[1;32m    163\u001b[0m \u001b[39mdef\u001b[39;00m \u001b[39m__init__\u001b[39m(\u001b[39mself\u001b[39m, \u001b[39m*\u001b[39margs, \u001b[39m*\u001b[39m\u001b[39m*\u001b[39mkwargs):\n\u001b[1;32m    164\u001b[0m     msg \u001b[39m=\u001b[39m \u001b[39m\"\u001b[39m\u001b[39mthe \u001b[39m\u001b[39m%s\u001b[39;00m\u001b[39m \u001b[39m\u001b[39m%s\u001b[39;00m\u001b[39m backend doesn\u001b[39m\u001b[39m'\u001b[39m\u001b[39mt implement \u001b[39m\u001b[39m%s\u001b[39;00m\u001b[39m\"\u001b[39m\n\u001b[0;32m--> 165\u001b[0m     \u001b[39mraise\u001b[39;00m \u001b[39mNotImplementedError\u001b[39;00m(msg \u001b[39m%\u001b[39m (toolkit, package, name))\n",
      "\u001b[0;31mNotImplementedError\u001b[0m: the null tvtk.pyface.ui.null backend doesn't implement scene_editor:SceneEditor"
     ]
    }
   ],
   "source": [
    "length = 100 * um\n",
    "numdataX = 128\n",
    "numdataZ = 128\n",
    "\n",
    "\n",
    "x0 = np.linspace(-length / 2, length / 2, numdataX)\n",
    "y0 = np.linspace(-length / 2, length / 2, numdataX)\n",
    "z0 = np.linspace(-length / 2, length / 2, numdataX)\n",
    "wavelength = 0.55 * um\n",
    "\n",
    "uxyz = Scalar_mask_XYZ(\n",
    "    x=x0, y=y0, z=z0, wavelength=wavelength, n_background=1., info='')\n",
    "uxyz.sphere(\n",
    "    r0=(0 * um, 0 * um, 0 * um),\n",
    "    radius=(50 * um, 50 * um, 50 * um),\n",
    "    refraction_index=2,\n",
    "    angles=(0 * degrees, 0 * degrees, 45 * degrees))\n",
    "uxyz.draw_refraction_index()\n"
   ]
  },
  {
   "cell_type": "markdown",
   "metadata": {},
   "source": [
    "![title](n_sphere.png)"
   ]
  },
  {
   "cell_type": "markdown",
   "metadata": {},
   "source": [
    "### Square"
   ]
  },
  {
   "cell_type": "code",
   "execution_count": 3,
   "metadata": {
    "ExecuteTime": {
     "end_time": "2020-05-02T01:09:22.232508Z",
     "start_time": "2020-05-02T01:09:19.438783Z"
    }
   },
   "outputs": [
    {
     "name": "stdout",
     "output_type": "stream",
     "text": [
      "close the window to continue\n"
     ]
    }
   ],
   "source": [
    "length = 100 * um\n",
    "numdataX = 128\n",
    "numdataZ = 128\n",
    "\n",
    "\n",
    "x0 = np.linspace(-length / 2, length / 2, numdataX)\n",
    "y0 = np.linspace(-length / 2, length / 2, numdataX)\n",
    "z0 = np.linspace(-length / 2, length / 2, numdataX)\n",
    "wavelength = 0.55 * um\n",
    "\n",
    "\n",
    "uxyz = Scalar_mask_XYZ(\n",
    "    x=x0, y=y0, z=z0, wavelength=wavelength, n_background=1., info='')\n",
    "uxyz.square(\n",
    "    r0=(0 * um, 0 * um, 0 * um),\n",
    "    length=(50 * um, 50 * um, 50 * um),\n",
    "    refraction_index=2,\n",
    "    angles=None,\n",
    "    rotation_point=None)\n",
    "uxyz.draw_refraction_index()\n"
   ]
  },
  {
   "cell_type": "markdown",
   "metadata": {},
   "source": [
    "![title](n_square.png)"
   ]
  },
  {
   "cell_type": "markdown",
   "metadata": {},
   "source": [
    "### Cylinder"
   ]
  },
  {
   "cell_type": "code",
   "execution_count": 4,
   "metadata": {
    "ExecuteTime": {
     "end_time": "2020-05-02T01:09:29.334550Z",
     "start_time": "2020-05-02T01:09:24.171084Z"
    }
   },
   "outputs": [
    {
     "name": "stdout",
     "output_type": "stream",
     "text": [
      "close the window to continue\n"
     ]
    }
   ],
   "source": [
    "length = 100 * um\n",
    "numdataX = 128\n",
    "numdataZ = 128\n",
    "\n",
    "longitud = 50 * um\n",
    "\n",
    "x0 = np.linspace(-length / 2, length / 2, numdataX)\n",
    "y0 = np.linspace(-length / 2, length / 2, numdataX)\n",
    "z0 = np.linspace(-longitud, longitud, numdataZ)\n",
    "wavelength = 0.55 * um\n",
    "\n",
    "\n",
    "uxyz = Scalar_mask_XYZ(\n",
    "    x=x0, y=y0, z=z0, wavelength=wavelength, n_background=1., info='')\n",
    "uxyz.cylinder(\n",
    "                 r0=(0 * um, 0 * um, 0 * um),\n",
    "                 radius=(25 * um, 25 * um),\n",
    "                 length=25 * um,\n",
    "                 refraction_index=2,\n",
    "                 eje=(1, 1, 1),\n",
    "                 angle=45 * degrees)\n",
    "uxyz.draw_refraction_index()"
   ]
  },
  {
   "cell_type": "markdown",
   "metadata": {},
   "source": [
    "![title](n_cylinder.png)"
   ]
  },
  {
   "cell_type": "code",
   "execution_count": null,
   "metadata": {},
   "outputs": [],
   "source": []
  }
 ],
 "metadata": {
  "kernelspec": {
   "display_name": "Python 3.10.4 64-bit",
   "language": "python",
   "name": "python3"
  },
  "language_info": {
   "codemirror_mode": {
    "name": "ipython",
    "version": 3
   },
   "file_extension": ".py",
   "mimetype": "text/x-python",
   "name": "python",
   "nbconvert_exporter": "python",
   "pygments_lexer": "ipython3",
   "version": "3.10.4"
  },
  "toc": {
   "base_numbering": 1,
   "nav_menu": {},
   "number_sections": true,
   "sideBar": true,
   "skip_h1_title": false,
   "title_cell": "Table of Contents",
   "title_sidebar": "Contents",
   "toc_cell": false,
   "toc_position": {},
   "toc_section_display": true,
   "toc_window_display": false
  },
  "vscode": {
   "interpreter": {
    "hash": "31f2aee4e71d21fbe5cf8b01ff0e069b9275f58929596ceb00d14d90e3e16cd6"
   }
  }
 },
 "nbformat": 4,
 "nbformat_minor": 4
}
