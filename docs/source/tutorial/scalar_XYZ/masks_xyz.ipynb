{
 "cells": [
  {
   "cell_type": "code",
   "execution_count": 1,
   "metadata": {
    "ExecuteTime": {
     "end_time": "2020-05-02T01:09:10.730111Z",
     "start_time": "2020-05-02T01:09:07.208936Z"
    }
   },
   "outputs": [
    {
     "name": "stdout",
     "output_type": "stream",
     "text": [
      "number of processors: 8\n"
     ]
    }
   ],
   "source": [
    "from diffractio import degrees, np, um\n",
    "from diffractio.scalar_masks_XY import Scalar_mask_XY\n",
    "from diffractio.scalar_masks_XYZ import Scalar_mask_XYZ"
   ]
  },
  {
   "cell_type": "markdown",
   "metadata": {},
   "source": [
    "### Sphere"
   ]
  },
  {
   "cell_type": "code",
   "execution_count": 2,
   "metadata": {
    "ExecuteTime": {
     "end_time": "2020-05-02T01:09:17.265445Z",
     "start_time": "2020-05-02T01:09:10.732795Z"
    }
   },
   "outputs": [
    {
     "name": "stdout",
     "output_type": "stream",
     "text": [
      "close the window to continue\n"
     ]
    }
   ],
   "source": [
    "length = 100 * um\n",
    "numdataX = 128\n",
    "numdataZ = 128\n",
    "\n",
    "\n",
    "x0 = np.linspace(-length / 2, length / 2, numdataX)\n",
    "y0 = np.linspace(-length / 2, length / 2, numdataX)\n",
    "z0 = np.linspace(-length / 2, length / 2, numdataX)\n",
    "wavelength = 0.55 * um\n",
    "\n",
    "uxyz = Scalar_mask_XYZ(\n",
    "    x=x0, y=y0, z=z0, wavelength=wavelength, n_background=1., info='')\n",
    "uxyz.sphere(\n",
    "    r0=(0 * um, 0 * um, 0 * um),\n",
    "    radius=(50 * um, 50 * um, 50 * um),\n",
    "    refraction_index=2,\n",
    "    angles=(0 * degrees, 0 * degrees, 45 * degrees))\n",
    "uxyz.draw_refraction_index()\n"
   ]
  },
  {
   "cell_type": "markdown",
   "metadata": {},
   "source": [
    "![title](n_sphere.png)"
   ]
  },
  {
   "cell_type": "markdown",
   "metadata": {},
   "source": [
    "### Square"
   ]
  },
  {
   "cell_type": "code",
   "execution_count": 3,
   "metadata": {
    "ExecuteTime": {
     "end_time": "2020-05-02T01:09:22.232508Z",
     "start_time": "2020-05-02T01:09:19.438783Z"
    }
   },
   "outputs": [
    {
     "name": "stdout",
     "output_type": "stream",
     "text": [
      "close the window to continue\n"
     ]
    }
   ],
   "source": [
    "length = 100 * um\n",
    "numdataX = 128\n",
    "numdataZ = 128\n",
    "\n",
    "\n",
    "x0 = np.linspace(-length / 2, length / 2, numdataX)\n",
    "y0 = np.linspace(-length / 2, length / 2, numdataX)\n",
    "z0 = np.linspace(-length / 2, length / 2, numdataX)\n",
    "wavelength = 0.55 * um\n",
    "\n",
    "\n",
    "uxyz = Scalar_mask_XYZ(\n",
    "    x=x0, y=y0, z=z0, wavelength=wavelength, n_background=1., info='')\n",
    "uxyz.square(\n",
    "    r0=(0 * um, 0 * um, 0 * um),\n",
    "    length=(50 * um, 50 * um, 50 * um),\n",
    "    refraction_index=2,\n",
    "    angles=None,\n",
    "    rotation_point=None)\n",
    "uxyz.draw_refraction_index()\n"
   ]
  },
  {
   "cell_type": "markdown",
   "metadata": {},
   "source": [
    "![title](n_square.png)"
   ]
  },
  {
   "cell_type": "markdown",
   "metadata": {},
   "source": [
    "### Cylinder"
   ]
  },
  {
   "cell_type": "code",
   "execution_count": 4,
   "metadata": {
    "ExecuteTime": {
     "end_time": "2020-05-02T01:09:29.334550Z",
     "start_time": "2020-05-02T01:09:24.171084Z"
    }
   },
   "outputs": [
    {
     "name": "stdout",
     "output_type": "stream",
     "text": [
      "close the window to continue\n"
     ]
    }
   ],
   "source": [
    "length = 100 * um\n",
    "numdataX = 128\n",
    "numdataZ = 128\n",
    "\n",
    "longitud = 50 * um\n",
    "\n",
    "x0 = np.linspace(-length / 2, length / 2, numdataX)\n",
    "y0 = np.linspace(-length / 2, length / 2, numdataX)\n",
    "z0 = np.linspace(-longitud, longitud, numdataZ)\n",
    "wavelength = 0.55 * um\n",
    "\n",
    "\n",
    "uxyz = Scalar_mask_XYZ(\n",
    "    x=x0, y=y0, z=z0, wavelength=wavelength, n_background=1., info='')\n",
    "uxyz.cylinder(\n",
    "                 r0=(0 * um, 0 * um, 0 * um),\n",
    "                 radius=(25 * um, 25 * um),\n",
    "                 length=25 * um,\n",
    "                 refraction_index=2,\n",
    "                 eje=(1, 1, 1),\n",
    "                 angle=45 * degrees)\n",
    "uxyz.draw_refraction_index()"
   ]
  },
  {
   "cell_type": "markdown",
   "metadata": {},
   "source": [
    "![title](n_cylinder.png)"
   ]
  },
  {
   "cell_type": "code",
   "execution_count": null,
   "metadata": {},
   "outputs": [],
   "source": []
  }
 ],
 "metadata": {
  "kernelspec": {
   "display_name": "Python 3",
   "language": "python",
   "name": "python3"
  },
  "language_info": {
   "codemirror_mode": {
    "name": "ipython",
    "version": 3
   },
   "file_extension": ".py",
   "mimetype": "text/x-python",
   "name": "python",
   "nbconvert_exporter": "python",
   "pygments_lexer": "ipython3",
   "version": "3.8.5"
  },
  "toc": {
   "base_numbering": 1,
   "nav_menu": {},
   "number_sections": true,
   "sideBar": true,
   "skip_h1_title": false,
   "title_cell": "Table of Contents",
   "title_sidebar": "Contents",
   "toc_cell": false,
   "toc_position": {},
   "toc_section_display": true,
   "toc_window_display": false
  }
 },
 "nbformat": 4,
 "nbformat_minor": 4
}
