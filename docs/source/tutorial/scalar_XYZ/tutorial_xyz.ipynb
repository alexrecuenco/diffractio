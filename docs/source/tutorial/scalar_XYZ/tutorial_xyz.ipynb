{
 "cells": [
  {
   "cell_type": "markdown",
   "metadata": {},
   "source": [
    "## Characteristics"
   ]
  },
  {
   "cell_type": "markdown",
   "metadata": {},
   "source": [
    "Scalar_XYZ is a set of two modules for:\n",
    "\n",
    "* Generation of 3D masks and diffractive optical elements.\n",
    "* Propagation of light, determination of parameters, and other functions.\n",
    "* Drawing sources, masks and fields\n",
    "\n",
    "For light generation, scalar_sources_XY.py is used.\n",
    "\n",
    "**Warning**: This module is not very mature yet.\n",
    "\n",
    "These modules are named: scalar_fields_XYZ.py,and scalar_masks_XYZ.py.\n",
    "\n",
    "Each module present a main class:\n",
    "\n",
    "* Scalar_field_XYZ\n",
    "* Scalar_masks_XYZ\n",
    "\n",
    "The main attributes for these classes are the following:\n",
    "\n",
    "* self.x (numpy.array): linear array with equidistant positions. The number of data is preferibly \n",
    "$2^n$ .\n",
    "* self.y (numpy.array): linear array with equidistant positions. The number of data is preferibly \n",
    "$2^n$ .\n",
    "* self.z (numpy.array): linear array with equidistant positions. The number of data is preferibly \n",
    "$2^n$ .\n",
    "* self.wavelength (float): wavelength of the incident field.\n",
    "* self.u (numpy.array): equal size than x * y * z. complex field.\n",
    "\n",
    "\n",
    "We can also find these atributes:\n",
    "\n",
    "* self.X (numpy.array): linear 2D array with size x * y * z storing X position.\n",
    "* self.Y (numpy.array): linear 2D array with size x * y * z storing Y position.\n",
    "* self.Z (numpy.array): linear 2D array with size x * y * z storing Z position.\n",
    "* self.quality (float): quality of RS algorithm. Valid for values > 1.\n",
    "* self.info (str): description of data.\n",
    "* self.fast (bool): If True, Rayleigh-Sommerfeld computations are performed using Fresnel approximation.\n",
    "* self.type (str): Class of the field.\n",
    "* self.date (str): date when performed.\n",
    "\n",
    "The dimensional magnitudes are related to microns: `micron = 1.`"
   ]
  },
  {
   "cell_type": "code",
   "execution_count": 1,
   "metadata": {
    "ExecuteTime": {
     "end_time": "2020-05-02T18:43:40.619840Z",
     "start_time": "2020-05-02T18:43:37.297273Z"
    }
   },
   "outputs": [],
   "source": [
    "from diffractio import degrees, eps, mm, no_date, np, plt, um\n",
    "from diffractio.scalar_fields_XYZ import Scalar_field_XYZ\n",
    "from diffractio.scalar_masks_XY import Scalar_mask_XY\n",
    "from diffractio.scalar_masks_XYZ import Scalar_mask_XYZ\n",
    "from diffractio.scalar_sources_XY import Scalar_source_XY"
   ]
  },
  {
   "cell_type": "markdown",
   "metadata": {},
   "source": [
    "### save_load"
   ]
  },
  {
   "cell_type": "code",
   "execution_count": 2,
   "metadata": {
    "ExecuteTime": {
     "end_time": "2020-05-02T18:43:40.756867Z",
     "start_time": "2020-05-02T18:43:40.631435Z"
    }
   },
   "outputs": [],
   "source": [
    "length = 100 * um\n",
    "numdata = 16  # 256\n",
    "x0 = np.linspace(-length / 2, length / 2, numdata)\n",
    "y0 = np.linspace(-length / 2, length / 2, numdata)\n",
    "z0 = np.linspace(-length / 2, length / 2, numdata)\n",
    "wavelength = 0.5 * um\n",
    "filename = 'save_load_xyz.npz'\n",
    "\n",
    "t1 = Scalar_field_XYZ(x=x0, y=y0, z=z0, wavelength=wavelength)\n",
    "\n",
    "t1.u = np.ones_like(t1.u)\n",
    "t1.save_data(filename=filename, add_name='')"
   ]
  },
  {
   "cell_type": "code",
   "execution_count": 3,
   "metadata": {
    "ExecuteTime": {
     "end_time": "2020-05-02T18:43:40.799789Z",
     "start_time": "2020-05-02T18:43:40.760324Z"
    }
   },
   "outputs": [],
   "source": [
    "t2 = Scalar_field_XYZ(x=None, y=None, z=None, wavelength=None)\n",
    "t2.load_data(filename=filename, verbose=False)\n"
   ]
  },
  {
   "cell_type": "markdown",
   "metadata": {},
   "source": [
    "### clear_field"
   ]
  },
  {
   "cell_type": "code",
   "execution_count": 4,
   "metadata": {
    "ExecuteTime": {
     "end_time": "2020-05-02T18:23:20.456298Z",
     "start_time": "2020-05-02T18:23:20.445347Z"
    }
   },
   "outputs": [
    {
     "name": "stdout",
     "output_type": "stream",
     "text": [
      "(1+0j)\n",
      "0j\n"
     ]
    }
   ],
   "source": [
    "length = 100 * um\n",
    "numdata = 32  # 256\n",
    "x0 = np.linspace(-length / 2, length / 2, numdata)\n",
    "y0 = np.linspace(-length / 2, length / 2, numdata)\n",
    "z0 = np.linspace(-length / 2, length / 2, numdata)\n",
    "wavelength = 0.5 * um\n",
    "\n",
    "u0 = Scalar_field_XYZ(x=x0, y=y0, z=z0, wavelength=wavelength)\n",
    "u0.u = np.ones_like(u0.u)\n",
    "print(u0.u.max())\n",
    "\n",
    "u0.clear_field()\n",
    "print(u0.u.max())"
   ]
  },
  {
   "cell_type": "markdown",
   "metadata": {},
   "source": [
    "### show_index_refraccion"
   ]
  },
  {
   "cell_type": "code",
   "execution_count": 5,
   "metadata": {
    "ExecuteTime": {
     "end_time": "2020-05-02T18:23:23.749400Z",
     "start_time": "2020-05-02T18:23:20.458580Z"
    }
   },
   "outputs": [],
   "source": [
    "length = 150 * um\n",
    "\n",
    "x0 = np.linspace(-length / 2, length / 2, 128)\n",
    "y0 = np.linspace(-length / 2, length / 2, 128)\n",
    "z0 = np.linspace(-length / 2, length / 2, 128)\n",
    "wavelength = 0.55 * um\n",
    "\n",
    "t1 = Scalar_mask_XY(x=x0, y=y0, wavelength=wavelength)\n",
    "t1.circle(r0=(0 * um, 0 * um), radius=(20 * um, 20 * um), angle=0 * degrees)\n",
    "\n",
    "uxyz = Scalar_mask_XYZ(x=x0,\n",
    "                       y=y0,\n",
    "                       z=z0,\n",
    "                       wavelength=wavelength,\n",
    "                       n_background=1.,\n",
    "                       info='')\n",
    "uxyz.incident_field(t1)\n",
    "uxyz.cylinder(r0=(0 * um, 0 * um, 0),\n",
    "              radius=(20 * um, 20 * um),\n",
    "              length=75 * um,\n",
    "              refraction_index=1.5,\n",
    "              axis=(0, 0, 0),\n",
    "              angle=0 * degrees)\n"
   ]
  },
  {
   "cell_type": "code",
   "execution_count": null,
   "metadata": {},
   "outputs": [
    {
     "ename": "ImportError",
     "evalue": "Could not import backend for traitsui.  Make sure you\n        have a suitable UI toolkit like PyQt/PySide or wxPython\n        installed.",
     "output_type": "error",
     "traceback": [
      "\u001b[0;31m---------------------------------------------------------------------------\u001b[0m",
      "\u001b[0;31mImportError\u001b[0m                               Traceback (most recent call last)",
      "\u001b[1;32m/home/luismiguel/bitbucket/diffractio/docs/source/tutorial/scalar_XYZ/tutorial_xyz.ipynb Celda 11\u001b[0m in \u001b[0;36m<cell line: 1>\u001b[0;34m()\u001b[0m\n\u001b[0;32m----> <a href='vscode-notebook-cell:/home/luismiguel/bitbucket/diffractio/docs/source/tutorial/scalar_XYZ/tutorial_xyz.ipynb#X14sZmlsZQ%3D%3D?line=0'>1</a>\u001b[0m uxyz\u001b[39m.\u001b[39;49mdraw_volume()\n",
      "File \u001b[0;32m~/bitbucket/diffractio/diffractio/scalar_fields_XYZ.py:1418\u001b[0m, in \u001b[0;36mScalar_field_XYZ.draw_volume\u001b[0;34m(self, logarithm, normalize, maxintensity)\u001b[0m\n\u001b[1;32m   1415\u001b[0m     intMin \u001b[39m=\u001b[39m maxintensity[\u001b[39m0\u001b[39m]\n\u001b[1;32m   1416\u001b[0m     intMax \u001b[39m=\u001b[39m maxintensity[\u001b[39m1\u001b[39m]\n\u001b[0;32m-> 1418\u001b[0m mlab\u001b[39m.\u001b[39;49mfigure(fgcolor\u001b[39m=\u001b[39;49m(\u001b[39m0\u001b[39;49m, \u001b[39m0\u001b[39;49m, \u001b[39m0\u001b[39;49m), bgcolor\u001b[39m=\u001b[39;49m(\u001b[39m1\u001b[39;49m, \u001b[39m1\u001b[39;49m, \u001b[39m1\u001b[39;49m))\n\u001b[1;32m   1419\u001b[0m mlab\u001b[39m.\u001b[39mclf()\n\u001b[1;32m   1420\u001b[0m source \u001b[39m=\u001b[39m mlab\u001b[39m.\u001b[39mpipeline\u001b[39m.\u001b[39mscalar_field(intensity)\n",
      "File \u001b[0;32m~/.local/lib/python3.10/site-packages/mayavi/tools/figure.py:64\u001b[0m, in \u001b[0;36mfigure\u001b[0;34m(figure, bgcolor, fgcolor, engine, size)\u001b[0m\n\u001b[1;32m     62\u001b[0m \u001b[39melse\u001b[39;00m:\n\u001b[1;32m     63\u001b[0m     \u001b[39mif\u001b[39;00m engine \u001b[39mis\u001b[39;00m \u001b[39mNone\u001b[39;00m:\n\u001b[0;32m---> 64\u001b[0m         engine \u001b[39m=\u001b[39m get_engine()\n\u001b[1;32m     65\u001b[0m     \u001b[39mif\u001b[39;00m figure \u001b[39mis\u001b[39;00m \u001b[39mNone\u001b[39;00m:\n\u001b[1;32m     66\u001b[0m         name \u001b[39m=\u001b[39m \u001b[39mmax\u001b[39m(__scene_number_list) \u001b[39m+\u001b[39m \u001b[39m1\u001b[39m\n",
      "File \u001b[0;32m~/.local/lib/python3.10/site-packages/mayavi/tools/engine_manager.py:94\u001b[0m, in \u001b[0;36mEngineManager.get_engine\u001b[0;34m(self)\u001b[0m\n\u001b[1;32m     91\u001b[0m     suitable \u001b[39m=\u001b[39m [e \u001b[39mfor\u001b[39;00m e \u001b[39min\u001b[39;00m engines\n\u001b[1;32m     92\u001b[0m                 \u001b[39mif\u001b[39;00m e\u001b[39m.\u001b[39m\u001b[39m__class__\u001b[39m\u001b[39m.\u001b[39m\u001b[39m__name__\u001b[39m \u001b[39m==\u001b[39m \u001b[39m'\u001b[39m\u001b[39mEngine\u001b[39m\u001b[39m'\u001b[39m]\n\u001b[1;32m     93\u001b[0m \u001b[39mif\u001b[39;00m \u001b[39mlen\u001b[39m(suitable) \u001b[39m==\u001b[39m \u001b[39m0\u001b[39m:\n\u001b[0;32m---> 94\u001b[0m     \u001b[39mreturn\u001b[39;00m \u001b[39mself\u001b[39;49m\u001b[39m.\u001b[39;49mnew_engine()\n\u001b[1;32m     95\u001b[0m \u001b[39melse\u001b[39;00m:\n\u001b[1;32m     96\u001b[0m     \u001b[39m# Return the most engine add to the list most recently.\u001b[39;00m\n\u001b[1;32m     97\u001b[0m     \u001b[39mself\u001b[39m\u001b[39m.\u001b[39mcurrent_engine \u001b[39m=\u001b[39m suitable[\u001b[39m-\u001b[39m\u001b[39m1\u001b[39m]\n",
      "File \u001b[0;32m~/.local/lib/python3.10/site-packages/mayavi/tools/engine_manager.py:139\u001b[0m, in \u001b[0;36mEngineManager.new_engine\u001b[0;34m(self)\u001b[0m\n\u001b[1;32m    135\u001b[0m \u001b[39mdef\u001b[39;00m \u001b[39mnew_engine\u001b[39m(\u001b[39mself\u001b[39m):\n\u001b[1;32m    136\u001b[0m     \u001b[39m\"\"\" Creates a new engine, envisage or not depending on the\u001b[39;00m\n\u001b[1;32m    137\u001b[0m \u001b[39m        options.\u001b[39;00m\n\u001b[1;32m    138\u001b[0m \u001b[39m    \"\"\"\u001b[39;00m\n\u001b[0;32m--> 139\u001b[0m     check_backend()\n\u001b[1;32m    140\u001b[0m     \u001b[39mif\u001b[39;00m options\u001b[39m.\u001b[39mbackend \u001b[39m==\u001b[39m \u001b[39m'\u001b[39m\u001b[39menvisage\u001b[39m\u001b[39m'\u001b[39m:\n\u001b[1;32m    141\u001b[0m         \u001b[39mfrom\u001b[39;00m \u001b[39mmayavi\u001b[39;00m\u001b[39m.\u001b[39;00m\u001b[39mplugins\u001b[39;00m\u001b[39m.\u001b[39;00m\u001b[39mapp\u001b[39;00m \u001b[39mimport\u001b[39;00m Mayavi\n",
      "File \u001b[0;32m~/.local/lib/python3.10/site-packages/mayavi/tools/engine_manager.py:42\u001b[0m, in \u001b[0;36mcheck_backend\u001b[0;34m()\u001b[0m\n\u001b[1;32m     37\u001b[0m \u001b[39mif\u001b[39;00m (options\u001b[39m.\u001b[39mbackend \u001b[39m!=\u001b[39m \u001b[39m'\u001b[39m\u001b[39mtest\u001b[39m\u001b[39m'\u001b[39m \u001b[39mand\u001b[39;00m \u001b[39mnot\u001b[39;00m options\u001b[39m.\u001b[39moffscreen) \u001b[39mand\u001b[39;00m \\\n\u001b[1;32m     38\u001b[0m    (ETSConfig\u001b[39m.\u001b[39mtoolkit \u001b[39min\u001b[39;00m (\u001b[39m'\u001b[39m\u001b[39mnull\u001b[39m\u001b[39m'\u001b[39m, \u001b[39m'\u001b[39m\u001b[39m'\u001b[39m) \u001b[39mand\u001b[39;00m env_toolkit \u001b[39m!=\u001b[39m \u001b[39m'\u001b[39m\u001b[39mnull\u001b[39m\u001b[39m'\u001b[39m):\n\u001b[1;32m     39\u001b[0m     msg \u001b[39m=\u001b[39m \u001b[39m'''\u001b[39m\u001b[39mCould not import backend for traitsui.  Make sure you\u001b[39m\n\u001b[1;32m     40\u001b[0m \u001b[39m    have a suitable UI toolkit like PyQt/PySide or wxPython\u001b[39m\n\u001b[1;32m     41\u001b[0m \u001b[39m    installed.\u001b[39m\u001b[39m'''\u001b[39m\n\u001b[0;32m---> 42\u001b[0m     \u001b[39mraise\u001b[39;00m \u001b[39mImportError\u001b[39;00m(msg)\n",
      "\u001b[0;31mImportError\u001b[0m: Could not import backend for traitsui.  Make sure you\n        have a suitable UI toolkit like PyQt/PySide or wxPython\n        installed."
     ]
    }
   ],
   "source": [
    "uxyz.draw_volume()"
   ]
  },
  {
   "cell_type": "code",
   "execution_count": null,
   "metadata": {},
   "outputs": [],
   "source": [
    "uxyz.draw_refraction_index()"
   ]
  },
  {
   "cell_type": "markdown",
   "metadata": {},
   "source": [
    "![title](n_cylinder.png)"
   ]
  },
  {
   "cell_type": "markdown",
   "metadata": {},
   "source": [
    "### RS propagation of a circular aperture"
   ]
  },
  {
   "cell_type": "code",
   "execution_count": 7,
   "metadata": {
    "ExecuteTime": {
     "end_time": "2020-05-02T18:23:23.764379Z",
     "start_time": "2020-05-02T18:23:23.751586Z"
    }
   },
   "outputs": [],
   "source": [
    "length = 100 * um\n",
    "numdata = 128\n",
    "x0 = np.linspace(-length / 2, length / 2, numdata)\n",
    "y0 = np.linspace(-length / 2, length / 2, numdata)\n",
    "z0 = np.linspace(200 * um, 2 * mm, 128)\n",
    "wavelength = 0.5 * um\n",
    "\n",
    "u1 = Scalar_source_XY(x=x0, y=y0, wavelength=wavelength)\n",
    "u1.gauss_beam(A=1, r0=(0, 0), z0=0, w0=(150 * um, 150 * um))\n",
    "\n",
    "t1 = Scalar_mask_XY(x=x0, y=y0, wavelength=wavelength)\n",
    "t1.circle(r0=(0, 0), radius=(25 * um, 25 * um))\n",
    "t3 = u1 * t1"
   ]
  },
  {
   "cell_type": "code",
   "execution_count": 8,
   "metadata": {
    "ExecuteTime": {
     "end_time": "2020-05-02T18:23:35.947881Z",
     "start_time": "2020-05-02T18:23:23.767876Z"
    }
   },
   "outputs": [
    {
     "name": "stdout",
     "output_type": "stream",
     "text": [
      "time in RS= 8.317139387130737. num proc= 6\n"
     ]
    }
   ],
   "source": [
    "uxyz = Scalar_field_XYZ(x=x0, y=y0, z=z0, wavelength=wavelength)\n",
    "uxyz.incident_field(t3)\n",
    "uxyz.RS()\n"
   ]
  },
  {
   "cell_type": "code",
   "execution_count": null,
   "metadata": {},
   "outputs": [],
   "source": [
    "uxyz.draw_XYZ(logarithm=False, normalize='maximum')"
   ]
  },
  {
   "cell_type": "markdown",
   "metadata": {},
   "source": [
    "![title](RS_circle.png)"
   ]
  },
  {
   "cell_type": "markdown",
   "metadata": {},
   "source": [
    "### Rayleigh-Sommerfeld propagation of a gauss beam passing through a Grating"
   ]
  },
  {
   "cell_type": "code",
   "execution_count": 9,
   "metadata": {
    "ExecuteTime": {
     "end_time": "2020-05-02T18:23:35.969984Z",
     "start_time": "2020-05-02T18:23:35.951109Z"
    }
   },
   "outputs": [],
   "source": [
    "length = 500 * um\n",
    "x0 = np.linspace(-length / 2, length / 2, 128)\n",
    "y0 = np.linspace(-length / 2, length / 2, 128)\n",
    "z0 = np.linspace(2 * mm, 7 * mm, 128)\n",
    "wavelength = 0.6328 * um\n",
    "\n",
    "u1 = Scalar_source_XY(x=x0, y=y0, wavelength=wavelength)\n",
    "u1.gauss_beam(A=1, r0=(0, 0), z0=0, w0=(150 * um, 150 * um))\n",
    "\n",
    "t1 = Scalar_mask_XY(x=x0, y=y0, wavelength=wavelength)\n",
    "t1.ronchi_grating(x0=0 * um, period=20 * um, angle=0 * degrees)\n",
    "t2 = Scalar_mask_XY(x=x0, y=y0, wavelength=wavelength)\n",
    "t2.lens(r0=(0 * um, 0 * um),\n",
    "        radius=(200 * um, 200 * um),\n",
    "        focal=(5 * mm, 5 * mm),\n",
    "        angle=0 * degrees)\n",
    "\n",
    "t3 = u1 * t1 * t2"
   ]
  },
  {
   "cell_type": "code",
   "execution_count": 10,
   "metadata": {
    "ExecuteTime": {
     "end_time": "2020-05-02T18:23:42.440399Z",
     "start_time": "2020-05-02T18:23:35.971943Z"
    }
   },
   "outputs": [
    {
     "name": "stdout",
     "output_type": "stream",
     "text": [
      "time in RS= 9.478154182434082. num proc= 6\n"
     ]
    }
   ],
   "source": [
    "uxyz = Scalar_field_XYZ(x=x0, y=y0, z=z0, wavelength=wavelength)\n",
    "uxyz.incident_field(t3)\n",
    "uxyz.RS()\n",
    "uxyz.normalize()\n"
   ]
  },
  {
   "cell_type": "code",
   "execution_count": 11,
   "metadata": {
    "ExecuteTime": {
     "end_time": "2020-05-02T18:23:43.837406Z",
     "start_time": "2020-05-02T18:23:43.396202Z"
    }
   },
   "outputs": [
    {
     "data": {
      "image/png": "[encoded data removed]",
      "text/plain": [
       "<Figure size 432x288 with 1 Axes>"
      ]
     },
     "metadata": {
      "needs_background": "light"
     },
     "output_type": "display_data"
    }
   ],
   "source": [
    "uxyz.draw_XY(z0=4.5 * mm)"
   ]
  },
  {
   "cell_type": "markdown",
   "metadata": {},
   "source": [
    "A particular plane, can be passed to scalar_field_XY, and then, it can be drawn."
   ]
  },
  {
   "cell_type": "code",
   "execution_count": 12,
   "metadata": {
    "ExecuteTime": {
     "end_time": "2020-05-02T18:23:44.297902Z",
     "start_time": "2020-05-02T18:23:43.839839Z"
    }
   },
   "outputs": [
    {
     "data": {
      "image/png": "[encoded data removed]",
      "text/plain": [
       "<Figure size 432x288 with 1 Axes>"
      ]
     },
     "metadata": {
      "needs_background": "light"
     },
     "output_type": "display_data"
    }
   ],
   "source": [
    "u_xy = uxyz.to_Scalar_field_XY(z0=4.75 * mm, is_class=True, matrix=False)\n",
    "u_xy.draw(kind='intensity')\n"
   ]
  },
  {
   "cell_type": "markdown",
   "metadata": {},
   "source": [
    "Also, the intensity at the XZ plane can be obtained."
   ]
  },
  {
   "cell_type": "code",
   "execution_count": 13,
   "metadata": {
    "ExecuteTime": {
     "end_time": "2020-05-02T18:23:44.785154Z",
     "start_time": "2020-05-02T18:23:44.300132Z"
    }
   },
   "outputs": [
    {
     "data": {
      "text/plain": [
       "<Figure size 432x288 with 0 Axes>"
      ]
     },
     "metadata": {},
     "output_type": "display_data"
    },
    {
     "data": {
      "image/png": "[encoded data removed]",
      "text/plain": [
       "<Figure size 432x288 with 1 Axes>"
      ]
     },
     "metadata": {
      "needs_background": "light"
     },
     "output_type": "display_data"
    }
   ],
   "source": [
    "uxyz.draw_XZ(y0=0 * mm, logarithm=1e2)\n",
    "plt.ylim(-100, 100)\n"
   ]
  },
  {
   "cell_type": "code",
   "execution_count": null,
   "metadata": {
    "ExecuteTime": {
     "end_time": "2020-05-02T18:23:56.011744Z",
     "start_time": "2020-05-02T18:23:44.787582Z"
    }
   },
   "outputs": [],
   "source": [
    "uxyz.draw_XYZ(logarithm=False, normalize='maximum')"
   ]
  },
  {
   "cell_type": "markdown",
   "metadata": {},
   "source": [
    "![title](talbot.png)"
   ]
  },
  {
   "cell_type": "markdown",
   "metadata": {},
   "source": [
    "### Video from a XYZ distribution"
   ]
  },
  {
   "cell_type": "code",
   "execution_count": null,
   "metadata": {
    "ExecuteTime": {
     "end_time": "2020-05-02T18:44:04.906372Z",
     "start_time": "2020-05-02T18:44:04.892419Z"
    }
   },
   "outputs": [],
   "source": [
    "length = 100 * um\n",
    "numdata = 128  # 256\n",
    "x0 = np.linspace(-length / 2, length / 2, numdata)\n",
    "y0 = np.linspace(-length / 2, length / 2, numdata)\n",
    "z0 = np.linspace(200 * um, 2 * mm, 32)  #128\n",
    "wavelength = 0.5 * um\n",
    "\n",
    "u1 = Scalar_source_XY(x=x0, y=y0, wavelength=wavelength)\n",
    "u1.gauss_beam(A=1, r0=(0, 0), z0=0, w0=(150 * um, 150 * um))\n",
    "\n",
    "t1 = Scalar_mask_XY(x=x0, y=y0, wavelength=wavelength)\n",
    "t1.circle(r0=(0, 0), radius=(25 * um, 25 * um))\n",
    "t3 = u1 * t1"
   ]
  },
  {
   "cell_type": "code",
   "execution_count": null,
   "metadata": {
    "ExecuteTime": {
     "end_time": "2020-05-02T18:44:06.768212Z",
     "start_time": "2020-05-02T18:44:05.754143Z"
    }
   },
   "outputs": [],
   "source": [
    "uxyz = Scalar_field_XYZ(x=x0, y=y0, z=z0, wavelength=wavelength)\n",
    "uxyz.incident_field(t3)\n",
    "uxyz.RS()\n",
    "uxyz.normalize()"
   ]
  },
  {
   "cell_type": "code",
   "execution_count": null,
   "metadata": {
    "ExecuteTime": {
     "end_time": "2020-05-02T18:44:07.693315Z",
     "start_time": "2020-05-02T18:44:07.690178Z"
    }
   },
   "outputs": [],
   "source": [
    "filename = \"video_RS\"\n"
   ]
  },
  {
   "cell_type": "code",
   "execution_count": null,
   "metadata": {
    "ExecuteTime": {
     "end_time": "2020-05-02T18:44:27.417313Z",
     "start_time": "2020-05-02T18:44:09.292928Z"
    }
   },
   "outputs": [],
   "source": [
    "uxyz.video(filename=filename + '_int.mp4', kind='intensity', frame=False)"
   ]
  },
  {
   "cell_type": "code",
   "execution_count": null,
   "metadata": {
    "ExecuteTime": {
     "end_time": "2020-05-02T21:23:59.476385Z",
     "start_time": "2020-05-02T21:23:59.462693Z"
    },
    "vscode": {
     "languageId": "html"
    }
   },
   "outputs": [],
   "source": [
    "%%HTML\n",
    "<div align=\"middle\">\n",
    "      <video width=\"50%\" controls>\n",
    "            <source src=\"video_RS_int.mp4\" type=\"video/mp4\">\n",
    "      </video>\n",
    "</div>"
   ]
  },
  {
   "cell_type": "markdown",
   "metadata": {},
   "source": [
    "### BPM\n",
    "\n",
    "Beam Propagation Method is also implemented in this XYZ mode."
   ]
  },
  {
   "cell_type": "code",
   "execution_count": 14,
   "metadata": {
    "ExecuteTime": {
     "end_time": "2020-05-02T01:11:30.421086Z",
     "start_time": "2020-05-02T01:11:30.407074Z"
    }
   },
   "outputs": [],
   "source": [
    "x0 = np.linspace(-200 * um, 200 * um, 128)\n",
    "y0 = np.linspace(-200 * um, 200 * um, 128)\n",
    "z0 = np.linspace(0, 2 * mm, 128)\n",
    "\n",
    "wavelength = 5 * um\n",
    "\n",
    "u1 = Scalar_source_XY(x=x0, y=y0, wavelength=wavelength)\n",
    "u1.gauss_beam(A=1,\n",
    "              r0=(0 * um, 0 * um),\n",
    "              w0=(500 * um, 500 * um),\n",
    "              z0=0,\n",
    "              theta=0. * degrees,\n",
    "              phi=0 * degrees)\n"
   ]
  },
  {
   "cell_type": "code",
   "execution_count": 15,
   "metadata": {
    "ExecuteTime": {
     "end_time": "2020-05-02T01:11:30.985423Z",
     "start_time": "2020-05-02T01:11:30.883923Z"
    }
   },
   "outputs": [],
   "source": [
    "uxyz = Scalar_mask_XYZ(x=x0,\n",
    "                       y=y0,\n",
    "                       z=z0,\n",
    "                       wavelength=wavelength,\n",
    "                       n_background=1.,\n",
    "                       info='')\n",
    "uxyz.incident_field(u1)\n",
    "uxyz.sphere(r0=(0 * um, 0 * um, 200 * um),\n",
    "            radius=(75 * um, 75 * um, 75 * um),\n",
    "            refraction_index=8,\n",
    "            angles=0)\n"
   ]
  },
  {
   "cell_type": "code",
   "execution_count": null,
   "metadata": {
    "ExecuteTime": {
     "end_time": "2020-05-02T01:11:34.418675Z",
     "start_time": "2020-05-02T01:11:31.853772Z"
    }
   },
   "outputs": [],
   "source": [
    "uxyz.draw_refraction_index()"
   ]
  },
  {
   "cell_type": "code",
   "execution_count": 17,
   "metadata": {
    "ExecuteTime": {
     "end_time": "2020-05-02T01:11:35.993306Z",
     "start_time": "2020-05-02T01:11:35.607007Z"
    }
   },
   "outputs": [],
   "source": [
    "uxyz.BPM(has_edges=False)"
   ]
  },
  {
   "cell_type": "code",
   "execution_count": 18,
   "metadata": {
    "ExecuteTime": {
     "end_time": "2020-05-02T01:11:38.574820Z",
     "start_time": "2020-05-02T01:11:37.562172Z"
    }
   },
   "outputs": [
    {
     "data": {
      "text/plain": [
       "<Figure size 432x288 with 0 Axes>"
      ]
     },
     "metadata": {},
     "output_type": "display_data"
    },
    {
     "data": {
      "image/png": "[encoded data removed]",
      "text/plain": [
       "<Figure size 432x288 with 1 Axes>"
      ]
     },
     "metadata": {
      "needs_background": "light"
     },
     "output_type": "display_data"
    }
   ],
   "source": [
    "uxyz.draw_XZ(y0=0.0, logarithm=1e-2, normalize=False, draw_borders=True)\n",
    "fig = plt.gcf()\n"
   ]
  },
  {
   "cell_type": "markdown",
   "metadata": {},
   "source": [
    "### cut_function"
   ]
  },
  {
   "cell_type": "code",
   "execution_count": 22,
   "metadata": {
    "ExecuteTime": {
     "end_time": "2020-05-02T18:51:19.331426Z",
     "start_time": "2020-05-02T18:50:46.319965Z"
    }
   },
   "outputs": [],
   "source": [
    "length = 50 * um\n",
    "numdataX = 256\n",
    "numdataZ = 128\n",
    "longitud = 512 * um\n",
    "radiusFibra = 25 * um\n",
    "x0 = np.linspace(-length, length, numdataX)\n",
    "y0 = np.linspace(-length, length, numdataX)\n",
    "z0 = np.linspace(0, longitud, numdataZ)\n",
    "wavelength = 0.55 * um\n",
    "\n",
    "u1 = Scalar_source_XY(x=x0, y=y0, wavelength=wavelength)\n",
    "u1.plane_wave()\n",
    "t1 = Scalar_mask_XY(x=x0, y=y0, wavelength=wavelength)\n",
    "t1.circle(r0=(0 * um, 0 * um),\n",
    "          radius=(radiusFibra, radiusFibra),\n",
    "          angle=0 * degrees)\n",
    "u2 = u1 * t1\n",
    "\n",
    "uxyz = Scalar_mask_XYZ(x=x0,\n",
    "                       y=y0,\n",
    "                       z=z0,\n",
    "                       wavelength=wavelength,\n",
    "                       n_background=1.,\n",
    "                       info='')\n",
    "uxyz.incident_field(u2)\n",
    "uxyz.sphere(r0=(0 * um, 0 * um, radiusFibra),\n",
    "            radius=(radiusFibra, radiusFibra, radiusFibra),\n",
    "            refraction_index=2,\n",
    "            angles=(0, 0, 0))\n",
    "\n"
   ]
  },
  {
   "cell_type": "code",
   "execution_count": null,
   "metadata": {},
   "outputs": [],
   "source": [
    "uxyz.draw_refraction_index()"
   ]
  },
  {
   "cell_type": "code",
   "execution_count": 21,
   "metadata": {
    "ExecuteTime": {
     "end_time": "2020-05-02T01:11:55.697730Z",
     "start_time": "2020-05-02T01:11:52.833000Z"
    }
   },
   "outputs": [],
   "source": [
    "uxyz2 = uxyz.cut_resample(z_limits=(0, 10 * um), new_field=True)\n",
    "\n",
    "uxyz2.draw_refraction_index()"
   ]
  },
  {
   "cell_type": "markdown",
   "metadata": {},
   "source": [
    "### benchmark_RS_multiprocessing"
   ]
  },
  {
   "cell_type": "code",
   "execution_count": null,
   "metadata": {
    "ExecuteTime": {
     "end_time": "2020-05-02T18:51:20.866028Z",
     "start_time": "2020-05-02T18:51:20.767909Z"
    }
   },
   "outputs": [],
   "source": [
    "x0 = np.linspace(-25 * um, 25 * um, 128)\n",
    "y0 = np.linspace(-25 * um, 25 * um, 128)\n",
    "z0 = np.linspace(100 * um, 500 * um, 128)\n",
    "wavelength = 0.55 * um\n",
    "\n",
    "t1 = Scalar_mask_XY(x=x0, y=y0, wavelength=wavelength)\n",
    "t1.circle(r0=(0 * um, 0 * um), radius=(20 * um, 20 * um), angle=0 * degrees)\n",
    "\n",
    "uxyz = Scalar_mask_XYZ(x=x0,\n",
    "                       y=y0,\n",
    "                       z=z0,\n",
    "                       wavelength=wavelength,\n",
    "                       n_background=1.,\n",
    "                       info='')\n",
    "uxyz.incident_field(t1)\n",
    "uxyz.sphere(r0=(0 * um, 0 * um, 0 * um),\n",
    "            radius=(10 * um, 30 * um, 50 * um),\n",
    "            refraction_index=2,\n",
    "            angles=(0 * degrees, 0 * degrees, 45 * degrees))\n",
    "uxyz.u0 = t1"
   ]
  },
  {
   "cell_type": "code",
   "execution_count": null,
   "metadata": {
    "ExecuteTime": {
     "end_time": "2020-05-02T18:51:30.012399Z",
     "start_time": "2020-05-02T18:51:28.047966Z"
    }
   },
   "outputs": [],
   "source": [
    "time = uxyz.RS(num_processors=1, verbose=False)\n",
    "print(\"time in RS_multiprocessing {}: {} seconds\".format(1, time))\n"
   ]
  },
  {
   "cell_type": "code",
   "execution_count": null,
   "metadata": {
    "ExecuteTime": {
     "end_time": "2020-05-02T18:51:37.784051Z",
     "start_time": "2020-05-02T18:51:33.196263Z"
    }
   },
   "outputs": [],
   "source": [
    "time = uxyz.RS(num_processors=4, verbose=False)\n",
    "print(\"time in RS_multiprocessing {}: {} seconds\".format(4, time))\n"
   ]
  },
  {
   "cell_type": "code",
   "execution_count": null,
   "metadata": {
    "ExecuteTime": {
     "end_time": "2020-05-02T18:51:48.703169Z",
     "start_time": "2020-05-02T18:51:37.787328Z"
    }
   },
   "outputs": [],
   "source": [
    "uxyz.draw_XYZ()"
   ]
  },
  {
   "cell_type": "markdown",
   "metadata": {
    "ExecuteTime": {
     "end_time": "2020-05-02T18:50:11.346433Z",
     "start_time": "2020-05-02T18:50:11.215772Z"
    }
   },
   "source": [
    "![title](sphere.png)"
   ]
  },
  {
   "cell_type": "code",
   "execution_count": null,
   "metadata": {},
   "outputs": [],
   "source": []
  }
 ],
 "metadata": {
  "kernelspec": {
   "display_name": "Python 3 (ipykernel)",
   "language": "python",
   "name": "python3"
  },
  "language_info": {
   "codemirror_mode": {
    "name": "ipython",
    "version": 3
   },
   "file_extension": ".py",
   "mimetype": "text/x-python",
   "name": "python",
   "nbconvert_exporter": "python",
   "pygments_lexer": "ipython3",
   "version": "3.10.6"
  },
  "toc": {
   "base_numbering": 1,
   "nav_menu": {},
   "number_sections": true,
   "sideBar": true,
   "skip_h1_title": false,
   "title_cell": "Table of Contents",
   "title_sidebar": "Contents",
   "toc_cell": false,
   "toc_position": {},
   "toc_section_display": true,
   "toc_window_display": false
  },
  "vscode": {
   "interpreter": {
    "hash": "31f2aee4e71d21fbe5cf8b01ff0e069b9275f58929596ceb00d14d90e3e16cd6"
   }
  }
 },
 "nbformat": 4,
 "nbformat_minor": 4
}
