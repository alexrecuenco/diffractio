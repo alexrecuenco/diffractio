{
 "cells": [
  {
   "cell_type": "markdown",
   "metadata": {},
   "source": [
    "# 1D masks for lithography"
   ]
  },
  {
   "cell_type": "markdown",
   "metadata": {},
   "source": [
    "\n",
    "## Introduction\n",
    "\n",
    "In this example, we analyze how to use diffractio.scalar_sources_X, scalar_fields_X and scalar_masks_X generating 1D masks for lithography. The protocols is not fully implemented because of the first transition. Nevertheless, a function named get_edges has been developed which returns pos_transitions, type_transitions, raising, falling arrays:\n",
    "- type_transition: array with +1, -1 with rasing or falling edges\n",
    "- pos_transition: positions x of transitions\n",
    "- raising: positions of raising\n",
    "- falling: positions of falling"
   ]
  },
  {
   "cell_type": "markdown",
   "metadata": {},
   "source": [
    "## Transitions for a chirped grating \n",
    "The main function for this example is `get_edges` that returns the following variables:\n",
    "\n",
    "* pos_transitions, type_transitions, raising, falling \n",
    "\n",
    "which locates the raising and falling transitions in a Scalar_mask_X. This functions is mainly used for binary gratings, both amplitude or phase masks."
   ]
  },
  {
   "cell_type": "code",
   "execution_count": 1,
   "metadata": {},
   "outputs": [],
   "source": [
    "%matplotlib inline\n",
    "\n",
    "from diffractio import degrees, mm, plt, sp, um, np\n",
    "from diffractio.scalar_sources_X import Scalar_source_X\n",
    "from diffractio.scalar_masks_X import Scalar_mask_X"
   ]
  },
  {
   "cell_type": "code",
   "execution_count": 2,
   "metadata": {},
   "outputs": [],
   "source": [
    "# Definition of input parameters\n",
    "num_pixels = 1024*16\n",
    "x0 = sp.linspace(0*mm, 5*mm, num_pixels)\n",
    "wavelength = 0.6238 * um"
   ]
  },
  {
   "cell_type": "code",
   "execution_count": 3,
   "metadata": {},
   "outputs": [
    {
     "data": {
      "image/png": "[encoded data removed]",
      "text/plain": [
       "<Figure size 432x288 with 1 Axes>"
      ]
     },
     "metadata": {
      "needs_background": "light"
     },
     "output_type": "display_data"
    }
   ],
   "source": [
    "#Definition of mask\n",
    "t1 = Scalar_mask_X(x=x0, wavelength=wavelength)\n",
    "t1.chirped_grating_q(kind='amplitude_binaria',\n",
    "                          p0=500*um,\n",
    "                          p1=100*um,\n",
    "                          amp_min=0,\n",
    "                          amp_max=1,\n",
    "                          phase_max=0,\n",
    "                          delta_x=0,\n",
    "                          length=4*mm,\n",
    "                          x_center=2.5*mm)\n",
    "t1.draw()"
   ]
  },
  {
   "cell_type": "code",
   "execution_count": 4,
   "metadata": {},
   "outputs": [
    {
     "name": "stdout",
     "output_type": "stream",
     "text": [
      "position of transitions:\n",
      "_______________________\n",
      "[[ 5.00061039e+02  1.00000000e+00]\n",
      " [ 6.18171275e+02 -1.00000000e+00]\n",
      " [ 8.22956723e+02  1.00000000e+00]\n",
      " [ 9.99969481e+02 -1.00000000e+00]\n",
      " [ 1.15836538e+03  1.00000000e+00]\n",
      " [ 1.30272233e+03 -1.00000000e+00]\n",
      " [ 1.43639749e+03  1.00000000e+00]\n",
      " [ 1.56152719e+03 -1.00000000e+00]\n",
      " [ 1.67933223e+03  1.00000000e+00]\n",
      " [ 1.79133858e+03 -1.00000000e+00]\n",
      " [ 1.89785143e+03  1.00000000e+00]\n",
      " [ 2.00009156e+03 -1.00000000e+00]\n",
      " [ 2.09805896e+03  1.00000000e+00]\n",
      " [ 2.19266923e+03 -1.00000000e+00]\n",
      " [ 2.28392236e+03  1.00000000e+00]\n",
      " [ 2.37242874e+03 -1.00000000e+00]\n",
      " [ 2.45788317e+03  1.00000000e+00]\n",
      " [ 2.54120125e+03 -1.00000000e+00]\n",
      " [ 2.62268815e+03  1.00000000e+00]\n",
      " [ 2.70173350e+03 -1.00000000e+00]\n",
      " [ 2.77894769e+03  1.00000000e+00]\n",
      " [ 2.85402551e+03 -1.00000000e+00]\n",
      " [ 2.92788256e+03  1.00000000e+00]\n",
      " [ 2.99990844e+03 -1.00000000e+00]\n",
      " [ 3.07071354e+03  1.00000000e+00]\n",
      " [ 3.14029787e+03 -1.00000000e+00]\n",
      " [ 3.20805103e+03  1.00000000e+00]\n",
      " [ 3.27488860e+03 -1.00000000e+00]\n",
      " [ 3.34050540e+03  1.00000000e+00]\n",
      " [ 3.40520662e+03 -1.00000000e+00]\n",
      " [ 3.46868705e+03  1.00000000e+00]\n",
      " [ 3.53094671e+03 -1.00000000e+00]\n",
      " [ 3.59259598e+03  1.00000000e+00]\n",
      " [ 3.65332967e+03 -1.00000000e+00]\n",
      " [ 3.71284258e+03  1.00000000e+00]\n",
      " [ 3.77205030e+03 -1.00000000e+00]\n",
      " [ 3.83003723e+03  1.00000000e+00]\n",
      " [ 3.88741378e+03 -1.00000000e+00]\n",
      " [ 3.94417994e+03  1.00000000e+00]\n",
      " [ 4.00003052e+03 -1.00000000e+00]\n",
      " [ 4.05527071e+03  1.00000000e+00]\n",
      " [ 4.10959531e+03 -1.00000000e+00]\n",
      " [ 4.16361472e+03  1.00000000e+00]\n",
      " [ 4.21702374e+03 -1.00000000e+00]\n",
      " [ 4.26951718e+03  1.00000000e+00]\n",
      " [ 4.32201062e+03 -1.00000000e+00]\n",
      " [ 4.37328328e+03  1.00000000e+00]\n",
      " [ 4.42455594e+03 -1.00000000e+00]\n",
      " [ 4.47491302e+03  1.00000000e+00]\n",
      " [ 4.49993896e+03 -1.00000000e+00]]\n",
      "\n",
      "\n",
      "\n",
      "raising         falling:\n",
      "_______________________\n",
      "[[ 500.06103888  618.1712751 ]\n",
      " [ 822.95672343  999.96948056]\n",
      " [1158.36537875 1302.72233413]\n",
      " [1436.3974852  1561.52719282]\n",
      " [1679.33223463 1791.33858268]\n",
      " [1897.85143136 2000.09155832]\n",
      " [2098.05896356 2192.6692303 ]\n",
      " [2283.92235854 2372.42873711]\n",
      " [2457.88317158 2541.20124519]\n",
      " [2622.68815235 2701.73350424]\n",
      " [2778.94768968 2854.02551425]\n",
      " [2927.88256119 2999.90844168]\n",
      " [3070.71354453 3140.29786974]\n",
      " [3208.05102851 3274.88860404]\n",
      " [3340.50540194 3405.20661661]\n",
      " [3468.68705365 3530.94671306]\n",
      " [3592.59598364 3653.329671  ]\n",
      " [3712.84258072 3772.05029604]\n",
      " [3830.03723372 3887.41378258]\n",
      " [3944.17994262 4000.03051944]\n",
      " [4055.27070744 4109.59531221]\n",
      " [4163.61472258 4217.02374413]\n",
      " [4269.51718245 4322.01062077]\n",
      " [4373.28328145 4424.55594214]\n",
      " [4474.91301959 4499.93896112]]\n"
     ]
    }
   ],
   "source": [
    "# main function for this example: \n",
    "pos_transitions, type_transitions, raising, falling = t1.get_edges(kind_transition='amplitude',\n",
    "                        min_step=0,\n",
    "                        verbose=True,\n",
    "                        filename='jupyter_example')"
   ]
  }
 ],
 "metadata": {
  "kernelspec": {
   "display_name": "Python 3",
   "language": "python",
   "name": "python3"
  },
  "language_info": {
   "codemirror_mode": {
    "name": "ipython",
    "version": 3
   },
   "file_extension": ".py",
   "mimetype": "text/x-python",
   "name": "python",
   "nbconvert_exporter": "python",
   "pygments_lexer": "ipython3",
   "version": "3.6.8"
  },
  "latex_envs": {
   "LaTeX_envs_menu_present": true,
   "autocomplete": true,
   "bibliofile": "biblio.bib",
   "cite_by": "apalike",
   "current_citInitial": 1,
   "eqLabelWithNumbers": true,
   "eqNumInitial": 1,
   "hotkeys": {
    "equation": "Ctrl-E",
    "itemize": "Ctrl-I"
   },
   "labels_anchors": false,
   "latex_user_defs": false,
   "report_style_numbering": true,
   "user_envs_cfg": true
  },
  "toc": {
   "base_numbering": 1,
   "nav_menu": {
    "height": "149px",
    "width": "468px"
   },
   "number_sections": false,
   "sideBar": true,
   "skip_h1_title": false,
   "title_cell": "Table of Contents",
   "title_sidebar": "Contents",
   "toc_cell": false,
   "toc_position": {
    "height": "337px",
    "left": "1px",
    "right": "1656px",
    "top": "218px",
    "width": "212px"
   },
   "toc_section_display": true,
   "toc_window_display": true
  },
  "varInspector": {
   "cols": {
    "lenName": 16,
    "lenType": 16,
    "lenVar": 40
   },
   "kernels_config": {
    "python": {
     "delete_cmd_postfix": "",
     "delete_cmd_prefix": "del ",
     "library": "var_list.py",
     "varRefreshCmd": "print(var_dic_list())"
    },
    "r": {
     "delete_cmd_postfix": ") ",
     "delete_cmd_prefix": "rm(",
     "library": "var_list.r",
     "varRefreshCmd": "cat(var_dic_list()) "
    }
   },
   "oldHeight": 123,
   "position": {
    "height": "40px",
    "left": "1498px",
    "right": "21px",
    "top": "120px",
    "width": "350px"
   },
   "types_to_exclude": [
    "module",
    "function",
    "builtin_function_or_method",
    "instance",
    "_Feature"
   ],
   "varInspector_section_display": "none",
   "window_display": true
  }
 },
 "nbformat": 4,
 "nbformat_minor": 2
}
