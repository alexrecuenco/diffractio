{
 "cells": [
  {
   "cell_type": "code",
   "execution_count": 1,
   "metadata": {},
   "outputs": [],
   "source": [
    "from __future__ import print_function, division\n"
   ]
  },
  {
   "cell_type": "code",
   "execution_count": 2,
   "metadata": {},
   "outputs": [
    {
     "name": "stdout",
     "output_type": "stream",
     "text": [
      "number of processors: 8\n"
     ]
    }
   ],
   "source": [
    "%matplotlib inline\n",
    "\n",
    "import matplotlib.pyplot as plt\n",
    "import numexpr\n",
    "import diffractio\n",
    "# configuration\n",
    "from diffractio.scalar_masks_XZ import Scalar_mask_XZ\n",
    "from diffractio import um, sp, np, degrees\n",
    "from numpy import ones, zeros, shape\n",
    "\n",
    "from diffractio import degrees, mm, plt, sp, um\n",
    "from diffractio.scalar_sources_X import Scalar_source_X\n",
    "from diffractio.scalar_masks_X import Scalar_mask_X"
   ]
  },
  {
   "cell_type": "code",
   "execution_count": 3,
   "metadata": {},
   "outputs": [],
   "source": [
    "def fiber (u, width1, width2, x0, n1, n2, angle):\n",
    "        '''Fibra óptica\n",
    "\n",
    "        Args:\n",
    "        x0 (float): Altura del centro de la fibra\n",
    "        width1 (float): Ancho del nucleo de la  fibra\n",
    "        width2 (float): Ancho total de la  fibra\n",
    "        n1(float): Indice de refraccion del nucleo\n",
    "        n2(float): Indice de refraccion de la fibra\n",
    "        angle(float): angulo de la fibra\n",
    "\n",
    "        Example:'''\n",
    "        \n",
    "        xmax=x0+width2\n",
    "        xmin=x0-width2\n",
    "        xn_max=x0+width1\n",
    "        xn_min=x0-width1\n",
    "        \n",
    "        Xrot, Zrot = u.__rotate__(angle,(25*um,25*um))\n",
    "\n",
    "        u1 = ones(u.X.shape,dtype=complex)\n",
    "        u1[(Xrot > xmin) & (Xrot < xmax)] = n2\n",
    "        u1[(Xrot > xn_min) & (Xrot < xn_max)] = n1\n",
    "        \n",
    "        u.n=u1\n",
    "        \n",
    "        return u"
   ]
  },
  {
   "cell_type": "markdown",
   "metadata": {},
   "source": [
    "## Ejemplo 1"
   ]
  },
  {
   "cell_type": "code",
   "execution_count": 4,
   "metadata": {},
   "outputs": [],
   "source": [
    "x0 = sp.linspace(-55 * um, 55 * um, 2048)\n",
    "z0 = sp.linspace(0 * um, 5*mm, 2048*2)\n",
    "\n",
    "wavelength = 0.550 * um"
   ]
  },
  {
   "cell_type": "code",
   "execution_count": 16,
   "metadata": {},
   "outputs": [
    {
     "ename": "NameError",
     "evalue": "name 'x' is not defined",
     "output_type": "error",
     "traceback": [
      "\u001b[0;31m---------------------------------------------------------------------------\u001b[0m",
      "\u001b[0;31mNameError\u001b[0m                                 Traceback (most recent call last)",
      "\u001b[0;32m<ipython-input-16-adb21e3419a0>\u001b[0m in \u001b[0;36m<module>\u001b[0;34m\u001b[0m\n\u001b[0;32m----> 1\u001b[0;31m \u001b[0mu1\u001b[0m\u001b[0;34m=\u001b[0m\u001b[0mScalar_mask_XZ\u001b[0m\u001b[0;34m(\u001b[0m\u001b[0mwavelength\u001b[0m\u001b[0;34m=\u001b[0m\u001b[0mwavelength\u001b[0m\u001b[0;34m,\u001b[0m \u001b[0mx\u001b[0m\u001b[0;34m=\u001b[0m\u001b[0mx\u001b[0m\u001b[0;34m,\u001b[0m \u001b[0mz\u001b[0m\u001b[0;34m=\u001b[0m\u001b[0mz\u001b[0m\u001b[0;34m)\u001b[0m\u001b[0;34m\u001b[0m\u001b[0;34m\u001b[0m\u001b[0m\n\u001b[0m",
      "\u001b[0;31mNameError\u001b[0m: name 'x' is not defined"
     ]
    }
   ],
   "source": [
    "u1=Scalar_mask_XZ(wavelength=wavelength, x=x, z=z)"
   ]
  },
  {
   "cell_type": "code",
   "execution_count": null,
   "metadata": {},
   "outputs": [],
   "source": [
    "# Initial parameters\n",
    "\n",
    "u0 = Scalar_source_X(x=x0, wavelength = 550 * um)\n",
    "u0.gauss_beam(A=1, x0=0 * um, z0=0 * um, w0= 5 * um, theta=0. * degrees)\n",
    "#u0.plane_wave(A=1, z0=0 * um, theta=0. * degrees)\n",
    "\n",
    "u1 = Scalar_mask_XZ(x=x0, z=z0, wavelength=wavelength, n_background=1)\n",
    "u1.incident_field(u0)  # insert field\n",
    "\n",
    "n1 = 1.5 # nucleus index\n",
    "n2 = 1.4 # cladding index\n",
    "\n",
    "u1 = fiber (u1,5*um, 50*um, 0*um, n1, n2, 0*degrees)\n",
    "u1.rectangle(r0 = (30,10), size = (40,20), refraction_index = 2.0j, angle = 0*degrees)\n",
    "u1.rectangle(r0 = (-30,10), size = (40,20), refraction_index = 2j, angle = 0*degrees)\n",
    "\n",
    "# draw refraction index\n",
    "u1.draw_refraction_index()\n",
    "\n",
    "# BPM propagation \n",
    "u1.BPM(verbose=False)"
   ]
  },
  {
   "cell_type": "code",
   "execution_count": null,
   "metadata": {},
   "outputs": [],
   "source": [
    "# draw results\n",
    "u1.draw(logarithm=True, normalize='maximum', draw_borders=True)"
   ]
  },
  {
   "cell_type": "code",
   "execution_count": null,
   "metadata": {
    "scrolled": false
   },
   "outputs": [],
   "source": [
    "u1.profile_transversal(kind='intensity', z0=5000, draw=True)\n",
    "plt.show()"
   ]
  },
  {
   "cell_type": "markdown",
   "metadata": {},
   "source": [
    "### other case"
   ]
  },
  {
   "cell_type": "code",
   "execution_count": null,
   "metadata": {},
   "outputs": [],
   "source": [
    "x0 = sp.linspace(-25 * um, 25 * um, 2048*4)\n",
    "z0 = sp.linspace(0 * um, 5*mm, 2048*4)\n",
    "\n",
    "wavelength = .5 * um"
   ]
  },
  {
   "cell_type": "code",
   "execution_count": null,
   "metadata": {},
   "outputs": [],
   "source": [
    "u0 = Scalar_source_X(x=x0, wavelength =wavelength)\n",
    "u0.gauss_beam(A=1, x0=0 * um, z0=0 * um, w0=5 * um, theta=0. * degrees)\n",
    "u1 = Scalar_mask_XZ(x=x0, z=z0, wavelength=wavelength, n_background=1)\n",
    "u1.incident_field(u0)  # insertÇ field\n",
    "u1= fiber (u1, 5*um, 25*um, 0*um, 1.5,1.65, 0*degrees)"
   ]
  },
  {
   "cell_type": "code",
   "execution_count": null,
   "metadata": {},
   "outputs": [],
   "source": [
    "# BPM propagation \n",
    "u1.BPM(verbose=False)"
   ]
  },
  {
   "cell_type": "code",
   "execution_count": null,
   "metadata": {},
   "outputs": [],
   "source": [
    "# draw refraction index\n",
    "u1.draw_refraction_index()"
   ]
  },
  {
   "cell_type": "code",
   "execution_count": null,
   "metadata": {},
   "outputs": [],
   "source": [
    "# draw results\n",
    "u1.u=np.log(np.abs(u1.u)**2+1)\n",
    "u1.draw(logarithm=True, normalize='maximum', draw_borders=True)\n"
   ]
  },
  {
   "cell_type": "code",
   "execution_count": null,
   "metadata": {},
   "outputs": [],
   "source": [
    "u1.check_intensity();"
   ]
  },
  {
   "cell_type": "code",
   "execution_count": null,
   "metadata": {},
   "outputs": [],
   "source": [
    "u1.profile_longitudinal(x0=0);"
   ]
  },
  {
   "cell_type": "code",
   "execution_count": null,
   "metadata": {},
   "outputs": [],
   "source": []
  },
  {
   "cell_type": "code",
   "execution_count": null,
   "metadata": {},
   "outputs": [],
   "source": []
  }
 ],
 "metadata": {
  "kernelspec": {
   "display_name": "Python 3",
   "language": "python",
   "name": "python3"
  },
  "language_info": {
   "codemirror_mode": {
    "name": "ipython",
    "version": 3
   },
   "file_extension": ".py",
   "mimetype": "text/x-python",
   "name": "python",
   "nbconvert_exporter": "python",
   "pygments_lexer": "ipython3",
   "version": "3.6.8"
  },
  "toc": {
   "base_numbering": 1,
   "nav_menu": {},
   "number_sections": true,
   "sideBar": true,
   "skip_h1_title": false,
   "title_cell": "Table of Contents",
   "title_sidebar": "Contents",
   "toc_cell": false,
   "toc_position": {},
   "toc_section_display": true,
   "toc_window_display": false
  },
  "varInspector": {
   "cols": {
    "lenName": 16,
    "lenType": 16,
    "lenVar": 40
   },
   "kernels_config": {
    "python": {
     "delete_cmd_postfix": "",
     "delete_cmd_prefix": "del ",
     "library": "var_list.py",
     "varRefreshCmd": "print(var_dic_list())"
    },
    "r": {
     "delete_cmd_postfix": ") ",
     "delete_cmd_prefix": "rm(",
     "library": "var_list.r",
     "varRefreshCmd": "cat(var_dic_list()) "
    }
   },
   "types_to_exclude": [
    "module",
    "function",
    "builtin_function_or_method",
    "instance",
    "_Feature"
   ],
   "window_display": false
  }
 },
 "nbformat": 4,
 "nbformat_minor": 2
}
