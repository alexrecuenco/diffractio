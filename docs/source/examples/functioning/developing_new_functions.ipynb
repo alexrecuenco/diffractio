{
 "cells": [
  {
   "cell_type": "markdown",
   "metadata": {},
   "source": [
    "# Developing new functions\n",
    "\n",
    "Sometimes we need to generate new functions for the modules. For development purposes, new functions can be generated in jupyter and included in a module as if they were inside the module:\n",
    "- Create the function to test.\n",
    "- Make the first argument of the function: self\n",
    "- Return the same value: self\n",
    "- When calling the function: u1=function_new(u1,...)"
   ]
  },
  {
   "cell_type": "code",
   "execution_count": 1,
   "metadata": {
    "ExecuteTime": {
     "end_time": "2020-05-26T11:21:37.733679Z",
     "start_time": "2020-05-26T11:21:37.728128Z"
    }
   },
   "outputs": [
    {
     "name": "stdout",
     "output_type": "stream",
     "text": [
      "number of processors: 8\n",
      "total memory        : 15.5 Gb\n",
      "available memory    : 65 %\n",
      "max frequency       : 3100 GHz\n",
      "battery\t\t    : 100 %\n"
     ]
    }
   ],
   "source": [
    "from diffractio import np, plt, sp, um, mm, degrees, nm\n",
    "from diffractio.scalar_masks_XY import Scalar_mask_XY"
   ]
  },
  {
   "cell_type": "code",
   "execution_count": 2,
   "metadata": {
    "ExecuteTime": {
     "end_time": "2020-05-26T11:22:56.525736Z",
     "start_time": "2020-05-26T11:22:56.521464Z"
    }
   },
   "outputs": [],
   "source": [
    "x0=np.linspace(-500*um, 500*um, 256)\n",
    "y0=np.linspace(-500*um, 500*um, 256)\n",
    "wavelength=0.6328*um"
   ]
  },
  {
   "cell_type": "markdown",
   "metadata": {},
   "source": [
    "## Standard procedure"
   ]
  },
  {
   "cell_type": "code",
   "execution_count": 3,
   "metadata": {
    "ExecuteTime": {
     "end_time": "2020-05-26T11:30:19.215621Z",
     "start_time": "2020-05-26T11:30:18.978334Z"
    }
   },
   "outputs": [
    {
     "data": {
      "image/png": "[encoded data removed]",
      "text/plain": [
       "<Figure size 500x500 with 1 Axes>"
      ]
     },
     "metadata": {
      "needs_background": "light"
     },
     "output_type": "display_data"
    }
   ],
   "source": [
    "u0=Scalar_mask_XY(x0,y0,wavelength)\n",
    "u0.ring(r0=(0,0), radius1=200*um, radius2=400*um, angle=0*degrees)\n",
    "u0.draw();"
   ]
  },
  {
   "cell_type": "markdown",
   "metadata": {},
   "source": [
    "This function, inside diffractio is:\n",
    "\n",
    "def ring(self, r0, radius1, radius2, angle=0 * degrees):\n",
    "       \n",
    "       \"\"\" Ring.\n",
    "        Parameters:\n",
    "            r0 (float, float): center of ring\n",
    "            radius1 (float, float) or (float): inner radius\n",
    "            radius2 (float, float) or (float): outer radius\n",
    "            angle (float): angle of rotation in radians\n",
    "        \"\"\"\n",
    "\n",
    "\n",
    "        ring1 = Scalar_mask_XY(self.x, self.y, self.wavelength)\n",
    "        ring2 = Scalar_mask_XY(self.x, self.y, self.wavelength)\n",
    "        ring1.circle(r0, radius1, angle)\n",
    "        ring2.circle(r0, radius2, angle)\n",
    "\n",
    "        self.u = ring2.u - ring1.u"
   ]
  },
  {
   "cell_type": "markdown",
   "metadata": {},
   "source": [
    "## Development Mode"
   ]
  },
  {
   "cell_type": "code",
   "execution_count": 4,
   "metadata": {
    "ExecuteTime": {
     "end_time": "2020-05-26T11:30:19.962109Z",
     "start_time": "2020-05-26T11:30:19.954418Z"
    }
   },
   "outputs": [],
   "source": [
    "def ring_new(self, r0, radius1, radius2, angle=0 * degrees):\n",
    "        \"\"\" Ring.\n",
    "\n",
    "        Parameters:\n",
    "            r0 (float, float): center of ring\n",
    "            radius1 (float, float) or (float): inner radius\n",
    "            radius2 (float, float) or (float): outer radius\n",
    "            angle (float): angle of rotation in radians\n",
    "        \"\"\"\n",
    "\n",
    "\n",
    "        ring1 = Scalar_mask_XY(self.x, self.y, self.wavelength)\n",
    "        ring2 = Scalar_mask_XY(self.x, self.y, self.wavelength)\n",
    "        ring1.circle(r0, radius1, angle)\n",
    "        ring2.circle(r0, radius2, angle)\n",
    "\n",
    "        self.u = ring2.u - ring1.u\n",
    "        print(\"I am in the new function\")\n",
    "        return self"
   ]
  },
  {
   "cell_type": "code",
   "execution_count": 5,
   "metadata": {
    "ExecuteTime": {
     "end_time": "2020-05-26T11:30:20.365657Z",
     "start_time": "2020-05-26T11:30:20.106250Z"
    }
   },
   "outputs": [
    {
     "name": "stdout",
     "output_type": "stream",
     "text": [
      "I am in the new function\n"
     ]
    },
    {
     "data": {
      "image/png": "[encoded data removed]",
      "text/plain": [
       "<Figure size 500x500 with 1 Axes>"
      ]
     },
     "metadata": {
      "needs_background": "light"
     },
     "output_type": "display_data"
    }
   ],
   "source": [
    "# Now it works as if it were inside Scalar_mask_XY\n",
    "\n",
    "u1=Scalar_mask_XY(x0,y0,wavelength)\n",
    "u1=ring_new(u1, r0=(0,0), radius1=200*um, radius2=400*um, angle=0*degrees)\n",
    "u1.draw();"
   ]
  },
  {
   "cell_type": "code",
   "execution_count": null,
   "metadata": {},
   "outputs": [],
   "source": []
  }
 ],
 "metadata": {
  "kernelspec": {
   "display_name": "Python 3",
   "language": "python",
   "name": "python3"
  },
  "language_info": {
   "codemirror_mode": {
    "name": "ipython",
    "version": 3
   },
   "file_extension": ".py",
   "mimetype": "text/x-python",
   "name": "python",
   "nbconvert_exporter": "python",
   "pygments_lexer": "ipython3",
   "version": "3.8.5"
  },
  "toc": {
   "base_numbering": 1,
   "nav_menu": {},
   "number_sections": true,
   "sideBar": true,
   "skip_h1_title": false,
   "title_cell": "Table of Contents",
   "title_sidebar": "Contents",
   "toc_cell": false,
   "toc_position": {},
   "toc_section_display": true,
   "toc_window_display": false
  }
 },
 "nbformat": 4,
 "nbformat_minor": 4
}
