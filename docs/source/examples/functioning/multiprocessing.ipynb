{
 "cells": [
  {
   "cell_type": "markdown",
   "metadata": {},
   "source": [
    "## Multiprocessing examples"
   ]
  },
  {
   "cell_type": "markdown",
   "metadata": {},
   "source": [
    "In this example we will analyze several cases were we can use multiprocessing for accelerating our computations. Some of this cases are implemented in the modules. Other cases are implemented in specific functions.\n",
    "\n",
    "The cases that we will se include:\n",
    "\n",
    "* Rayleigh-Sommerfed computations in XZ and XYZ modules.\n",
    "* Polychromatic light\n",
    "* Extended sources\n",
    "* Polychromatic and extended sources\n",
    "* Simultaneous simulations, as moving parts\n"
   ]
  },
  {
   "cell_type": "code",
   "execution_count": 1,
   "metadata": {
    "ExecuteTime": {
     "end_time": "2020-05-01T22:33:08.296501Z",
     "start_time": "2020-05-01T22:33:07.813915Z"
    }
   },
   "outputs": [],
   "source": [
    "%matplotlib inline"
   ]
  },
  {
   "cell_type": "code",
   "execution_count": 2,
   "metadata": {
    "ExecuteTime": {
     "end_time": "2020-05-01T22:33:09.330686Z",
     "start_time": "2020-05-01T22:33:08.298894Z"
    }
   },
   "outputs": [
    {
     "name": "stdout",
     "output_type": "stream",
     "text": [
      "number of processors: 8\n"
     ]
    }
   ],
   "source": [
    "import time\n",
    "\n",
    "from diffractio import degrees, mm, np, num_max_processors, plt, um\n",
    "from diffractio.scalar_fields_X import (Scalar_field_X,\n",
    "                                        extended_polychromatic_source,\n",
    "                                        extended_source_multiprocessing,\n",
    "                                        polychromatic_multiprocessing)\n",
    "from diffractio.scalar_masks_X import Scalar_mask_X\n",
    "from diffractio.scalar_sources_X import Scalar_source_X\n",
    "from diffractio.utils_multiprocessing import (_pickle_method, _unpickle_method,\n",
    "                                              execute_multiprocessing)\n",
    "from multiprocessing import Pool\n",
    "from diffractio.utils_optics import (gauss_spectrum, lorentz_spectrum,\n",
    "                                     uniform_spectrum)\n",
    "\n",
    "from diffractio.scalar_fields_XZ import Scalar_field_XZ\n"
   ]
  },
  {
   "cell_type": "code",
   "execution_count": 3,
   "metadata": {
    "ExecuteTime": {
     "end_time": "2020-05-01T22:33:09.338377Z",
     "start_time": "2020-05-01T22:33:09.334493Z"
    }
   },
   "outputs": [],
   "source": [
    "from matplotlib import rcParams\n",
    "\n",
    "rcParams['figure.figsize']=(6,4)\n",
    "rcParams['figure.dpi']=150"
   ]
  },
  {
   "cell_type": "markdown",
   "metadata": {},
   "source": [
    "### Extended Source"
   ]
  },
  {
   "cell_type": "code",
   "execution_count": 5,
   "metadata": {
    "ExecuteTime": {
     "end_time": "2020-05-01T22:33:12.307445Z",
     "start_time": "2020-05-01T22:33:09.352442Z"
    }
   },
   "outputs": [
    {
     "ename": "TypeError",
     "evalue": "lens() missing 1 required positional argument: 'x0'",
     "output_type": "error",
     "traceback": [
      "\u001b[0;31m---------------------------------------------------------------------------\u001b[0m",
      "\u001b[0;31mTypeError\u001b[0m                                 Traceback (most recent call last)",
      "\u001b[0;32m<ipython-input-5-66f60111d845>\u001b[0m in \u001b[0;36m<module>\u001b[0;34m\u001b[0m\n\u001b[1;32m     11\u001b[0m \u001b[0;34m\u001b[0m\u001b[0m\n\u001b[1;32m     12\u001b[0m \u001b[0mlens\u001b[0m \u001b[0;34m=\u001b[0m \u001b[0mScalar_mask_X\u001b[0m\u001b[0;34m(\u001b[0m\u001b[0mx\u001b[0m\u001b[0;34m,\u001b[0m \u001b[0mwavelength\u001b[0m\u001b[0;34m)\u001b[0m\u001b[0;34m\u001b[0m\u001b[0;34m\u001b[0m\u001b[0m\n\u001b[0;32m---> 13\u001b[0;31m \u001b[0mlens\u001b[0m\u001b[0;34m.\u001b[0m\u001b[0mlens\u001b[0m\u001b[0;34m(\u001b[0m\u001b[0mfocal\u001b[0m\u001b[0;34m=\u001b[0m\u001b[0mfocal\u001b[0m\u001b[0;34m,\u001b[0m \u001b[0mradius\u001b[0m\u001b[0;34m=\u001b[0m\u001b[0;36m30\u001b[0m \u001b[0;34m*\u001b[0m \u001b[0mmm\u001b[0m\u001b[0;34m)\u001b[0m\u001b[0;34m\u001b[0m\u001b[0;34m\u001b[0m\u001b[0m\n\u001b[0m\u001b[1;32m     14\u001b[0m \u001b[0;34m\u001b[0m\u001b[0m\n\u001b[1;32m     15\u001b[0m \u001b[0mu1\u001b[0m \u001b[0;34m=\u001b[0m \u001b[0mScalar_source_X\u001b[0m\u001b[0;34m(\u001b[0m\u001b[0mx\u001b[0m\u001b[0;34m,\u001b[0m \u001b[0mwavelength\u001b[0m\u001b[0;34m)\u001b[0m\u001b[0;34m\u001b[0m\u001b[0;34m\u001b[0m\u001b[0m\n",
      "\u001b[0;31mTypeError\u001b[0m: lens() missing 1 required positional argument: 'x0'"
     ]
    }
   ],
   "source": [
    "x = np.linspace(-500 * um, 500 * um, 1024*8)\n",
    "wavelength = 0.850 * um\n",
    "num_fuentes = 101\n",
    "S = 3000 * um\n",
    "z0 = -500 * mm\n",
    "period = 50 * um\n",
    "focal = 5 * mm\n",
    "\n",
    "red = Scalar_mask_X(x, wavelength)\n",
    "red.ronchi_grating(x0=0 * um, period=period, fill_factor=0.5)\n",
    "\n",
    "lens = Scalar_mask_X(x, wavelength)\n",
    "lens.lens(focal=focal, radius=30 * mm)\n",
    "\n",
    "u1 = Scalar_source_X(x, wavelength)\n",
    "\n",
    "# posiciones de la fuente\n",
    "x0s = np.linspace(-S / 2, S / 2, num_fuentes)\n",
    "intensities = Scalar_field_X(x, wavelength)\n",
    "\n",
    "time1 = time.time()\n",
    "for x0 in x0s:\n",
    "    u1.spherical_wave(\n",
    "        A=1,\n",
    "        x0=x0,\n",
    "        z0=z0,\n",
    "        radius=100000 * um,\n",
    "        mask=False,\n",
    "        normalize=True)\n",
    "    u2 = u1 * lens * red\n",
    "    u2.RS(z=focal, new_field=False, verbose=False)\n",
    "    intensities.u = intensities.u + abs(u2.u)**2\n",
    "\n",
    "intensities.u = intensities.u / intensities.u.max()\n",
    "time_proc = time.time() - time1\n",
    "print(\"num_proc: {}, time={}\".format(1, time_proc))\n",
    "intensities.draw(kind='amplitude')"
   ]
  },
  {
   "cell_type": "code",
   "execution_count": null,
   "metadata": {
    "ExecuteTime": {
     "end_time": "2020-05-01T22:33:12.315561Z",
     "start_time": "2020-05-01T22:33:12.309443Z"
    }
   },
   "outputs": [],
   "source": [
    "def __experiment_extended_source__(x0):\n",
    "\n",
    "    x = np.linspace(-500 * um, 500 * um, 1024)\n",
    "    wavelength = 0.850 * um\n",
    "    z0 = -500 * mm\n",
    "    period = 50 * um\n",
    "    focal = 5 * mm\n",
    "\n",
    "    red = Scalar_mask_X(x, wavelength)\n",
    "    red.ronchi_grating(x0=0 * um, period=period, fill_factor=0.5)\n",
    "\n",
    "    lens = Scalar_mask_X(x, wavelength)\n",
    "    lens.lens(focal=focal, radius=30 * mm)\n",
    "\n",
    "    u1 = Scalar_source_X(x, wavelength)\n",
    "\n",
    "    # posiciones de la fuente\n",
    "\n",
    "    u1.spherical_wave(\n",
    "        A=1., x0=x0, z0=z0, radius=100000 * um, mask=False, normalize=True)\n",
    "    u2 = u1 * red * lens\n",
    "    u2.RS(z=focal, new_field=False, verbose=False)\n",
    "\n",
    "    return u2"
   ]
  },
  {
   "cell_type": "code",
   "execution_count": null,
   "metadata": {
    "ExecuteTime": {
     "end_time": "2020-05-01T22:33:12.609555Z",
     "start_time": "2020-05-01T22:33:12.317218Z"
    }
   },
   "outputs": [],
   "source": [
    "x0s = np.linspace(-1500 * um, 1500 * um, 101)\n",
    "x0_central = 0 * um\n",
    "\n",
    "intensity0, u_s0, time_proc0 = extended_source_multiprocessing(\n",
    "    __experiment_extended_source__,\n",
    "    x0_central,\n",
    "    num_processors=1,\n",
    "    verbose=True)\n",
    "\n",
    "intensity, u_s, time_proc = extended_source_multiprocessing(\n",
    "    __experiment_extended_source__,\n",
    "    x0s,\n",
    "    num_processors=num_max_processors,\n",
    "    verbose=True)\n"
   ]
  },
  {
   "cell_type": "code",
   "execution_count": null,
   "metadata": {
    "ExecuteTime": {
     "end_time": "2020-05-01T22:33:13.026312Z",
     "start_time": "2020-05-01T22:33:12.621032Z"
    }
   },
   "outputs": [],
   "source": [
    "    plt.figure()\n",
    "    plt.plot(u_s0.x, intensity0, 'k', lw=2, label='punctual source')\n",
    "    plt.plot(u_s[0].x, intensity, 'r', lw=2, label='extended source')\n",
    "    plt.legend()\n",
    "    plt.ylim(bottom=0);"
   ]
  },
  {
   "cell_type": "markdown",
   "metadata": {},
   "source": [
    "### Polychromatic light sources"
   ]
  },
  {
   "cell_type": "code",
   "execution_count": null,
   "metadata": {
    "ExecuteTime": {
     "end_time": "2020-05-01T22:33:13.032990Z",
     "start_time": "2020-05-01T22:33:13.028829Z"
    }
   },
   "outputs": [],
   "source": [
    "wavelengths = np.linspace(.3 * um, .9 * um, 1001)\n",
    "\n",
    "w_central = wavelengths.mean()\n",
    "\n",
    "spectrum_gauss = gauss_spectrum(\n",
    "    wavelengths=wavelengths,\n",
    "    w_central=w_central,\n",
    "    Dw=0.4,\n",
    "    normalize=True)\n"
   ]
  },
  {
   "cell_type": "code",
   "execution_count": null,
   "metadata": {
    "ExecuteTime": {
     "end_time": "2020-05-01T22:33:13.041080Z",
     "start_time": "2020-05-01T22:33:13.035288Z"
    }
   },
   "outputs": [],
   "source": [
    "def __function_polychromatic__(wavelength):\n",
    "    x0 = np.linspace(-75 * um, 75 * um, 1024 * 8)\n",
    "\n",
    "    t1 = Scalar_mask_X(x0, wavelength)\n",
    "    t1.slit(x0=0, size=100 * um)\n",
    "\n",
    "    f1 = Scalar_source_X(x0, wavelength)\n",
    "    f1.gauss_beam(x0=0 * um, w0=200 * um, z0=0 * um, A=1, theta=0. * degrees)\n",
    "\n",
    "    u1 = f1 * t1\n",
    "    u1.RS(z=10 * um, new_field=False, verbose=False)\n",
    "\n",
    "    return u1"
   ]
  },
  {
   "cell_type": "code",
   "execution_count": null,
   "metadata": {
    "ExecuteTime": {
     "end_time": "2020-05-01T22:33:13.080765Z",
     "start_time": "2020-05-01T22:33:13.044752Z"
    }
   },
   "outputs": [],
   "source": [
    "time1=time.time()\n",
    "intensity_0, u_s0, time_monochromatic_proc_0 = polychromatic_multiprocessing(\n",
    "    __function_polychromatic__,\n",
    "    w_central,\n",
    "    1,\n",
    "    num_processors=1,\n",
    "    verbose=True)\n",
    "time_proc_0 = time.time() - time1\n",
    "print(\"Monochromatic: time={:2.5f}\".format(time_proc_0))"
   ]
  },
  {
   "cell_type": "code",
   "execution_count": null,
   "metadata": {
    "ExecuteTime": {
     "end_time": "2020-05-01T22:33:36.952423Z",
     "start_time": "2020-05-01T22:33:13.083353Z"
    }
   },
   "outputs": [],
   "source": [
    "time1=time.time()\n",
    "intensity_1, u_s1, time_proc_1 = polychromatic_multiprocessing(\n",
    "    __function_polychromatic__,\n",
    "    wavelengths,\n",
    "    spectrum_gauss,\n",
    "    num_processors=1,\n",
    "    verbose=True)\n",
    "time_proc1 = time.time() - time1\n",
    "\n",
    "print(\"Polychromatic - num_proc: 1,  time={}\".format(time_proc_1))"
   ]
  },
  {
   "cell_type": "code",
   "execution_count": null,
   "metadata": {
    "ExecuteTime": {
     "end_time": "2020-05-01T22:33:42.229589Z",
     "start_time": "2020-05-01T22:33:36.954750Z"
    }
   },
   "outputs": [],
   "source": [
    "intensity_n, u_s, time_proc_n = polychromatic_multiprocessing(\n",
    "    __function_polychromatic__,\n",
    "    wavelengths,\n",
    "    spectrum_gauss,\n",
    "    num_processors=num_max_processors,\n",
    "    verbose=True)"
   ]
  },
  {
   "cell_type": "code",
   "execution_count": null,
   "metadata": {
    "ExecuteTime": {
     "end_time": "2020-05-01T22:33:42.616571Z",
     "start_time": "2020-05-01T22:33:42.231785Z"
    }
   },
   "outputs": [],
   "source": [
    "plt.figure()\n",
    "plt.plot(u_s0.x, intensity_0, 'k', lw=2, label='monochromatic')\n",
    "plt.plot(u_s0.x, intensity_1, 'b', lw=2, label='polychromatic - 1 proc.')\n",
    "plt.plot(\n",
    "    u_s[0].x,\n",
    "    intensity_n,\n",
    "    'r',\n",
    "    lw=2,\n",
    "    label='polychromatic - {} proc.'.format(num_max_processors))\n",
    "plt.legend()\n",
    "\n",
    "plt.text(\n",
    "    0, 0.5, 't0 = {:2.4f} s\\nt1 = {:2.4f} s\\ntn = {:2.4f} s'.format(\n",
    "        time_proc_0, time_proc_1, time_proc_n));"
   ]
  },
  {
   "cell_type": "markdown",
   "metadata": {},
   "source": [
    "### Simultaneous experiments: moving a grating in a double grating experiment"
   ]
  },
  {
   "cell_type": "code",
   "execution_count": null,
   "metadata": {
    "ExecuteTime": {
     "end_time": "2020-05-01T22:33:42.622922Z",
     "start_time": "2020-05-01T22:33:42.618782Z"
    }
   },
   "outputs": [],
   "source": [
    "def __experiment_grating_movement__(dict_params):\n",
    "    delta_x = dict_params['delta_x']\n",
    "    period = dict_params['period']\n",
    "    t1 = dict_params['t1']\n",
    "    t2 = dict_params['t2']\n",
    "    t2.ronchi_grating(period, x0=delta_x, fill_factor=0.5)\n",
    "    u2 = t1 * t2\n",
    "    return u2"
   ]
  },
  {
   "cell_type": "code",
   "execution_count": null,
   "metadata": {
    "ExecuteTime": {
     "end_time": "2020-05-01T22:33:42.629378Z",
     "start_time": "2020-05-01T22:33:42.625246Z"
    }
   },
   "outputs": [],
   "source": [
    "def creation_dictionary(deltas_x, period, t1, t2):\n",
    "    # create Parameters: for multiprocessing\n",
    "    dict_Parameters = []\n",
    "    for i, delta_x in enumerate(deltas_x):\n",
    "        dict_Parameters.append(\n",
    "            dict(delta_x=delta_x, period=period, t1=t1, t2=t2))\n",
    "    return dict_Parameters"
   ]
  },
  {
   "cell_type": "code",
   "execution_count": null,
   "metadata": {
    "ExecuteTime": {
     "end_time": "2020-05-01T22:33:43.017518Z",
     "start_time": "2020-05-01T22:33:42.631853Z"
    }
   },
   "outputs": [],
   "source": [
    "x0 = np.linspace(-400 * um, 400 * um, 1024 * 2)\n",
    "wavelength = 0.85 * um\n",
    "period = 50 * um\n",
    "z_talbot = 2 * period**2 / wavelength\n",
    "z0 = z_talbot / 2\n",
    "delay = 0.001\n",
    "\n",
    "t1 = Scalar_mask_X(\n",
    "    x0, wavelength, info=\"__experiment_grating_movement__\")\n",
    "t1.ronchi_grating(period, x0=0 * um, fill_factor=0.5)\n",
    "t1.RS(z=z0, new_field=False)\n",
    "\n",
    "t2 = Scalar_mask_X(\n",
    "    x0, wavelength, info=\"__experiment_grating_movement__\")\n",
    "t2.ronchi_grating(period, x0=0 * um, fill_factor=0.5)\n",
    "\n",
    "deltas_x = np.linspace(-60 * um, 60 * um, 128)  # 512\n",
    "num_processors = num_max_processors\n",
    "\n",
    "dict_Parameters = creation_dictionary(\n",
    "    deltas_x=deltas_x, period=period, t1=t1, t2=t2)\n",
    "\n",
    "u_s, time_proc = execute_multiprocessing(\n",
    "    __experiment_grating_movement__,\n",
    "    dict_Parameters,\n",
    "    num_processors,\n",
    "    verbose=True)\n",
    "\n",
    "x = u_s[0].x\n",
    "\n"
   ]
  },
  {
   "cell_type": "code",
   "execution_count": null,
   "metadata": {
    "ExecuteTime": {
     "end_time": "2020-05-01T22:33:43.146700Z",
     "start_time": "2020-05-01T22:33:43.026090Z"
    }
   },
   "outputs": [],
   "source": [
    "%matplotlib qt"
   ]
  },
  {
   "cell_type": "code",
   "execution_count": null,
   "metadata": {
    "ExecuteTime": {
     "end_time": "2020-05-01T22:33:43.479477Z",
     "start_time": "2020-05-01T22:33:43.150239Z"
    }
   },
   "outputs": [],
   "source": [
    "fig = plt.figure()\n",
    "ax1 = fig.add_subplot(211)\n",
    "ax2 = fig.add_subplot(212)\n"
   ]
  },
  {
   "cell_type": "code",
   "execution_count": null,
   "metadata": {
    "ExecuteTime": {
     "end_time": "2020-05-01T22:33:52.051854Z",
     "start_time": "2020-05-01T22:33:43.481411Z"
    }
   },
   "outputs": [],
   "source": [
    "perfil = np.zeros_like(deltas_x)\n",
    "\n",
    "h1, = ax1.plot(x, np.zeros_like(x), 'k', lw=2)\n",
    "ax1.set_xlim(x[0], x[-1])\n",
    "ax1.set_ylim(0, 2)\n",
    "ax1.set_xlabel(r'$x (\\mu m)$')\n",
    "\n",
    "h2, = ax2.plot(deltas_x, perfil, 'k', lw=2)\n",
    "ax2.set_xlim(deltas_x[0], deltas_x[-1])\n",
    "ax2.set_ylim(0, .5)\n",
    "ax2.set_xlabel(r'$\\Delta x (\\mu m)$')\n",
    "\n",
    "incr_frames = 1\n",
    "for i in range(0, len(deltas_x), incr_frames):\n",
    "    intensidad = abs(u_s[i].u)**2  # sacar fuera\n",
    "    perfil[i] = intensidad.mean()\n",
    "    plt.suptitle(\n",
    "        r\"$\\delta x={:6.2f}\\,\\mu m$\".format(deltas_x[i]), fontsize=18)\n",
    "    h1.set_ydata(intensidad)\n",
    "    h2.set_ydata(perfil)\n",
    "    plt.draw()\n",
    "    plt.pause(0.005)"
   ]
  },
  {
   "cell_type": "code",
   "execution_count": null,
   "metadata": {
    "ExecuteTime": {
     "end_time": "2020-05-01T22:34:59.996939Z",
     "start_time": "2020-05-01T22:34:59.981975Z"
    }
   },
   "outputs": [],
   "source": [
    "%matplotlib inline\n",
    "\n",
    "rcParams['figure.figsize']=(6,4)\n",
    "rcParams['figure.dpi']=75"
   ]
  },
  {
   "cell_type": "markdown",
   "metadata": {},
   "source": [
    "### Drawing at several distances"
   ]
  },
  {
   "cell_type": "code",
   "execution_count": null,
   "metadata": {
    "ExecuteTime": {
     "end_time": "2020-05-01T22:35:01.968406Z",
     "start_time": "2020-05-01T22:35:01.945656Z"
    }
   },
   "outputs": [],
   "source": [
    "def __experiment_double_slit_dictionary__(dict_params):\n",
    "    x0 = dict_params['x0']\n",
    "    wavelength = dict_params['wavelength']\n",
    "    z = dict_params['z']\n",
    "    slit_size = dict_params['slit_size']\n",
    "    separation = dict_params['separation']\n",
    "    t1 = Scalar_mask_X(x0, wavelength)\n",
    "    t1.slit(x0=0, size=20 * um)\n",
    "    t1.double_slit(x0=0, size=slit_size, separation=separation)\n",
    "\n",
    "    f1 = Scalar_source_X(x0, wavelength)\n",
    "    f1.gauss_beam(x0=0 * um, w0=200 * um, z0=0 * um, A=1, theta=0. * degrees)\n",
    "\n",
    "    u1 = f1 * t1\n",
    "    u1.RS(z, new_field=False, verbose=False)\n",
    "\n",
    "    return u1"
   ]
  },
  {
   "cell_type": "code",
   "execution_count": null,
   "metadata": {
    "ExecuteTime": {
     "end_time": "2020-05-01T22:35:02.202032Z",
     "start_time": "2020-05-01T22:35:02.185133Z"
    }
   },
   "outputs": [],
   "source": [
    "def creation_dictionary(wavelengths, x0, z, slit_size, separation):\n",
    "    # create Parameters: for multiprocessing\n",
    "    dict_Parameters = []\n",
    "    for i, wavelength in enumerate(wavelengths):\n",
    "        dict_Parameters.append(\n",
    "            dict(\n",
    "                x0=x0,\n",
    "                wavelength=wavelength,\n",
    "                z=z,\n",
    "                slit_size=slit_size,\n",
    "                separation=separation))\n",
    "    return dict_Parameters\n",
    "\n",
    "x0 = np.linspace(-100 * um, 100 * um, 1024*16)\n",
    "wavelengths = np.linspace(0.3 * um, 0.8 * um, 101)\n",
    "spectrum_gauss = gauss_spectrum(\n",
    "    wavelengths=wavelengths, w_central=0.6, Dw=0.1, normalize=True)\n",
    "num_processors = num_max_processors\n",
    "\n",
    "dict_Parameters0 = dict(\n",
    "    x0=x0,\n",
    "    wavelength=0.6 * um,\n",
    "    z=.05 * mm,\n",
    "    slit_size=50 * um,\n",
    "    separation=75 * um)\n",
    "\n",
    "dict_Parameters = creation_dictionary(\n",
    "    wavelengths=wavelengths,\n",
    "    x0=x0,\n",
    "    z=.05 * mm,\n",
    "    slit_size=50 * um,\n",
    "    separation=75 * um)"
   ]
  },
  {
   "cell_type": "code",
   "execution_count": null,
   "metadata": {
    "ExecuteTime": {
     "end_time": "2020-05-01T22:35:02.446782Z",
     "start_time": "2020-05-01T22:35:02.376967Z"
    }
   },
   "outputs": [],
   "source": [
    "t1=time.time()\n",
    "I0 = __experiment_double_slit_dictionary__(dict_Parameters0)\n",
    "t2=time.time()\n",
    "print(\"num_proc= 1, time={:2.2}s\".format(t2-t1))"
   ]
  },
  {
   "cell_type": "code",
   "execution_count": null,
   "metadata": {
    "ExecuteTime": {
     "end_time": "2020-05-01T22:35:04.042151Z",
     "start_time": "2020-05-01T22:35:02.581602Z"
    }
   },
   "outputs": [],
   "source": [
    "I_wavelengths, time_proc = execute_multiprocessing(\n",
    "    __experiment_double_slit_dictionary__,\n",
    "    dict_Parameters,\n",
    "    num_processors,\n",
    "    verbose=False)\n",
    "\n",
    "print(\"num_proc= {}, time={:2.2f}s\".format(num_processors, time_proc))"
   ]
  },
  {
   "cell_type": "code",
   "execution_count": null,
   "metadata": {
    "ExecuteTime": {
     "end_time": "2020-05-01T22:35:04.619395Z",
     "start_time": "2020-05-01T22:35:04.051278Z"
    }
   },
   "outputs": [],
   "source": [
    "intensity = np.zeros_like(I_wavelengths[0].x)\n",
    "for i in range(len(wavelengths)):\n",
    "    intensity = intensity + spectrum_gauss[i] * abs(\n",
    "        I_wavelengths[i].u)**2\n",
    "\n",
    "plt.figure()\n",
    "plt.plot(x0, abs(I0.u)**2, 'k', lw=2, label='monochromatic')\n",
    "plt.plot(x0, intensity, 'r', lw=2, label='polychromatic')\n",
    "plt.title('polychromatic')\n",
    "plt.legend();"
   ]
  },
  {
   "cell_type": "markdown",
   "metadata": {},
   "source": [
    "### Several independent experiments"
   ]
  },
  {
   "cell_type": "code",
   "execution_count": null,
   "metadata": {
    "ExecuteTime": {
     "end_time": "2020-05-01T22:35:04.628003Z",
     "start_time": "2020-05-01T22:35:04.621845Z"
    }
   },
   "outputs": [],
   "source": [
    "def __experiment_double_slit_array__(slit_size):\n",
    "    x0 = np.linspace(-75 * um, 75 * um, 1024 * 32)\n",
    "    wavelength = 0.6328 * um\n",
    "    separation = 50 * um\n",
    "    z = 100 * um\n",
    "\n",
    "    t1 = Scalar_mask_X(x0, wavelength)\n",
    "    t1.slit(x0=0, size=20 * um)\n",
    "    t1.double_slit(x0=0, size=slit_size, separation=separation)\n",
    "\n",
    "    f1 = Scalar_source_X(x0, wavelength)\n",
    "    f1.gauss_beam(x0=0 * um, w0=200 * um, z0=0 * um, A=1, theta=0. * degrees)\n",
    "\n",
    "    u1 = f1 * t1\n",
    "    u1.RS(z, new_field=False, verbose=False)\n",
    "\n",
    "    return u1"
   ]
  },
  {
   "cell_type": "code",
   "execution_count": null,
   "metadata": {
    "ExecuteTime": {
     "end_time": "2020-05-01T22:35:06.606554Z",
     "start_time": "2020-05-01T22:35:04.630092Z"
    }
   },
   "outputs": [],
   "source": [
    "slit_sizes = np.linspace(5 * um, 50 * um, 20)\n",
    "num_processors = num_max_processors\n",
    "\n",
    "u_s, time_proc = execute_multiprocessing(\n",
    "    __experiment_double_slit_array__,\n",
    "    slit_sizes,\n",
    "    1,\n",
    "    verbose=True)"
   ]
  },
  {
   "cell_type": "code",
   "execution_count": null,
   "metadata": {
    "ExecuteTime": {
     "end_time": "2020-05-01T22:35:07.382564Z",
     "start_time": "2020-05-01T22:35:06.608361Z"
    }
   },
   "outputs": [],
   "source": [
    "slit_sizes = np.linspace(5 * um, 50 * um, 20)\n",
    "num_processors = num_max_processors\n",
    "\n",
    "u_s, time_proc = execute_multiprocessing(\n",
    "    __experiment_double_slit_array__,\n",
    "    slit_sizes,\n",
    "    num_max_processors,\n",
    "    verbose=True)"
   ]
  },
  {
   "cell_type": "code",
   "execution_count": null,
   "metadata": {
    "ExecuteTime": {
     "end_time": "2020-05-01T22:35:08.370527Z",
     "start_time": "2020-05-01T22:35:07.388992Z"
    }
   },
   "outputs": [],
   "source": [
    "plt.figure()\n",
    "ax = plt.subplot(111)\n",
    "for i, slit_size in enumerate(slit_sizes):\n",
    "    ax.plot(\n",
    "        u_s[i].x,\n",
    "        abs(u_s[i].u)**2 + 2 * i,\n",
    "        lw=2,\n",
    "        label=r\"${:2.2f}\\,\\mu m$\".format(slit_size))\n",
    "box = ax.get_position()\n",
    "ax.set_position([box.x0, box.y0, box.width * 0.8, box.height])\n",
    "\n",
    "# Put a legend to the right of the current axis\n",
    "ax.legend(\n",
    "    fontsize=8,\n",
    "    frameon=False,\n",
    "    loc='center left',\n",
    "    bbox_to_anchor=(1, 0.5));"
   ]
  },
  {
   "cell_type": "markdown",
   "metadata": {},
   "source": [
    "### def test_extended_polychromatic_source(self):"
   ]
  },
  {
   "cell_type": "code",
   "execution_count": null,
   "metadata": {
    "ExecuteTime": {
     "end_time": "2020-05-01T22:35:08.378437Z",
     "start_time": "2020-05-01T22:35:08.373778Z"
    }
   },
   "outputs": [],
   "source": [
    "x0s = np.linspace(-50 * um, 50 * um, 21)\n",
    "wavelengths = np.linspace(.55 * um, .65 * um, 11)\n",
    "w_central = wavelengths.mean()\n",
    "spectrum_gauss = gauss_spectrum(\n",
    "    wavelengths=wavelengths,\n",
    "    w_central=w_central,\n",
    "    Dw=0.01,\n",
    "    normalize=True)\n"
   ]
  },
  {
   "cell_type": "code",
   "execution_count": null,
   "metadata": {
    "ExecuteTime": {
     "end_time": "2020-05-01T22:35:08.388990Z",
     "start_time": "2020-05-01T22:35:08.381245Z"
    }
   },
   "outputs": [],
   "source": [
    "def __experiment_extended_polychromatic_source__(dict_params):\n",
    "    wavelength = dict_params['wavelength']\n",
    "    x0 = dict_params['x0']\n",
    "\n",
    "    x = np.linspace(-1250 * um, 1250 * um, 1024 * 8)\n",
    "    periodo = 100 * um\n",
    "    z = 5 * periodo**2 / (0.6 * um)\n",
    "    z0 = -50 * mm\n",
    "\n",
    "    t1 = Scalar_mask_X(x, wavelength)\n",
    "    t1.ronchi_grating(period=periodo, x0=0 * um, fill_factor=0.5)\n",
    "\n",
    "    f1 = Scalar_source_X(x, wavelength)\n",
    "    f1.spherical_wave(\n",
    "        A=1, x0=x0, z0=z0, radius=10000 * um, mask=False, normalize=True)\n",
    "\n",
    "    u1 = f1 * t1\n",
    "    u1.RS(z, new_field=False, verbose=False)\n",
    "\n",
    "    return u1"
   ]
  },
  {
   "cell_type": "code",
   "execution_count": null,
   "metadata": {
    "ExecuteTime": {
     "end_time": "2020-05-01T22:35:09.889258Z",
     "start_time": "2020-05-01T22:35:08.390944Z"
    }
   },
   "outputs": [],
   "source": [
    "u0 = __experiment_extended_polychromatic_source__(\n",
    "    dict(x0=0, wavelength=w_central))\n",
    "\n",
    "intensity, u_s, time_proc = extended_polychromatic_source(\n",
    "    __experiment_extended_polychromatic_source__,\n",
    "    x0s,\n",
    "    wavelengths,\n",
    "    spectrum_gauss,\n",
    "    num_processors=num_max_processors,\n",
    "    verbose=True)"
   ]
  },
  {
   "cell_type": "code",
   "execution_count": null,
   "metadata": {
    "ExecuteTime": {
     "end_time": "2020-05-01T22:35:10.258521Z",
     "start_time": "2020-05-01T22:35:09.894755Z"
    }
   },
   "outputs": [],
   "source": [
    "plt.figure()\n",
    "plt.plot(u_s[0].x, abs(u0.u)**2, 'k', lw=1, label='mono')\n",
    "plt.plot(u_s[0].x, intensity, 'r', lw=2, label='LED')\n",
    "plt.legend();"
   ]
  },
  {
   "cell_type": "markdown",
   "metadata": {},
   "source": [
    "### Multiprocessing implemented in XZ module"
   ]
  },
  {
   "cell_type": "code",
   "execution_count": null,
   "metadata": {
    "ExecuteTime": {
     "end_time": "2020-05-01T22:35:10.267937Z",
     "start_time": "2020-05-01T22:35:10.261004Z"
    }
   },
   "outputs": [],
   "source": [
    "x = np.linspace(-350*um, 350*um, 1024*4)\n",
    "z = np.linspace(1*mm, 10*mm, 256)\n",
    "wavelength = 0.6238 * um\n",
    "period=40 * um\n",
    "z_talbot=2*period**2/wavelength"
   ]
  },
  {
   "cell_type": "code",
   "execution_count": null,
   "metadata": {
    "ExecuteTime": {
     "end_time": "2020-05-01T22:35:10.301703Z",
     "start_time": "2020-05-01T22:35:10.270258Z"
    }
   },
   "outputs": [],
   "source": [
    "u0=Scalar_source_X(x,wavelength)\n",
    "u0.plane_wave(A=1)\n",
    "\n",
    "t=Scalar_mask_X(x,wavelength)\n",
    "t.ronchi_grating(period=40*um, x0=0 * um, fill_factor=0.5)\n",
    "\n",
    "talbot_effect = Scalar_field_XZ(x, z, wavelength)\n",
    "talbot_effect.incident_field(u0*t)"
   ]
  },
  {
   "cell_type": "code",
   "execution_count": null,
   "metadata": {
    "ExecuteTime": {
     "end_time": "2020-05-01T22:35:12.970170Z",
     "start_time": "2020-05-01T22:35:10.303899Z"
    }
   },
   "outputs": [],
   "source": [
    "t0=time.time()\n",
    "talbot_effect.RS(num_processors=1)\n",
    "t1=time.time()\n",
    "t_proc1=t1-t0\n",
    "print(t_proc1, t_proc1/len(z))"
   ]
  },
  {
   "cell_type": "code",
   "execution_count": null,
   "metadata": {
    "ExecuteTime": {
     "end_time": "2020-05-01T22:35:17.892527Z",
     "start_time": "2020-05-01T22:35:12.972754Z"
    }
   },
   "outputs": [],
   "source": [
    "t0=time.time()\n",
    "talbot_effect.RS(num_processors=num_max_processors)\n",
    "t1=time.time()\n",
    "t_procn=t1-t0\n",
    "\n",
    "print(t_procn, t_procn/len(z))"
   ]
  },
  {
   "cell_type": "code",
   "execution_count": null,
   "metadata": {
    "ExecuteTime": {
     "end_time": "2020-05-01T22:35:18.379184Z",
     "start_time": "2020-05-01T22:35:17.896478Z"
    }
   },
   "outputs": [],
   "source": [
    "talbot_effect.draw()\n",
    "plt.ylim(-250*um, 250*um);"
   ]
  },
  {
   "cell_type": "code",
   "execution_count": null,
   "metadata": {},
   "outputs": [],
   "source": []
  }
 ],
 "metadata": {
  "kernelspec": {
   "display_name": "Python 3",
   "language": "python",
   "name": "python3"
  },
  "language_info": {
   "codemirror_mode": {
    "name": "ipython",
    "version": 3
   },
   "file_extension": ".py",
   "mimetype": "text/x-python",
   "name": "python",
   "nbconvert_exporter": "python",
   "pygments_lexer": "ipython3",
   "version": "3.8.5"
  },
  "toc": {
   "base_numbering": 1,
   "nav_menu": {},
   "number_sections": true,
   "sideBar": true,
   "skip_h1_title": false,
   "title_cell": "Table of Contents",
   "title_sidebar": "Contents",
   "toc_cell": false,
   "toc_position": {},
   "toc_section_display": true,
   "toc_window_display": false
  }
 },
 "nbformat": 4,
 "nbformat_minor": 4
}
