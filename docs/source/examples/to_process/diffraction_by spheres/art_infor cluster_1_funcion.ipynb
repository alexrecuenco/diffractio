{
 "cells": [
  {
   "cell_type": "markdown",
   "metadata": {},
   "source": [
    "# Clusters en ojo\n",
    "\n",
    "\n",
    "Author:  Luis Miguel Sanchez-Brea\n",
    "\n",
    "History: init - 180406\n",
    "\n",
    "Project: Foco\n",
    "\n",
    "_\n",
    "\n",
    "Después de la reunión del jueves 5 de abril de 2008 intento reconstruir el campo de los clusters. \n",
    "El sábado 7 estuve hablando con Infor salieron resultados interesantes.\n",
    "Utilizaré los datos del paper que hemos hecho.\n",
    "\n",
    "Tomo los datos de la Figura 1: \n",
    "\n",
    "clusters de radio = 25 nm, 75 nm y 150 nm\n",
    "\n",
    "Índice del cluster = 1.55\n",
    "\n",
    "Índice del medio dependiente de la concentración. En el paper es c=0.1\n",
    "Indice de refracción de proteina: 1.62\n",
    "Índice de refracción del agua: 1.33\n",
    "\n",
    "\n",
    "**concentración: **\n",
    "\n",
    "$c = \\frac{n - n_{water}}{n_{protein} - n_{water}}$\n",
    "\n",
    "**Índice: **\n",
    "\n",
    "$n = n_{water} + c  (n_{protein} - n_{water})$\n",
    "\n",
    "*Nota*\n",
    "\n",
    "Verificar si el campo incidente está o no \n",
    "\n",
    "![title](foco3.png)\n",
    "\n"
   ]
  },
  {
   "cell_type": "code",
   "execution_count": 1,
   "metadata": {},
   "outputs": [],
   "source": [
    "from __future__ import print_function, division\n",
    "\n",
    "%matplotlib inline\n",
    "%load_ext autoreload\n",
    "%autoreload 2\n",
    "%load_ext line_profiler\n",
    "\n",
    "%config InlineBackend.figure_format = 'png'\n",
    "\n",
    "from pprint import  pprint"
   ]
  },
  {
   "cell_type": "markdown",
   "metadata": {},
   "source": [
    "## Definiciones"
   ]
  },
  {
   "cell_type": "code",
   "execution_count": 2,
   "metadata": {},
   "outputs": [
    {
     "name": "stdout",
     "output_type": "stream",
     "text": [
      "number of processors: 8\n"
     ]
    }
   ],
   "source": [
    "from diffractio import sp, plt, mm, um, nm, degrees\n",
    "\n",
    "from diffractio.scalar_sources_X import Scalar_source_X\n",
    "from diffractio.utils_math import ndgrid\n",
    "\n",
    "from diffractio.scalar_masks_XZ import Scalar_mask_XZ\n",
    "\n",
    "import matplotlib.cm as cm"
   ]
  },
  {
   "cell_type": "code",
   "execution_count": 3,
   "metadata": {},
   "outputs": [],
   "source": [
    "n_water=1.33\n",
    "n_protein=1.62\n",
    "\n",
    "def n_medium(c):\n",
    "    \"\"\"índice de refracción en función de la concentración\"\"\"\n",
    "    return n_water + c * (n_protein-n_water)"
   ]
  },
  {
   "cell_type": "code",
   "execution_count": 4,
   "metadata": {},
   "outputs": [],
   "source": [
    "def field_vesicula(radius, c, wavelength=550*nm, has_incident_field = False, num_points=1024):\n",
    "    \"\"\"campo generado por la vesícula en función de la concentración\n",
    "    \n",
    "    Args:\n",
    "        radius (float): radio de la vesícula\n",
    "        c (float): [0,1] concentración\n",
    "        has_incident_field (bool): Quitar campo inicial\n",
    "        wavelength (float): wavelength\n",
    "     \"\"\"\n",
    "\n",
    "    n_externo=n_medium(c)\n",
    "    n_interno=1.55\n",
    "\n",
    "    x_lim=radius+1*um\n",
    "\n",
    "    x0 = sp.linspace(-5*um, 5*um , num_points)\n",
    "    z0 = sp.linspace(-radius, 10*radius, num_points) #26 mm\n",
    "\n",
    "    X, Z = ndgrid(x0, z0)\n",
    "\n",
    "    u0 = Scalar_source_X(x0, wavelength)\n",
    "    u0.plane_wave(A=1, theta=0 * degrees)\n",
    "\n",
    "    vesicula = Scalar_mask_XZ(x=x0,z=z0,wavelength=wavelength,n_background=n_externo)\n",
    "    vesicula.incident_field(u0)\n",
    "\n",
    "    if has_incident_field is False:\n",
    "        vesicula.BPM(verbose=False)\n",
    "        campo_vacio=vesicula.u\n",
    "        vesicula.u=sp.zeros_like(vesicula.u,dtype=complex)\n",
    "\n",
    "    vesicula.sphere(r0=(0*um,radius), radius=(radius,radius), angle=0,\n",
    "                    refraction_index= n_interno )\n",
    "    \n",
    "    #propagación\n",
    "    vesicula.BPM(verbose=False)\n",
    "\n",
    "    # para 1024x1024 son 297 ms por loop\n",
    "    # para 2048x2048 son 969 ms por loop\n",
    "    \n",
    "    if has_incident_field is False:\n",
    "        # elimino el campo inicial\n",
    "        vesicula.u=vesicula.u-campo_vacio\n",
    "    \n",
    "    return vesicula"
   ]
  },
  {
   "cell_type": "markdown",
   "metadata": {},
   "source": [
    "## Campo cercano"
   ]
  },
  {
   "cell_type": "code",
   "execution_count": null,
   "metadata": {},
   "outputs": [],
   "source": [
    "cluster1=field_vesicula(radius=25*nm, c=0.1, wavelength=550*nm, \n",
    "                           has_incident_field = True, num_points=1024*4)\n",
    "cluster2=field_vesicula(radius=75*nm, c=0.1, wavelength=550*nm, \n",
    "                           has_incident_field = True, num_points=1024*4)\n",
    "cluster3=field_vesicula(radius=150*nm, c=0.1, wavelength=550*nm, \n",
    "                           has_incident_field = True, num_points=1024*4)"
   ]
  },
  {
   "cell_type": "markdown",
   "metadata": {},
   "source": [
    "-# executable\n",
    "\n",
    "vesicula0_1.draw_refraction_index(colorbar_kind='horizontal', draw_borders=False, scale='scaled')\n",
    "\n",
    "vesicula0_5.draw_refraction_index(colorbar_kind='horizontal', draw_borders=False, scale='scaled')"
   ]
  },
  {
   "cell_type": "code",
   "execution_count": null,
   "metadata": {},
   "outputs": [],
   "source": [
    "x_lim=cluster1.x[-1]"
   ]
  },
  {
   "cell_type": "markdown",
   "metadata": {},
   "source": [
    "### Dibujar amplitudes"
   ]
  },
  {
   "cell_type": "code",
   "execution_count": null,
   "metadata": {},
   "outputs": [],
   "source": [
    "# esto es amplitude(u)\n",
    "cluster1.draw(kind='amplitude', logarithm=False,  draw_borders=True, \n",
    "                 scale='scaled', colorbar_kind='horizontal', colormap_kind=cm.jet)\n",
    "\n",
    "plt.ylim(-50*nm, 50*nm)\n",
    "plt.clim(0.95,1.2)"
   ]
  },
  {
   "cell_type": "code",
   "execution_count": null,
   "metadata": {},
   "outputs": [],
   "source": [
    "# esto es amplitude(u)\n",
    "cluster2.draw(kind='amplitude', logarithm=False,  draw_borders=True, \n",
    "                 scale='scaled', colorbar_kind='horizontal', colormap_kind=cm.jet)\n",
    "\n",
    "plt.ylim(-75*nm*3, 75*nm*3)\n",
    "plt.clim(0.75,1.0)"
   ]
  },
  {
   "cell_type": "code",
   "execution_count": null,
   "metadata": {},
   "outputs": [],
   "source": [
    "# esto es amplitude(u)\n",
    "cluster3.draw(kind='amplitude', logarithm=False,  draw_borders=True, \n",
    "                 scale='scaled', colorbar_kind='horizontal', colormap_kind=cm.jet)\n",
    "\n",
    "plt.ylim(-150*nm*3, 150*nm*3)\n",
    "plt.clim(0.5,1.0)"
   ]
  },
  {
   "cell_type": "markdown",
   "metadata": {},
   "source": [
    "### Dibujar Parte real"
   ]
  },
  {
   "cell_type": "code",
   "execution_count": null,
   "metadata": {},
   "outputs": [],
   "source": [
    "cluster1=field_vesicula(radius=25*nm, c=0.1, wavelength=550*nm, \n",
    "                           has_incident_field = False, num_points=1024*2)\n",
    "cluster2=field_vesicula(radius=75*nm, c=0.1, wavelength=550*nm, \n",
    "                           has_incident_field = False, num_points=1024*2)\n",
    "cluster3=field_vesicula(radius=150*nm, c=0.1, wavelength=550*nm, \n",
    "                           has_incident_field = False, num_points=1024*2)"
   ]
  },
  {
   "cell_type": "code",
   "execution_count": null,
   "metadata": {},
   "outputs": [],
   "source": [
    "# esto es real(u)\n",
    "cluster1.draw(kind='real', logarithm=False,  draw_borders=True, \n",
    "                 scale='scaled', colorbar_kind='horizontal', colormap_kind=cm.seismic)\n",
    "\n",
    "plt.ylim(-25*nm*5, 25*nm*5)"
   ]
  },
  {
   "cell_type": "code",
   "execution_count": null,
   "metadata": {},
   "outputs": [],
   "source": [
    "cluster2.draw(kind='real', logarithm=False, draw_borders=True, \n",
    "                 scale='scaled', colorbar_kind='horizontal', colormap_kind=cm.seismic)\n",
    "\n",
    "plt.ylim(-75*nm*5, 75*nm*5)"
   ]
  },
  {
   "cell_type": "code",
   "execution_count": null,
   "metadata": {},
   "outputs": [],
   "source": [
    "cluster3.draw(kind='real', logarithm=False, draw_borders=True, \n",
    "                 scale='scaled', colorbar_kind='horizontal', colormap_kind=cm.jet)\n",
    "plt.ylim(-150*nm*3, 150*nm*3)"
   ]
  },
  {
   "cell_type": "code",
   "execution_count": null,
   "metadata": {},
   "outputs": [],
   "source": [
    "cluster3.draw(kind='real', logarithm=False, draw_borders=True, \n",
    "                 scale='scaled', colorbar_kind='horizontal', colormap_kind=cm.seismic)\n",
    "plt.ylim(-150*nm*5, 150*nm*5)"
   ]
  },
  {
   "cell_type": "markdown",
   "metadata": {},
   "source": [
    "## Campo lejano"
   ]
  },
  {
   "cell_type": "code",
   "execution_count": null,
   "metadata": {},
   "outputs": [],
   "source": [
    "def lejano(cluster):\n",
    "    ultimo=cluster.final_field()\n",
    "    ultimo.fft(remove0=False,shift=True,matrix=False,new_field=False)\n",
    "    ultimo.draw(kind='fft')\n",
    "    plt.xlim(-180,180)"
   ]
  },
  {
   "cell_type": "code",
   "execution_count": null,
   "metadata": {},
   "outputs": [],
   "source": [
    "lejano(cluster1)"
   ]
  },
  {
   "cell_type": "code",
   "execution_count": null,
   "metadata": {},
   "outputs": [],
   "source": [
    "lejano(cluster2)"
   ]
  },
  {
   "cell_type": "code",
   "execution_count": null,
   "metadata": {},
   "outputs": [],
   "source": [
    "lejano(cluster3)"
   ]
  },
  {
   "cell_type": "code",
   "execution_count": null,
   "metadata": {},
   "outputs": [],
   "source": []
  },
  {
   "cell_type": "code",
   "execution_count": null,
   "metadata": {},
   "outputs": [],
   "source": []
  }
 ],
 "metadata": {
  "kernelspec": {
   "display_name": "Python 3",
   "language": "python",
   "name": "python3"
  },
  "language_info": {
   "codemirror_mode": {
    "name": "ipython",
    "version": 3
   },
   "file_extension": ".py",
   "mimetype": "text/x-python",
   "name": "python",
   "nbconvert_exporter": "python",
   "pygments_lexer": "ipython3",
   "version": "3.6.8"
  },
  "toc": {
   "base_numbering": 1,
   "nav_menu": {
    "height": "21px",
    "width": "254px"
   },
   "number_sections": true,
   "sideBar": true,
   "skip_h1_title": false,
   "title_cell": "Table of Contents",
   "title_sidebar": "Contents",
   "toc_cell": false,
   "toc_position": {},
   "toc_section_display": "block",
   "toc_window_display": true
  },
  "varInspector": {
   "cols": {
    "lenName": 16,
    "lenType": 16,
    "lenVar": 40
   },
   "kernels_config": {
    "python": {
     "delete_cmd_postfix": "",
     "delete_cmd_prefix": "del ",
     "library": "var_list.py",
     "varRefreshCmd": "print(var_dic_list())"
    },
    "r": {
     "delete_cmd_postfix": ") ",
     "delete_cmd_prefix": "rm(",
     "library": "var_list.r",
     "varRefreshCmd": "cat(var_dic_list()) "
    }
   },
   "types_to_exclude": [
    "module",
    "function",
    "builtin_function_or_method",
    "instance",
    "_Feature"
   ],
   "window_display": true
  }
 },
 "nbformat": 4,
 "nbformat_minor": 2
}
