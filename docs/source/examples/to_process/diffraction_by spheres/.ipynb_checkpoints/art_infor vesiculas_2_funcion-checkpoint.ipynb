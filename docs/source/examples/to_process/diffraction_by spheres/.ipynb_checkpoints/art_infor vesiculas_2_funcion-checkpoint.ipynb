{
 "cells": [
  {
   "cell_type": "markdown",
   "metadata": {},
   "source": [
    "# Vesiculas en ojo\n",
    "\n",
    "\n",
    "Author:  Luis Miguel Sanchez-Brea\n",
    "\n",
    "History: init - 180406\n",
    "\n",
    "Project: Foco\n",
    "\n",
    "_\n",
    "\n",
    "Después de la reunión del jueves 5 de abril de 2008 intento reconstruir el campo en las vesículas. Utilizaré los datos del paper que hemos hecho.\n",
    "\n",
    "Tomo los datos de la Figura 2:  vesícula de 1.5 um de radio (no son 3 um) y una capa de 50 nanometros de espesor.\n",
    "\n",
    "Indice de refracción de proteina: 1.62\n",
    "Índice de refracción del agua: 1.33\n",
    "\n",
    "**concentración: **\n",
    "\n",
    "\n",
    "**Índice: **\n",
    "\n",
    "\n",
    "*Nota*\n",
    "\n",
    "Elimino el campo incidente\n",
    "\n",
    "** Resumen **\n",
    "\n",
    "Indice de refraccion de la capa: 1.62\n",
    "Índice de refracción del interno 1.62*1.04 (incremento de 4%)\n",
    "\n",
    "Indice de refracción del medio externo: \n",
    "\n",
    "![title](foco1.png)\n",
    "\n"
   ]
  },
  {
   "cell_type": "markdown",
   "metadata": {},
   "source": [
    "## Definiciones"
   ]
  },
  {
   "cell_type": "code",
   "execution_count": 1,
   "metadata": {},
   "outputs": [],
   "source": [
    "from __future__ import print_function, division\n",
    "\n",
    "%matplotlib inline\n",
    "%load_ext autoreload\n",
    "%autoreload 2\n",
    "%load_ext line_profiler\n",
    "\n",
    "%config InlineBackend.figure_format = 'png'\n",
    "\n",
    "from pprint import  pprint"
   ]
  },
  {
   "cell_type": "code",
   "execution_count": 7,
   "metadata": {},
   "outputs": [],
   "source": [
    "from diffractio import sp, plt, mm, um, nm, degrees\n",
    "\n",
    "from diffractio.scalar_sources_X import Scalar_source_X\n",
    "\n",
    "from diffractio.scalar_masks_XZ import Scalar_mask_XZ\n",
    "from diffractio.utils_math import ndgrid\n",
    "\n",
    "import matplotlib.cm as cm"
   ]
  },
  {
   "cell_type": "code",
   "execution_count": 8,
   "metadata": {},
   "outputs": [],
   "source": [
    "n_water=1.33\n",
    "n_protein=1.62\n",
    "\n",
    "def n_medium(c):\n",
    "    \"\"\"índice de refracción en función de la concentración\"\"\"\n",
    "    return n_water + c * (n_protein-n_water)"
   ]
  },
  {
   "cell_type": "code",
   "execution_count": 9,
   "metadata": {},
   "outputs": [],
   "source": [
    "def field_vesicula(radius, c, wavelength=550*nm, has_incident_field = False, num_points=1024):\n",
    "    \"\"\"campo generado por la vesícula en función de la concentración\n",
    "    \n",
    "    Args:\n",
    "        radius (float): radio de la vesícula\n",
    "        c (float): [0,1] concentración\n",
    "        has_incident_field (bool): Quitar campo inicial\n",
    "        wavelength (float): wavelength\n",
    "     \"\"\"\n",
    "\n",
    "    n_capa=n_protein\n",
    "    n_externo=n_medium(c)\n",
    "    n_interno=n_externo*1.04\n",
    "    shell=50*nm\n",
    "\n",
    "    x_lim=radius+3*um\n",
    "\n",
    "    x0 = sp.linspace(-x_lim,x_lim , num_points)\n",
    "    z0 = sp.linspace(-1 * um, 2*radius+1*um, num_points) #26 mm\n",
    "\n",
    "    X, Z = ndgrid(x0, z0)\n",
    "\n",
    "    u0 = Scalar_source_X(x0, wavelength)\n",
    "    u0.plane_wave(A=1, theta=0 * degrees)\n",
    "\n",
    "    vesicula = Scalar_mask_XZ(x=x0,z=z0,wavelength=wavelength,n_background=n_externo)\n",
    "    vesicula.incident_field(u0)\n",
    "\n",
    "    if has_incident_field is False:\n",
    "        vesicula.BPM(verbose=False)\n",
    "        campo_vacio=vesicula.u\n",
    "        vesicula.u=sp.zeros_like(vesicula.u,dtype=complex)\n",
    "\n",
    "    vesicula.sphere(r0=(0*um,radius), radius=(radius+shell,radius+shell),\n",
    "                    angle=0, refraction_index= n_capa )\n",
    "    vesicula.sphere(r0=(0*um,radius), radius=(radius,radius), angle=0,\n",
    "                    refraction_index= n_interno )\n",
    "    \n",
    "    #propagación\n",
    "    vesicula.BPM(verbose=False)\n",
    "\n",
    "    # para 1024x1024 son 297 ms por loop\n",
    "    # para 2048x2048 son 969 ms por loop\n",
    "    \n",
    "    if has_incident_field is False:\n",
    "        # elimino el campo inicial\n",
    "        vesicula.u=vesicula.u-campo_vacio\n",
    "    \n",
    "    return vesicula"
   ]
  },
  {
   "cell_type": "markdown",
   "metadata": {},
   "source": [
    "## Campo cercano"
   ]
  },
  {
   "cell_type": "code",
   "execution_count": null,
   "metadata": {},
   "outputs": [],
   "source": [
    "vesicula0_1=field_vesicula(radius=1.5*um, c=0.1, wavelength=550*nm, \n",
    "                           has_incident_field = False, num_points=1024*4)\n",
    "vesicula0_5=field_vesicula(radius=1.5*um, c=0.5, wavelength=550*nm, \n",
    "                           has_incident_field = False, num_points=1024*4)"
   ]
  },
  {
   "cell_type": "code",
   "execution_count": null,
   "metadata": {},
   "outputs": [],
   "source": [
    "x_lim=vesicula0_1.x[-1]-2*um"
   ]
  },
  {
   "cell_type": "code",
   "execution_count": 11,
   "metadata": {},
   "outputs": [
    {
     "ename": "NameError",
     "evalue": "name 'vesicula0_1' is not defined",
     "output_type": "error",
     "traceback": [
      "\u001b[0;31m---------------------------------------------------------------------------\u001b[0m",
      "\u001b[0;31mNameError\u001b[0m                                 Traceback (most recent call last)",
      "\u001b[0;32m<ipython-input-11-08edb444e5f1>\u001b[0m in \u001b[0;36m<module>\u001b[0;34m()\u001b[0m\n\u001b[1;32m      1\u001b[0m \u001b[0;31m# esto es real(u)\u001b[0m\u001b[0;34m\u001b[0m\u001b[0;34m\u001b[0m\u001b[0;34m\u001b[0m\u001b[0m\n\u001b[0;32m----> 2\u001b[0;31m vesicula0_1.draw(kind='real', logarithm=False,  draw_borders=True, \n\u001b[0m\u001b[1;32m      3\u001b[0m                  scale='scaled', colorbar_kind='horizontal', colormap_kind=cm.jet)\n\u001b[1;32m      4\u001b[0m \u001b[0mplt\u001b[0m\u001b[0;34m.\u001b[0m\u001b[0mylim\u001b[0m\u001b[0;34m(\u001b[0m\u001b[0;34m-\u001b[0m\u001b[0mx_lim\u001b[0m\u001b[0;34m,\u001b[0m \u001b[0mx_lim\u001b[0m\u001b[0;34m)\u001b[0m\u001b[0;34m\u001b[0m\u001b[0;34m\u001b[0m\u001b[0m\n\u001b[1;32m      5\u001b[0m \u001b[0;34m\u001b[0m\u001b[0m\n",
      "\u001b[0;31mNameError\u001b[0m: name 'vesicula0_1' is not defined"
     ]
    }
   ],
   "source": [
    "# esto es real(u)\n",
    "vesicula0_1.draw(kind='real', logarithm=False,  draw_borders=True, \n",
    "                 scale='scaled', colorbar_kind='horizontal', colormap_kind=cm.jet)\n",
    "plt.ylim(-x_lim, x_lim)\n",
    "\n",
    "vesicula0_5.draw(kind='real', logarithm=False, draw_borders=True, \n",
    "                 scale='scaled', colorbar_kind='horizontal', colormap_kind=cm.jet)\n",
    "plt.ylim(-x_lim, x_lim)"
   ]
  },
  {
   "cell_type": "code",
   "execution_count": null,
   "metadata": {},
   "outputs": [],
   "source": [
    "# esto es abs(u)\n",
    "vesicula0_1.draw(kind='amplitude', logarithm=False, normalize='maximum',\n",
    "              draw_borders=True, scale='scaled', colorbar_kind='horizontal', \n",
    "                 colormap_kind=cm.jet)\n",
    "plt.ylim(-x_lim, x_lim)\n",
    "\n",
    "# esto es abs(u)\n",
    "vesicula0_5.draw(kind='amplitude', logarithm=False, normalize='maximum',\n",
    "              draw_borders=True, scale='scaled', colorbar_kind='horizontal', \n",
    "                 colormap_kind=cm.jet)\n",
    "plt.ylim(-x_lim, x_lim)"
   ]
  },
  {
   "cell_type": "markdown",
   "metadata": {},
   "source": [
    "## Campo lejano"
   ]
  },
  {
   "cell_type": "code",
   "execution_count": null,
   "metadata": {},
   "outputs": [],
   "source": [
    "ultimo0_1=vesicula0_1.final_field()\n",
    "ultimo0_1.fft(remove0=False,shift=True,matrix=False,new_field=False)\n",
    "ultimo0_1.draw(kind='fft')\n",
    "plt.xlim(-90,90)"
   ]
  },
  {
   "cell_type": "code",
   "execution_count": null,
   "metadata": {},
   "outputs": [],
   "source": [
    "ultimo0_5=vesicula0_5.final_field()\n",
    "ultimo0_5.fft(remove0=False,shift=True,matrix=False,new_field=False)\n",
    "ultimo0_5.draw(kind='fft')\n",
    "plt.xlim(-90,90)"
   ]
  }
 ],
 "metadata": {
  "kernelspec": {
   "display_name": "Python 2",
   "language": "python",
   "name": "python2"
  },
  "language_info": {
   "codemirror_mode": {
    "name": "ipython",
    "version": 2
   },
   "file_extension": ".py",
   "mimetype": "text/x-python",
   "name": "python",
   "nbconvert_exporter": "python",
   "pygments_lexer": "ipython2",
   "version": "2.7.15+"
  },
  "toc": {
   "base_numbering": 1,
   "nav_menu": {
    "height": "21px",
    "width": "254px"
   },
   "number_sections": true,
   "sideBar": true,
   "skip_h1_title": false,
   "title_cell": "Table of Contents",
   "title_sidebar": "Contents",
   "toc_cell": false,
   "toc_position": {},
   "toc_section_display": "block",
   "toc_window_display": true
  },
  "varInspector": {
   "cols": {
    "lenName": 16,
    "lenType": 16,
    "lenVar": 40
   },
   "kernels_config": {
    "python": {
     "delete_cmd_postfix": "",
     "delete_cmd_prefix": "del ",
     "library": "var_list.py",
     "varRefreshCmd": "print(var_dic_list())"
    },
    "r": {
     "delete_cmd_postfix": ") ",
     "delete_cmd_prefix": "rm(",
     "library": "var_list.r",
     "varRefreshCmd": "cat(var_dic_list()) "
    }
   },
   "types_to_exclude": [
    "module",
    "function",
    "builtin_function_or_method",
    "instance",
    "_Feature"
   ],
   "window_display": true
  }
 },
 "nbformat": 4,
 "nbformat_minor": 2
}
