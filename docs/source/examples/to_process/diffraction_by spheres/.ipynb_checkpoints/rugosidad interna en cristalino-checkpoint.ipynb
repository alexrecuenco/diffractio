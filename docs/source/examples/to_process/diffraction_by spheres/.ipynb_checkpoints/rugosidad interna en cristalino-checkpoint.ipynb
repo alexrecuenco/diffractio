{
 "cells": [
  {
   "cell_type": "markdown",
   "metadata": {},
   "source": [
    "# Rugosidad interna en cristalino\n",
    "\n",
    "Tenemos un cristalino con una variación de índice de refracción dado por el modelo de Navarro y le vamos a meter un % de rugosidad en el índice con una cierto tamaño"
   ]
  },
  {
   "cell_type": "code",
   "execution_count": 1,
   "metadata": {},
   "outputs": [],
   "source": [
    "# configuration\n",
    "%load_ext autoreload\n",
    "%autoreload 2\n",
    "%load_ext line_profiler\n",
    "%matplotlib inline\n",
    "%config InlineBackend.figure_format = 'png'\n",
    "\n",
    "from pprint import pprint"
   ]
  },
  {
   "cell_type": "code",
   "execution_count": 4,
   "metadata": {},
   "outputs": [
    {
     "ename": "ImportError",
     "evalue": "No module named py_eye.eye_models.navarro_eye",
     "output_type": "error",
     "traceback": [
      "\u001b[0;31m---------------------------------------------------------------------------\u001b[0m",
      "\u001b[0;31mImportError\u001b[0m                               Traceback (most recent call last)",
      "\u001b[0;32m<ipython-input-4-edf77e1eb9e0>\u001b[0m in \u001b[0;36m<module>\u001b[0;34m()\u001b[0m\n\u001b[1;32m      6\u001b[0m \u001b[0;32mfrom\u001b[0m \u001b[0mnumpy\u001b[0m\u001b[0;34m.\u001b[0m\u001b[0mfft\u001b[0m \u001b[0;32mimport\u001b[0m \u001b[0mfftshift\u001b[0m\u001b[0;34m\u001b[0m\u001b[0;34m\u001b[0m\u001b[0m\n\u001b[1;32m      7\u001b[0m \u001b[0;34m\u001b[0m\u001b[0m\n\u001b[0;32m----> 8\u001b[0;31m \u001b[0;32mfrom\u001b[0m \u001b[0mpy_eye\u001b[0m\u001b[0;34m.\u001b[0m\u001b[0meye_models\u001b[0m\u001b[0;34m.\u001b[0m\u001b[0mnavarro_eye\u001b[0m \u001b[0;32mimport\u001b[0m \u001b[0mNavarro_eye\u001b[0m \u001b[0;32mas\u001b[0m \u001b[0meye\u001b[0m\u001b[0;34m\u001b[0m\u001b[0;34m\u001b[0m\u001b[0m\n\u001b[0m\u001b[1;32m      9\u001b[0m \u001b[0;32mimport\u001b[0m \u001b[0mmatplotlib\u001b[0m\u001b[0;34m.\u001b[0m\u001b[0mcm\u001b[0m \u001b[0;32mas\u001b[0m \u001b[0mcm\u001b[0m\u001b[0;34m\u001b[0m\u001b[0;34m\u001b[0m\u001b[0m\n\u001b[1;32m     10\u001b[0m \u001b[0;34m\u001b[0m\u001b[0m\n",
      "\u001b[0;31mImportError\u001b[0m: No module named py_eye.eye_models.navarro_eye"
     ]
    }
   ],
   "source": [
    "from diffractio import sp, nm, plt, mm, degrees, um, np\n",
    "from diffractio.scalar_sources_X import Scalar_source_X\n",
    "from diffractio.scalar_masks_XZ import Scalar_mask_XZ\n",
    "\n",
    "from diffractio.utils_math import ndgrid\n",
    "from numpy.fft import fftshift\n",
    "\n",
    "from py_eye.eye_models.navarro_eye import Navarro_eye as eye\n",
    "import matplotlib.cm as cm\n",
    "\n",
    "from ipywidgets import interact"
   ]
  },
  {
   "cell_type": "markdown",
   "metadata": {},
   "source": [
    "## Definición del ojo"
   ]
  },
  {
   "cell_type": "code",
   "execution_count": null,
   "metadata": {},
   "outputs": [],
   "source": [
    "eye_length = 23.465 * mm\n",
    "x0 = sp.linspace(-eye_length/4, eye_length/4, 1024*16)\n",
    "z0 = sp.linspace(-100*um, 9*mm, 1024*16)\n",
    "X, Z = ndgrid(x0, z0)\n",
    "wavelength = 550 * nm \n"
   ]
  },
  {
   "cell_type": "code",
   "execution_count": null,
   "metadata": {},
   "outputs": [],
   "source": [
    "u0 = Scalar_source_X(x0, wavelength)\n",
    "u0.plane_wave(A=1, theta=0 * degrees)"
   ]
  },
  {
   "cell_type": "code",
   "execution_count": null,
   "metadata": {},
   "outputs": [],
   "source": [
    "eye_simple = eye(x0, z0, wavelength, age=46, D=5, error=0, u0=u0, n_background=1.11, info='')\n",
    "i_cristalino=eye_simple.define_eye(diam_iris=6*mm, filtering=True, pixels_filtering=200)\n",
    "eye_simple.draw_refraction_index(draw_borders=True, scale='scaled',\n",
    "                                 colormap_kind=cm.gist_rainbow)"
   ]
  },
  {
   "cell_type": "code",
   "execution_count": null,
   "metadata": {},
   "outputs": [],
   "source": [
    "eye_simple.clear_field()\n",
    "eye_simple.BPM()"
   ]
  },
  {
   "cell_type": "code",
   "execution_count": null,
   "metadata": {},
   "outputs": [],
   "source": [
    "eye_simple.draw(logarithm=True, draw_borders=True, min_incr=0.005, scale='scaled', filename='')"
   ]
  },
  {
   "cell_type": "markdown",
   "metadata": {},
   "source": [
    "### Variación de la rugosidad en cristalino"
   ]
  },
  {
   "cell_type": "code",
   "execution_count": null,
   "metadata": {},
   "outputs": [],
   "source": [
    "x0 = sp.linspace(-eye_length/4, eye_length/4, 512)\n",
    "z0 = sp.linspace(-100*um, 9*mm, 512)\n",
    "X, Z = ndgrid(x0, z0)\n",
    "wavelength = 550 * nm \n",
    "\n",
    "eye_roughness = Scalar_mask_XZ(x0, z0, wavelength, n_background=1.11, info='')\n",
    "eye_roughness.roughness(t=(1000*um,1000*um), s=.25*um)\n",
    "eye_roughness.draw()"
   ]
  },
  {
   "cell_type": "markdown",
   "metadata": {},
   "source": [
    "### Ubicación de scattereadores"
   ]
  },
  {
   "cell_type": "code",
   "execution_count": null,
   "metadata": {},
   "outputs": [],
   "source": [
    "area_scatterer=sp.pi*(10*um)**2\n",
    "concentracion=0.0001\n",
    "\n",
    "plt.imshow(i_cristalino)\n",
    "delta_x=eye_simple.x[1]-eye_simple.x[0]\n",
    "delta_z=eye_simple.z[1]-eye_simple.z[0]\n",
    "area_cristalino=i_cristalino.sum()*delta_x*delta_z\n",
    "length_x=(eye_simple.x[-1]-eye_simple.x[0])\n",
    "length_z=(eye_simple.z[-1]-eye_simple.z[0])\n",
    "area_superficie=length_x*length_z\n",
    "\n",
    "\n",
    "\n",
    "Num_scatterers= int(area_cristalino*concentracion/(area_scatterer))\n",
    "\n",
    "num_total=int(Num_scatterers*(area_superficie/area_cristalino))\n",
    "\n",
    "print(delta_x, delta_z, area_cristalino*1e-6, Num_scatterers, num_total) #um, um, mm^2\n",
    "\n",
    "x_rand=eye_simple.x[0]+length_x*np.random.rand(num_total)\n",
    "z_rand=eye_simple.z[0]+length_z*np.random.rand(num_total)"
   ]
  },
  {
   "cell_type": "code",
   "execution_count": null,
   "metadata": {},
   "outputs": [],
   "source": [
    "x_rand,z_rand\n",
    "#están en todo el área. Asignar una posición en el tablero bidimensional y eliminar \n",
    "#los que están fuera del cristalino"
   ]
  },
  {
   "cell_type": "code",
   "execution_count": null,
   "metadata": {},
   "outputs": [],
   "source": [
    "eye_simple.draw_refraction_index(draw_borders=True, scale='scaled',\n",
    "                                 colormap_kind=cm.gist_rainbow)"
   ]
  },
  {
   "cell_type": "code",
   "execution_count": null,
   "metadata": {},
   "outputs": [],
   "source": [
    "eye_simple.check_intensity();\n",
    "plt.ylim(ymin=0)"
   ]
  },
  {
   "cell_type": "markdown",
   "metadata": {},
   "source": [
    "## Densidad de probabilidad"
   ]
  },
  {
   "cell_type": "code",
   "execution_count": null,
   "metadata": {},
   "outputs": [],
   "source": [
    "\"\"\"\n",
    "sigma: cross section\n",
    "g: coeficiente de asimetria\n",
    "p(theta): función defase\n",
    "N: particulas por unidad de volumen\"\"\"\n",
    "def phase_function(theta, g):\n",
    "    return (1-g**2)/(4*sp.pi*(1+g**2-2*g*sp.cos(theta)))"
   ]
  },
  {
   "cell_type": "code",
   "execution_count": null,
   "metadata": {},
   "outputs": [],
   "source": [
    "g=0.8\n",
    "theta=sp.linspace(0,2*sp.pi,360)\n",
    "plt.polar(theta, phase_function(theta,g))\n",
    "plt.title('phase_function: g={}'.format(g))"
   ]
  },
  {
   "cell_type": "markdown",
   "metadata": {},
   "source": [
    "## Determinación del gradiente"
   ]
  },
  {
   "cell_type": "code",
   "execution_count": null,
   "metadata": {},
   "outputs": [],
   "source": [
    "phase=sp.angle(eye_simple.u)"
   ]
  },
  {
   "cell_type": "code",
   "execution_count": null,
   "metadata": {},
   "outputs": [],
   "source": [
    "plt.imshow(phase)"
   ]
  },
  {
   "cell_type": "code",
   "execution_count": null,
   "metadata": {},
   "outputs": [],
   "source": [
    "gradiente=np.gradient(phase)\n",
    "gradiente=gradiente/"
   ]
  },
  {
   "cell_type": "code",
   "execution_count": null,
   "metadata": {},
   "outputs": [],
   "source": [
    "plt.quiver(eye_simple.X, eye_simple.Z, gradiente[0], gradiente[1], units='xy')"
   ]
  },
  {
   "cell_type": "code",
   "execution_count": null,
   "metadata": {},
   "outputs": [],
   "source": [
    "x=3"
   ]
  },
  {
   "cell_type": "markdown",
   "metadata": {},
   "source": [
    "## Inclusión de scattereadores\n",
    "\n",
    "Suponemos que tenemos N particulas scattereadoras. Las vamos a colocar dentro del cristalino.\n",
    "Estas partículas van a difundir la luz, según un % de la luz que la llega, en otras direcciones.\n",
    "En esta primera aproximación vamos a suponer que la dirección es k=(0,1)\n",
    "\n"
   ]
  }
 ],
 "metadata": {
  "kernelspec": {
   "display_name": "Python 2",
   "language": "python",
   "name": "python2"
  },
  "language_info": {
   "codemirror_mode": {
    "name": "ipython",
    "version": 2
   },
   "file_extension": ".py",
   "mimetype": "text/x-python",
   "name": "python",
   "nbconvert_exporter": "python",
   "pygments_lexer": "ipython2",
   "version": "2.7.15+"
  },
  "toc": {
   "base_numbering": 1,
   "nav_menu": {},
   "number_sections": true,
   "sideBar": true,
   "skip_h1_title": false,
   "title_cell": "Table of Contents",
   "title_sidebar": "Contents",
   "toc_cell": false,
   "toc_position": {},
   "toc_section_display": true,
   "toc_window_display": false
  },
  "varInspector": {
   "cols": {
    "lenName": 16,
    "lenType": 16,
    "lenVar": 40
   },
   "kernels_config": {
    "python": {
     "delete_cmd_postfix": "",
     "delete_cmd_prefix": "del ",
     "library": "var_list.py",
     "varRefreshCmd": "print(var_dic_list())"
    },
    "r": {
     "delete_cmd_postfix": ") ",
     "delete_cmd_prefix": "rm(",
     "library": "var_list.r",
     "varRefreshCmd": "cat(var_dic_list()) "
    }
   },
   "types_to_exclude": [
    "module",
    "function",
    "builtin_function_or_method",
    "instance",
    "_Feature"
   ],
   "window_display": false
  }
 },
 "nbformat": 4,
 "nbformat_minor": 2
}
