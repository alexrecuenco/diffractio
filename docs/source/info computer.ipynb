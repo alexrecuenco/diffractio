{
 "cells": [
  {
   "cell_type": "markdown",
   "metadata": {},
   "source": [
    "#  Benchmarks"
   ]
  },
  {
   "cell_type": "code",
   "execution_count": 1,
   "metadata": {},
   "outputs": [],
   "source": [
    "import multiprocessing\n",
    "import platform\n",
    "import socket\n"
   ]
  },
  {
   "cell_type": "markdown",
   "metadata": {},
   "source": [
    "## Number of cores"
   ]
  },
  {
   "cell_type": "code",
   "execution_count": 2,
   "metadata": {},
   "outputs": [
    {
     "name": "stdout",
     "output_type": "stream",
     "text": [
      "8\n"
     ]
    }
   ],
   "source": [
    "max_num_cores = multiprocessing.cpu_count()\n",
    "print(max_num_cores)"
   ]
  },
  {
   "cell_type": "markdown",
   "metadata": {},
   "source": [
    "## Computer info"
   ]
  },
  {
   "cell_type": "code",
   "execution_count": 3,
   "metadata": {},
   "outputs": [],
   "source": [
    "socket.gethostname()"
   ]
  },
  {
   "cell_type": "code",
   "execution_count": 4,
   "metadata": {},
   "outputs": [
    {
     "name": "stdout",
     "output_type": "stream",
     "text": [
      "User number 1000\n",
      "\n",
      "Process ID 39072\n",
      "\n",
      "Current Directory /home/luismiguel/bitbucket/diffractio/tests\n",
      "\n",
      "System information posix.uname_result(sysname='Linux', nodename='luismiguel-Lenovo-Z500', release='5.15.0-50-generic', version='#56-Ubuntu SMP Tue Sep 20 13:23:26 UTC 2022', machine='x86_64')\n",
      "\n",
      "System information posix.times_result(user=1.69, system=0.16, children_user=0.0, children_system=0.0, elapsed=17195544.42)\n",
      "\n",
      "Time is now 1665587793.3072574\n",
      "\n",
      "Which interprets as Wed Oct 12 17:16:33 2022\n"
     ]
    }
   ],
   "source": [
    "import os\n",
    "import time\n",
    "\n",
    "unumber = os.getuid()\n",
    "pnumber = os.getpid()\n",
    "where = os.getcwd()\n",
    "what = os.uname()\n",
    "used = os.times()\n",
    "now = time.time()\n",
    "means = time.ctime(now)\n",
    "\n",
    "print(\"User number\",unumber)\n",
    "print(\"\\nProcess ID\",pnumber)\n",
    "print(\"\\nCurrent Directory\",os.getcwd())\n",
    "print(\"\\nSystem information\",os.uname())\n",
    "print(\"\\nSystem information\",used)\n",
    "\n",
    "print(\"\\nTime is now\",now)\n",
    "print(\"\\nWhich interprets as\",means)"
   ]
  },
  {
   "cell_type": "code",
   "execution_count": null,
   "metadata": {},
   "outputs": [],
   "source": []
  }
 ],
 "metadata": {
  "kernelspec": {
   "display_name": "Python 3.6.9 64-bit",
   "language": "python",
   "name": "python3"
  },
  "language_info": {
   "codemirror_mode": {
    "name": "ipython",
    "version": 3
   },
   "file_extension": ".py",
   "mimetype": "text/x-python",
   "name": "python",
   "nbconvert_exporter": "python",
   "pygments_lexer": "ipython3",
   "version": "3.10.6"
  },
  "vscode": {
   "interpreter": {
    "hash": "31f2aee4e71d21fbe5cf8b01ff0e069b9275f58929596ceb00d14d90e3e16cd6"
   }
  }
 },
 "nbformat": 4,
 "nbformat_minor": 4
}
