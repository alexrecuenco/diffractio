{
 "cells": [
  {
   "cell_type": "markdown",
   "metadata": {},
   "source": [
    "#  Benchmarks"
   ]
  },
  {
   "cell_type": "code",
   "execution_count": 1,
   "metadata": {},
   "outputs": [],
   "source": [
    "import multiprocessing\n",
    "import platform\n",
    "import socket\n"
   ]
  },
  {
   "cell_type": "markdown",
   "metadata": {},
   "source": [
    "## Number of cores"
   ]
  },
  {
   "cell_type": "code",
   "execution_count": 2,
   "metadata": {},
   "outputs": [
    {
     "name": "stdout",
     "output_type": "stream",
     "text": [
      "8\n"
     ]
    }
   ],
   "source": [
    "max_num_cores = multiprocessing.cpu_count()\n",
    "print(max_num_cores)"
   ]
  },
  {
   "cell_type": "markdown",
   "metadata": {},
   "source": [
    "## Computer info"
   ]
  },
  {
   "cell_type": "code",
   "execution_count": 3,
   "metadata": {},
   "outputs": [
    {
     "data": {
      "text/plain": [
       "'luismiguel-lenovo'"
      ]
     },
     "execution_count": 3,
     "metadata": {},
     "output_type": "execute_result"
    }
   ],
   "source": [
    "socket.gethostname()"
   ]
  },
  {
   "cell_type": "code",
   "execution_count": 4,
   "metadata": {},
   "outputs": [
    {
     "name": "stdout",
     "output_type": "stream",
     "text": [
      "User number 1000\n",
      "\n",
      "Process ID 13691\n",
      "\n",
      "Current Directory /home/luismiguel/bitbucket/diffractio/development/tests_help\n",
      "\n",
      "System information posix.uname_result(sysname='Linux', nodename='luismiguel-lenovo', release='5.4.0-72-generic', version='#80-Ubuntu SMP Mon Apr 12 17:35:00 UTC 2021', machine='x86_64')\n",
      "\n",
      "System information posix.times_result(user=0.82, system=0.08, children_user=0.0, children_system=0.0, elapsed=17180123.27)\n",
      "\n",
      "Time is now 1620737254.7281723\n",
      "\n",
      "Which interprets as Tue May 11 14:47:34 2021\n"
     ]
    }
   ],
   "source": [
    "import os\n",
    "import time\n",
    "\n",
    "unumber = os.getuid()\n",
    "pnumber = os.getpid()\n",
    "where = os.getcwd()\n",
    "what = os.uname()\n",
    "used = os.times()\n",
    "now = time.time()\n",
    "means = time.ctime(now)\n",
    "\n",
    "print(\"User number\",unumber)\n",
    "print(\"\\nProcess ID\",pnumber)\n",
    "print(\"\\nCurrent Directory\",os.getcwd())\n",
    "print(\"\\nSystem information\",os.uname())\n",
    "print(\"\\nSystem information\",used)\n",
    "\n",
    "print(\"\\nTime is now\",now)\n",
    "print(\"\\nWhich interprets as\",means)"
   ]
  }
 ],
 "metadata": {
  "kernelspec": {
   "display_name": "Python 3",
   "language": "python",
   "name": "python3"
  },
  "language_info": {
   "codemirror_mode": {
    "name": "ipython",
    "version": 3
   },
   "file_extension": ".py",
   "mimetype": "text/x-python",
   "name": "python",
   "nbconvert_exporter": "python",
   "pygments_lexer": "ipython3",
   "version": "3.8.5"
  }
 },
 "nbformat": 4,
 "nbformat_minor": 4
}
