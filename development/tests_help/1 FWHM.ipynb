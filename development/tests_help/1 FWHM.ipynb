{
 "cells": [
  {
   "cell_type": "markdown",
   "metadata": {},
   "source": [
    "# Anchura de foco según FWHM\n",
    "\n",
    "HWHM = FWHM/2\n",
    "\n",
    "Hemos probado que funciona bien para muchos puntos, pero cuando hay pocos está saliendo regular.\n",
    "Vamos a ver cómo podemos interpolar"
   ]
  },
  {
   "cell_type": "markdown",
   "metadata": {},
   "source": [
    "https://stackoverflow.com/questions/51953829/find-x-and-y-full-width-half-maximums-of-2d-peak-using-interpolation"
   ]
  },
  {
   "cell_type": "code",
   "execution_count": 20,
   "metadata": {},
   "outputs": [],
   "source": [
    "import numpy as np\n",
    "import matplotlib.pyplot as plt\n",
    "\n",
    "from diffractio.utils_math import nearest, FWHM2D_back"
   ]
  },
  {
   "cell_type": "code",
   "execution_count": 2,
   "metadata": {},
   "outputs": [
    {
     "name": "stdout",
     "output_type": "stream",
     "text": [
      "35.32230067546424\n"
     ]
    }
   ],
   "source": [
    "\n",
    "x=np.linspace(-100,100,101)\n",
    "y=np.linspace(-100,100,101)\n",
    "\n",
    "delta_x=x[1]-x[0]\n",
    "delta_y=y[1]-y[0]\n",
    "\n",
    "X,Y=np.meshgrid(x,y)\n",
    "radius=15\n",
    "\n",
    "data1D=5*np.exp(-(x**2)/(2*radius**2))+0*np.random.rand(len(x))\n",
    "\n",
    "data2D=np.exp(-(X**2+Y**2)/(2*radius**2))+0*np.random.rand(len(x),len(y))\n",
    "\n",
    "\n",
    "teor_FWHM=2*radius*np.sqrt(-2*np.log(0.5))\n",
    "\n",
    "print(teor_FWHM)"
   ]
  },
  {
   "cell_type": "code",
   "execution_count": 3,
   "metadata": {},
   "outputs": [
    {
     "data": {
      "text/plain": [
       "[<matplotlib.lines.Line2D at 0x7fedfed7e358>]"
      ]
     },
     "execution_count": 3,
     "metadata": {},
     "output_type": "execute_result"
    },
    {
     "data": {
      "image/png": "[encoded data removed]",
      "text/plain": [
       "<Figure size 432x288 with 1 Axes>"
      ]
     },
     "metadata": {
      "needs_background": "light"
     },
     "output_type": "display_data"
    }
   ],
   "source": [
    "plt.plot(x,data1D,'ko')"
   ]
  },
  {
   "cell_type": "code",
   "execution_count": 4,
   "metadata": {},
   "outputs": [
    {
     "data": {
      "text/plain": [
       "<matplotlib.image.AxesImage at 0x7fedfec9e780>"
      ]
     },
     "execution_count": 4,
     "metadata": {},
     "output_type": "execute_result"
    },
    {
     "data": {
      "image/png": "[encoded data removed]",
      "text/plain": [
       "<Figure size 432x288 with 1 Axes>"
      ]
     },
     "metadata": {
      "needs_background": "light"
     },
     "output_type": "display_data"
    }
   ],
   "source": [
    "plt.imshow(data2D)"
   ]
  },
  {
   "cell_type": "code",
   "execution_count": 5,
   "metadata": {},
   "outputs": [],
   "source": [
    "def FWHM2D(x,y,I,percentaje=0.5,has_draw=True):\n",
    "    amp = np.max(I)\n",
    "    ypix, xpix = np.where(I==amp)\n",
    "    \n",
    "    delta_x=x[1]-x[0]\n",
    "    delta_y=y[1]-y[0]\n",
    "    \n",
    "    x_range = np.take(I, ypix[0], axis=0)\n",
    "    y_range = np.take(I, xpix[0], axis=1)\n",
    "\n",
    "    half_max = amp*percentaje\n",
    "    d_x = x_range - half_max\n",
    "    d_y = y_range - half_max\n",
    "    indices_x = np.where(d_x>0)[0]\n",
    "    indices_y = np.where(d_y>0)[0]\n",
    "\n",
    "    # FMHM in x and y - simply counts how many pixels are within \n",
    "    # half the max in both directions\n",
    "    width_x = len(indices_x)\n",
    "    width_y = len(indices_y)\n",
    "\n",
    "    FWHM_x=width_x*delta_x\n",
    "    FWHM_y=width_y*delta_y\n",
    "    return FWHM_x, FWHM_y"
   ]
  },
  {
   "cell_type": "code",
   "execution_count": 6,
   "metadata": {},
   "outputs": [],
   "source": [
    "def FWHM2D_new(x,y,I,percentaje=0.5,has_draw=True):\n",
    "    Ix = I.sum(axis=0)\n",
    "    Iy = I.sum(axis=1)\n",
    "    \n",
    "    FWHM_x=FWHM1D(x,Ix,percentaje,has_draw)\n",
    "    FWHM_y=FWHM1D(y,Iy,percentaje,has_draw)\n",
    "    \n",
    "    return FWHM_x, FWHM_y"
   ]
  },
  {
   "cell_type": "code",
   "execution_count": 7,
   "metadata": {},
   "outputs": [],
   "source": [
    "def FWHM1D(x,I,percentaje=0.5,has_draw=True):\n",
    "    delta_x=x[1]-x[0]\n",
    "    amp_max=I.max()\n",
    "    amp_med=amp_max/2\n",
    "    i_max = np.where(I==amp_max)\n",
    "    i_max=int(i_max[0])\n",
    "    left=I[0:i_max]\n",
    "    right=I[i_max::]\n",
    "\n",
    "\n",
    "    i_left,_,distance_left=nearest(left,percentaje*amp_max)\n",
    "    slope_left=(I[i_left+1]-I[i_left])/delta_x\n",
    "\n",
    "    i_right,_,distance_right=nearest(right,percentaje*amp_max)\n",
    "    slope_right=(I[i_max+i_right]-I[i_max+i_right-1])/delta_x\n",
    "\n",
    "    i_right=i_right+i_max\n",
    "    \n",
    "    x_right=i_right*delta_x-distance_right/slope_right\n",
    "    x_left=i_left*delta_x-distance_left/slope_left\n",
    "\n",
    "    FWHM_x=x_right-x_left\n",
    "\n",
    "    if has_draw is True:\n",
    "        plt.figure()\n",
    "\n",
    "        plt.plot(x,I,'k',lw=2)\n",
    "        plt.plot([x[0],x[-1]],[amp_max,amp_max],'r--' )\n",
    "        plt.plot([x[0],x[-1]],[amp_med,amp_med],'r--' )\n",
    "\n",
    "        plt.plot(x[i_max],I[i_max],'ro',ms=8)\n",
    "        plt.plot(x[int(i_left)]+distance_left,I[int(i_left)],'ro',ms=8)\n",
    "        plt.plot(x[int(i_right)]+distance_right,I[int(i_right)],'ro',ms=8)\n",
    "\n",
    "    \n",
    "    return FWHM_x"
   ]
  },
  {
   "cell_type": "markdown",
   "metadata": {},
   "source": [
    "## Comprobaciones"
   ]
  },
  {
   "cell_type": "code",
   "execution_count": 8,
   "metadata": {},
   "outputs": [],
   "source": [
    "def conversor_gauss(FWHM):\n",
    "    return FWHM/(np.sqrt(-2*np.log(0.5)))\n"
   ]
  },
  {
   "cell_type": "markdown",
   "metadata": {},
   "source": [
    "### 1D unitario"
   ]
  },
  {
   "cell_type": "code",
   "execution_count": 9,
   "metadata": {},
   "outputs": [
    {
     "data": {
      "image/png": "[encoded data removed]",
      "text/plain": [
       "<Figure size 432x288 with 1 Axes>"
      ]
     },
     "metadata": {
      "needs_background": "light"
     },
     "output_type": "display_data"
    }
   ],
   "source": [
    "FWHM_1D=FWHM1D(x,data1D, percentaje=0.5, has_draw=True)\n",
    "# print(FWHM_1D, teor_FWHM)\n",
    "# print(conversor_gauss(FWHM_1D))"
   ]
  },
  {
   "cell_type": "code",
   "execution_count": 10,
   "metadata": {},
   "outputs": [],
   "source": [
    "FWHM_x,FWHM_y=FWHM2D(x,y,data2D,percentaje=0.5,has_draw=True)"
   ]
  },
  {
   "cell_type": "code",
   "execution_count": 11,
   "metadata": {},
   "outputs": [
    {
     "name": "stdout",
     "output_type": "stream",
     "text": [
      "34.0 34.0 35.32230067546424\n"
     ]
    }
   ],
   "source": [
    "print(FWHM_x,FWHM_y, teor_FWHM)"
   ]
  },
  {
   "cell_type": "markdown",
   "metadata": {},
   "source": [
    "### 1D bucle for"
   ]
  },
  {
   "cell_type": "code",
   "execution_count": 12,
   "metadata": {},
   "outputs": [],
   "source": [
    "beam_widths=np.linspace(2,6,101)\n",
    "estimated_beam_widths=np.zeros_like(beam_widths)"
   ]
  },
  {
   "cell_type": "code",
   "execution_count": 13,
   "metadata": {},
   "outputs": [],
   "source": [
    "x=np.linspace(-50,50,101)\n",
    "\n",
    "for i,bw in enumerate(beam_widths):\n",
    "    radius=bw/2\n",
    "\n",
    "    data1D=5*np.exp(-(x**2)/(2*radius**2))+0*np.random.rand(len(x))\n",
    "    FWHM_1D=FWHM1D(x,data1D, percentaje=0.5, has_draw=False)\n",
    "    estimated_beam_widths[i]=conversor_gauss(FWHM_1D)"
   ]
  },
  {
   "cell_type": "code",
   "execution_count": 14,
   "metadata": {},
   "outputs": [
    {
     "data": {
      "text/plain": [
       "[<matplotlib.lines.Line2D at 0x7fedfebffa58>]"
      ]
     },
     "execution_count": 14,
     "metadata": {},
     "output_type": "execute_result"
    },
    {
     "data": {
      "image/png": "[encoded data removed]",
      "text/plain": [
       "<Figure size 432x288 with 1 Axes>"
      ]
     },
     "metadata": {
      "needs_background": "light"
     },
     "output_type": "display_data"
    }
   ],
   "source": [
    "plt.figure()\n",
    "plt.plot(beam_widths,estimated_beam_widths,'ko')"
   ]
  },
  {
   "cell_type": "markdown",
   "metadata": {},
   "source": [
    "### 2D unitario"
   ]
  },
  {
   "cell_type": "code",
   "execution_count": 15,
   "metadata": {},
   "outputs": [],
   "source": [
    "x=np.linspace(-50,50,101)\n",
    "y=np.linspace(-50,50,101)\n",
    "\n",
    "delta_x=x[1]-x[0]\n",
    "delta_y=y[1]-y[0]\n",
    "\n",
    "X,Y=np.meshgrid(x,y)\n",
    "radius=(20,40)\n",
    "\n",
    "\n",
    "data2D=np.exp(-(X**2/(2*radius[0]**2)+Y**2/(2*radius[1]**2)))+0*np.random.rand(len(y),len(x))\n"
   ]
  },
  {
   "cell_type": "code",
   "execution_count": 23,
   "metadata": {},
   "outputs": [
    {
     "name": "stdout",
     "output_type": "stream",
     "text": [
      "(47.0, 95.0)\n"
     ]
    }
   ],
   "source": [
    "FWHM_2D=FWHM2D(x,y,data2D, percentaje=0.5, has_draw=True)\n",
    "print((FWHM_2D))\n"
   ]
  },
  {
   "cell_type": "code",
   "execution_count": 24,
   "metadata": {},
   "outputs": [
    {
     "name": "stdout",
     "output_type": "stream",
     "text": [
      "[40.00341979 79.99930339]\n"
     ]
    },
    {
     "data": {
      "image/png": "[encoded data removed]",
      "text/plain": [
       "<Figure size 432x288 with 1 Axes>"
      ]
     },
     "metadata": {
      "needs_background": "light"
     },
     "output_type": "display_data"
    },
    {
     "data": {
      "image/png": "[encoded data removed]",
      "text/plain": [
       "<Figure size 432x288 with 1 Axes>"
      ]
     },
     "metadata": {
      "needs_background": "light"
     },
     "output_type": "display_data"
    }
   ],
   "source": [
    "\n",
    "\n",
    "FWHM_2D=FWHM2D_new(x,y,data2D, percentaje=0.5, has_draw=True)\n",
    "print(conversor_gauss(FWHM_2D))"
   ]
  },
  {
   "cell_type": "code",
   "execution_count": null,
   "metadata": {},
   "outputs": [],
   "source": []
  },
  {
   "cell_type": "code",
   "execution_count": null,
   "metadata": {},
   "outputs": [],
   "source": []
  },
  {
   "cell_type": "code",
   "execution_count": null,
   "metadata": {},
   "outputs": [],
   "source": []
  }
 ],
 "metadata": {
  "kernelspec": {
   "display_name": "Python 3",
   "language": "python",
   "name": "python3"
  },
  "language_info": {
   "codemirror_mode": {
    "name": "ipython",
    "version": 3
   },
   "file_extension": ".py",
   "mimetype": "text/x-python",
   "name": "python",
   "nbconvert_exporter": "python",
   "pygments_lexer": "ipython3",
   "version": "3.6.8"
  },
  "toc": {
   "nav_menu": {},
   "number_sections": true,
   "sideBar": true,
   "skip_h1_title": false,
   "toc_cell": false,
   "toc_position": {},
   "toc_section_display": "block",
   "toc_window_display": false
  },
  "varInspector": {
   "cols": {
    "lenName": 16,
    "lenType": 16,
    "lenVar": 40
   },
   "kernels_config": {
    "python": {
     "delete_cmd_postfix": "",
     "delete_cmd_prefix": "del ",
     "library": "var_list.py",
     "varRefreshCmd": "print(var_dic_list())"
    },
    "r": {
     "delete_cmd_postfix": ") ",
     "delete_cmd_prefix": "rm(",
     "library": "var_list.r",
     "varRefreshCmd": "cat(var_dic_list()) "
    }
   },
   "types_to_exclude": [
    "module",
    "function",
    "builtin_function_or_method",
    "instance",
    "_Feature"
   ],
   "window_display": false
  }
 },
 "nbformat": 4,
 "nbformat_minor": 2
}
